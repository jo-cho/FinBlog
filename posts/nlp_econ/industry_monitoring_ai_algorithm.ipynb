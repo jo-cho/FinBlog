{
 "cells": [
  {
   "cell_type": "raw",
   "id": "bf623726-a75a-49e2-88e3-22a7b6a28f74",
   "metadata": {
    "vscode": {
     "languageId": "raw"
    }
   },
   "source": [
    "---\n",
    "title: \"AI 산업 모니터링\"\n",
    "subtitle: \"Industry Monitoring using AI algorithm\"\n",
    "author: \"Cheonghyo Cho\"\n",
    "categories: [sentiment, natural language processing, bert]\n",
    "image: \"img/inmo_01.png\"\n",
    "---"
   ]
  },
  {
   "cell_type": "markdown",
   "id": "12d488fe-9050-49b1-ab86-4cbd026c4814",
   "metadata": {},
   "source": [
    "> <서범석. 2023. \"AI 알고리즘을 이용한 산업 모니터링: 증권사 리포트 텍스트 분석\", BOK 이슈노트 제 2023-5호, 한국은행.>을 소개한다. 이 연구는 자연어처리 등 통계 기법을 이용하여, 증권사 애널리스트의 기업 평가 보고서를 토대로 산업별 모니터링 정보를 추출하였다."
   ]
  },
  {
   "cell_type": "markdown",
   "id": "263a6d66-7d08-4084-b9ce-865b04d90088",
   "metadata": {},
   "source": [
    "**논문 요약**"
   ]
  },
  {
   "cell_type": "markdown",
   "id": "1e0725e2-3589-479b-a7ae-357d8155b48a",
   "metadata": {},
   "source": [
    "# 선행연구"
   ]
  },
  {
   "cell_type": "markdown",
   "id": "a345d8ae-7a30-476a-bbaf-329c74a62361",
   "metadata": {},
   "source": [
    "## 경제 분석을 위한 자연어 처리의 활용\n",
    "\n",
    "- 데이터\n",
    "  - 뉴스 텍스트: 언론 견해 반영 (Baker et al., 2016; Shapiro et al., 2020).\n",
    "  - SNS 및 검색 데이터 (Sun et al., 2016).\n",
    "  - 기업 회계 및 평가 보고서(Lewis and Young, 2019).\n",
    "- 기존 연구의 초점:\n",
    "  - 사전접근법 또는 통계 모형 기반의 감성분석(sentiment analysis) 및 토픽 모델링\n",
    "  - 최근은 복잡한 인공신경망 모형 이용\n",
    "- 분석\n",
    "  - 물가, 주가 등 가격지표 예측(Kalamara et al. 2022, Li et al. 2020)\n",
    "  - 위기 지표, 불확실성 지표 등 새로운 경제정보 산출(Li et al 2009, Baker et al 2016)\n",
    "  - 사기 탐지(fraudulent detection)(Li et al. 2020)\n",
    "  - 기업의 지속가능성 분류(Te Liew et al. 2014)\n",
    "  - 신용 평가(credit scoring)(Yap et al. 2011)\n",
    "- 국내 연구\n",
    "  - Lee et al. (2019): 뉴스 텍스트 분석을 통해 통화정책 서프라이즈 지수를 산출.\n",
    "  - 서범석(2022a): 뉴스 텍스트로 경기 예측 및 부문별 텍스트 지표 개발.\n",
    "  - Seo et al. (2022b): 트랜스포머(Transformer) 기반의 뉴스심리지수 개발.\n",
    "  - 한승욱 외(2022): 인플레이션 어조지수 평가.\n",
    "  - 트위터 데이터 활용 핀테크 트렌드 분석 (김도희·김민정, 2022).\n",
    "  - ESG 보고서를 통한 ESG 방향성 평가 (박수빈·이용규, 2022).\n",
    "- 본 연구의 차별점\n",
    "  - 대부분의 기존 연구는 단순 경제 지표 예측 또는 일회성 평가에 집중.\n",
    "  - 본 연구는 산업별 업황 분석 및 변동요인 파악에 유용한 텍스트 지표를 제시하고, 추정 과정의 알고리즘화 가능성을 논함"
   ]
  },
  {
   "cell_type": "markdown",
   "id": "966ea89e-c3d7-44c7-80b3-ed48ab0b1d08",
   "metadata": {},
   "source": [
    "# 데이터\n",
    "\n",
    "## 리포트 수집 \n",
    "- 2019년~2022년 증권사 기업 평가 보고서 12만 8천건 수집\n",
    "  - 52개 증권사 1,079명의 애널리스트가 작성한 2,283개 기업에 대한 기업 분석 보고서로 월평균 2천 문건\n",
    "  - 산업 및 거시 분석 보고는 제외, 개별 기업 분석 보고서만 수집\n",
    "  - 개별 기업에 대한 미시적 평가를 바탕으로 국가 전체에 대한 거시적 효과를 분석하기 위함\n",
    " \n",
    "- 보고서 발간 시점 기준으로, 분기별로 취합"
   ]
  },
  {
   "cell_type": "markdown",
   "id": "309e77e9-5895-469e-9311-591d25cf0df4",
   "metadata": {},
   "source": [
    "<img src='img/inmo_t1.png' width='700'>"
   ]
  },
  {
   "cell_type": "markdown",
   "id": "99136b68-ad1d-4631-9341-b45b9e204782",
   "metadata": {},
   "source": [
    "## 텍스트 데이터 추출"
   ]
  },
  {
   "cell_type": "markdown",
   "id": "e5e9c7ca-5832-4c0a-8dc3-8e1ecfca8079",
   "metadata": {},
   "source": [
    "- 전처리 과정\n",
    "  - Bag-of-words 데이터로 전환\n",
    "  - 중복 문장, 단순 수치 언급, 이해관계 고지 등 문장 제거로 약 145만개 유효 문장 선별\n",
    "  - 약 145만개의 유효 문장 선별 "
   ]
  },
  {
   "cell_type": "markdown",
   "id": "cb668b49-33fa-4098-9047-ee627bb3f632",
   "metadata": {},
   "source": [
    "# 텍스트 기반 산업 모니터링 정보 추출"
   ]
  },
  {
   "cell_type": "markdown",
   "id": "bb17300a-fb43-4de6-9e01-452e5e7e8ed0",
   "metadata": {},
   "source": [
    "## 텍스트 기반 업황 지수(Text-based Business Confidence Indicator, TBCI)\n",
    "\n",
    "- **감성분석**(**sentiment analysis**) 모형 적용\n",
    "  - 트랜스포머(transformer) 기반의 통계 모형 구축\n",
    "  - 문장을 긍정, 부정 또는 중립으로 분류\n",
    "  - 미리 학습한 Pre-trained 모형에 [Seo et al.(2022 b)](https://jo-cho.github.io/FinBlog/posts/nlp/news_sentiment_index.html)의 뉴스 데이터 일부 학습"
   ]
  },
  {
   "cell_type": "markdown",
   "id": "b95e1831-371b-4f7d-b2ec-c94b078d8a40",
   "metadata": {},
   "source": [
    "$TBCI_{i,t} = \\frac{X_{i,t} - \\overline{X}_{i,.}}{s_{i,.}} \\times 10 + 100,$\n",
    "\n",
    "$X_{i,t} = \\frac{\\sum_{s \\in S_{i,t}} \\left[I(s \\in P) - I(s \\in N)\\right]}{\\sum_{s \\in S_{i,t}} \\left[I(s \\in P) + I(s \\in N)\\right]},$\n",
    "\n",
    "$\\overline{X}_{i,.} = \\frac{\\sum_{t} X_{i,t}}{T},$\n",
    "\n",
    "$s_{i,.} = \\sqrt{\\frac{\\sum_{t} (X_{i,t} - \\overline{X}_{i,.})^2}{T - 1}}.$"
   ]
  },
  {
   "cell_type": "markdown",
   "id": "9ce0277c-bb27-4cec-8bd4-4c53b865ba00",
   "metadata": {},
   "source": [
    "- $P$와 $N$은 각각 가능한 모든 긍정 및 부정 문장의 집합\n",
    "- $S_{i,t}$는 증권사 리포트에서 추출한 업종 $i$의 $t$기 문장 샘플 중복집합(multiset) "
   ]
  },
  {
   "cell_type": "markdown",
   "id": "50082592-997b-4776-b558-3da711694781",
   "metadata": {},
   "source": [
    "즉, 업황 $TBCI_{i,t}$는 업종 $i$와 관련한 증권사 리포트의 문장 논조를 분류한 뒤, 산출한 긍정 문장과 부정 문장 수의 차이를 두 수의 합계로 나누어 추정하고, 장기평균을 이용해 표준화하여 산출"
   ]
  },
  {
   "cell_type": "markdown",
   "id": "95cc538c-2834-4ff5-8b51-62d05b464df5",
   "metadata": {},
   "source": [
    "<img src='img/inmo_f1.png' width='400'>"
   ]
  },
  {
   "cell_type": "markdown",
   "id": "eb077b13-0649-47ae-a28c-6c280f91550c",
   "metadata": {},
   "source": [
    "## 기업경영환경 변화 요인표 (Business Condition Factors, BC-factors)"
   ]
  },
  {
   "cell_type": "markdown",
   "id": "dbf88f21-8e80-489d-9cbc-9cc00bd9ad74",
   "metadata": {},
   "source": [
    "- **키워드 빈도 분석** 적용\n",
    "  - 경제적으로 의미 없는 불용어 제거\n",
    "  - 문장구조를 요인, 관계언, 평가 로 분해하여 요인 표현 품사 제거 후 Trigram 방법으로 기업경영환경 변화요인 추정\n",
    "    - (예) ‘신모델 출시 효과로 전분기 대비 판매 호조를 보이면서 매출과 영업이익에서 견조한 성장세’ 에서 신모델·출시·효과, \n",
    "판매·호조·보이"
   ]
  },
  {
   "cell_type": "markdown",
   "id": "efbd10a1-cc02-418e-9fbe-b8968b656c69",
   "metadata": {},
   "source": [
    "$BC\\text{-factors}^5_{i,t} = \\{ (\\omega^{[K]}, \\dots, \\omega^{[K-4]}) \\mid \\omega^{[k]} = f(v_{(k)}) \\\\ \n",
    ",  v = m_{U_{i,t} \\setminus W}(\\omega), \n",
    "\\\\ v_{(k)} \\text{ is the } k^\\text{th} \\text{ order statistic of } v. \\}$"
   ]
  },
  {
   "cell_type": "markdown",
   "id": "3af54f9d-2cb4-4a4d-b36a-8b382548752b",
   "metadata": {},
   "source": [
    "- $U_{i,t}$는 증권사 리포트에서 추출한 업종 $i$의 $t$기 Trigram 패턴 샘플의 중복집합\n",
    "- $m_A(\\omega)$는 multiplicity function, 즉 $A$에 나타나는 $\\omega$의 개수\n",
    "- $W$는 Trigram 패턴 불용어 집합\n",
    "- $K$는 불용어를 제외한 Trigram 패턴의 수, 즉 $K =|Supp(U_{i,t}＼W)|$"
   ]
  },
  {
   "cell_type": "markdown",
   "id": "d5d1eba8-c735-4ebc-9270-a128cbea5574",
   "metadata": {},
   "source": [
    "<img src='img/inmo_f3.png' width='800'>"
   ]
  },
  {
   "cell_type": "markdown",
   "id": "73cbd164",
   "metadata": {},
   "source": [
    "## 주요 이벤트의 영향도 (Text-based Impact of an Event Indicator, TIEI)"
   ]
  },
  {
   "cell_type": "markdown",
   "id": "a9ca400d",
   "metadata": {
    "vscode": {
     "languageId": "raw"
    }
   },
   "source": [
    "- TIEI(Text-based Impact of an Event Indicator)는 특정 이벤트(예: 금리 변동, 환율 상승, 전쟁, 코로나 등)가 업종별로 얼마나 중요한 영향을 미치는지를 정량적으로 측정하는 지표\n",
    "\n",
    "산출 방법\n",
    "- 증권사 리포트에서 특정 키워드(이벤트 관련 단어)의 등장 빈도를 측정하여 해당 이벤트가 업종별로 얼마나 언급되는지를 확인\n",
    "- TIEI는 특정 이벤트 키워드를 포함하는 문장 수를 전체 문장 수로 나눈 값으로 계산\n",
    "\n",
    "$$$$ "
   ]
  },
  {
   "cell_type": "markdown",
   "id": "e05ba8e7",
   "metadata": {
    "vscode": {
     "languageId": "raw"
    }
   },
   "source": [
    "$TIEI_{i,t} = \\frac{\\sum_{s \\in S_{i,t}} I(s \\in A_w)}{|S_{i,t}|} \\times 100$\n",
    "\n",
    "- $A_w$ : 단어군 $w$를 포함하는 문장의 집합"
   ]
  },
  {
   "cell_type": "markdown",
   "id": "b53027da",
   "metadata": {
    "vscode": {
     "languageId": "raw"
    }
   },
   "source": [
    "- TIEI 값이 클수록 해당 이벤트가 업종 내에서 중요하게 다뤄지고 있음을 의미"
   ]
  },
  {
   "cell_type": "markdown",
   "id": "be6cef66",
   "metadata": {
    "vscode": {
     "languageId": "raw"
    }
   },
   "source": [
    "<img src='img/inmo_f4.png' width='500'>"
   ]
  },
  {
   "cell_type": "markdown",
   "id": "84ac99c7",
   "metadata": {},
   "source": [
    "## 주요 이벤트에 대한 평가 (Text-based Evaluation of an Event Indicator, TEEI)"
   ]
  },
  {
   "cell_type": "markdown",
   "id": "14fdc6c1",
   "metadata": {
    "vscode": {
     "languageId": "raw"
    }
   },
   "source": [
    "- TEEI는 특정 이벤트에 대해 증권사 애널리스트들이 긍정적으로 평가하는지, 부정적으로 평가하는지를 정량적으로 측정하는 지표\n",
    "\n",
    "- 즉, TIEI가 \"이벤트가 얼마나 중요하게 다뤄졌는지\"를 측정한다면, TEEI는 특정 이벤트가 업종별로 호재인지 악재인지 판단"
   ]
  },
  {
   "cell_type": "markdown",
   "id": "bb617663",
   "metadata": {
    "vscode": {
     "languageId": "raw"
    }
   },
   "source": [
    "$TEEI_{i,t}^A = \\frac{X_{i,t}-\\bar{X}_{i,.}}{s_{i,.}}\\times10+100$\n",
    "\n",
    "$ X_{i,t} = \\frac{\\sum_{s \\in S_{i,t}} \\left[ I(s \\in P \\cap A_w) - I(s \\in N \\cap A_w) \\right]}{\\sum_{s \\in S_{i,t}} \\left[ I(s \\in P \\cap A_w) + I(s \\in N \\cap A_w) \\right]}$"
   ]
  },
  {
   "cell_type": "markdown",
   "id": "319be963",
   "metadata": {
    "vscode": {
     "languageId": "raw"
    }
   },
   "source": [
    "- 즉, 업종별 평가는 특정 단어를 포함하는 긍·부정 문장 수의 차이를 그 합계로 나누어 추정"
   ]
  },
  {
   "cell_type": "markdown",
   "id": "227891fb",
   "metadata": {
    "vscode": {
     "languageId": "raw"
    }
   },
   "source": [
    "<img src='img/inmo_f5.png' width='500'>"
   ]
  },
  {
   "cell_type": "markdown",
   "id": "0217103f",
   "metadata": {},
   "source": [
    "## 공통요인 기반 산업별 유사도 (Business Condition Similarity, BC-Similarity)\n",
    "\n",
    "- 각 산업이 얼마나 유사한 경제적 요인을 공유하는지를 측정하는 지표\n",
    "- 즉, 특정 시점에서 다른 산업들 간의 공통적인 경제 환경 변화 요인(예: 환율, 원자재 가격, 금리, 공급망 차질 등)이 얼마나 많이 겹치는지를 정량적으로 측정"
   ]
  },
  {
   "cell_type": "markdown",
   "id": "e3414c08",
   "metadata": {
    "vscode": {
     "languageId": "raw"
    }
   },
   "source": [
    "$d_{KL}(P_{i,t} \\parallel P_{j,t}) = \\sum_{u \\in (U_{i,t} \\cup U_{j,t}) \\setminus W} P_{i,t}(u) \\log \\left( \\frac{P_{i,t}(u)}{P_{j,t}(u)} \\right).$\n",
    "\n",
    "$BC\\text{-}similarity_{(i,j),t} = \\frac{2}{d_{KL}(P_{i,t} \\parallel P_{j,t}) + d_{KL}(P_{j,t} \\parallel P_{i,t})}.$\n",
    "\n",
    "- $d_{KL}(P_{i,t} \\parallel P_{j,t})$는 업종 $i$와 $j$의 키워드 분포 차이를 측정하는 KL Divergence.\n",
    "- $P_{i,t}(u)$는 업종 $i$에서 특정 키워드 $u$의 출현 확률."
   ]
  },
  {
   "cell_type": "markdown",
   "id": "250023f8",
   "metadata": {
    "vscode": {
     "languageId": "raw"
    }
   },
   "source": [
    "<img src='img/inmo_f6.png' width='500'>"
   ]
  },
  {
   "cell_type": "markdown",
   "id": "bb23fe00",
   "metadata": {},
   "source": [
    "# 텍스트 정보의 타당성 검증"
   ]
  },
  {
   "cell_type": "markdown",
   "id": "9fc7d4ac",
   "metadata": {
    "vscode": {
     "languageId": "raw"
    }
   },
   "source": [
    "업황 지수 $TBCI_{i,t}$는 주가지수, GDP, BSI 등 금융·경제 지표와의 비교를 통해 선행성과 예측력 등을 평가"
   ]
  },
  {
   "cell_type": "markdown",
   "id": "92141bdb",
   "metadata": {
    "vscode": {
     "languageId": "raw"
    }
   },
   "source": [
    "<img src='img/inmo_f7.png' width='800'>"
   ]
  },
  {
   "cell_type": "markdown",
   "id": "fa48b80a",
   "metadata": {
    "vscode": {
     "languageId": "raw"
    }
   },
   "source": [
    "<img src='img/inmo_t3.png' width='600'>"
   ]
  },
  {
   "cell_type": "markdown",
   "id": "66f37357",
   "metadata": {
    "vscode": {
     "languageId": "raw"
    }
   },
   "source": [
    "- 텍스트 업황 지표는 코스피 산업별 지수의 흐름을 잘 추정하며, 상관계수는 0.5~0.9 수준으로 높게 나타남.\n",
    "- 일부 업종에서는 텍스트 지표가 코스피 산업별 지수보다 선행하는 경향을 보임. 다만, 업종별로 상관성과 선행성에는 차이가 존재함."
   ]
  },
  {
   "cell_type": "markdown",
   "id": "771536aa",
   "metadata": {},
   "source": [
    "\n",
    "- 텍스트 업황 지표는 숫자 정보 없이 텍스트 정보만으로 추정되었음에도 높은 예측력을 보임.\n",
    "- 1차 차분을 적용하여 트렌드를 제거한 후 상관계수를 계산하면 다소 낮아지는 경향이 나타남.\n",
    "- 이는 텍스트 업황 지표가 단기 변동보다는 장기적인 트렌드 파악에 더 유용할 가능성을 시사함."
   ]
  },
  {
   "cell_type": "markdown",
   "id": "3b71eaac-0fe1-4363-bbd8-f21c8d9de07d",
   "metadata": {},
   "source": [
    "# 참고문헌\n",
    "\n",
    "- [서범석 (2023)](https://www.bok.or.kr/portal/bbs/P0002353/view.do?nttId=10075584&menuNo=200433&pageIndex=1). BOK 이슈노트[제2023-5호] AI 알고리즘을 이용한 산업모니터링: 증권사 리포트 텍스트 분석"
   ]
  }
 ],
 "metadata": {
  "kernelspec": {
   "display_name": "Python 3",
   "language": "python",
   "name": "python3"
  },
  "language_info": {
   "codemirror_mode": {
    "name": "ipython",
    "version": 3
   },
   "file_extension": ".py",
   "mimetype": "text/x-python",
   "name": "python",
   "nbconvert_exporter": "python",
   "pygments_lexer": "ipython3",
   "version": "3.8.0"
  }
 },
 "nbformat": 4,
 "nbformat_minor": 5
}
