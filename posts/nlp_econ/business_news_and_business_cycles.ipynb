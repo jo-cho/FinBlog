{
 "cells": [
  {
   "cell_type": "raw",
   "metadata": {
    "vscode": {
     "languageId": "raw"
    }
   },
   "source": [
    "---\n",
    "title: \"Business News and Business Cycles\"\n",
    "subtitle: \"Business News and Business Cycles\"\n",
    "author: \"Cheonghyo Cho\"\n",
    "categories: [natural language processing, LDA]\n",
    "image: \"img/nlp_02_20.png\"\n",
    "---"
   ]
  },
  {
   "cell_type": "markdown",
   "metadata": {},
   "source": [
    "> Bybee et al.(2023)에서 소개한 \"경제 뉴스를 활용한 경기 변동 예측 방법\"을 소개한다. 이 연구는 1984~2017년까지 월스트리트저널(WSJ) 기사 80만 건을 분석하여 뉴스의 내용이 경기 변동과 금융 시장을 예측하는 데 어떤 역할을 하는지를 탐구했다."
   ]
  },
  {
   "cell_type": "markdown",
   "metadata": {},
   "source": [
    "## 연구개요"
   ]
  },
  {
   "cell_type": "markdown",
   "metadata": {},
   "source": [
    "이 논문은 경제 뉴스의 내용을 정량화하여 거시경제 및 주식 시장 예측에 활용하는 방법을 제안한다. 연구진은 토픽 모델링(Topic Modeling) 기법을 사용해 경제 뉴스의 주요 주제를 식별하고, 뉴스에서 특정 주제에 할애된 비중(뉴스 주의도, News Attention)이 경기 변동 및 금융 시장과 어떻게 연결되는지를 분석했다.\n",
    "\n",
    "### 연구에 사용된 데이터 및 모델:\n",
    "\n",
    "- WSJ 기사 763,887건(1984.1~2017.6), 18,342 unique terms(uni-gram, bi-gram)\n",
    "- 텍스트 분석 모델: LDA(Latent Dirichlet Allocation) \n",
    "  - $K$=180\n",
    "  - Online LDA 사용(backward-looking 방식으로 look-ahead bias 회피)\n",
    "- 거시경제 데이터: 산업생산, 고용률, 주식시장 변동성, 경제 불확실성 지수 등"
   ]
  },
  {
   "cell_type": "markdown",
   "metadata": {
    "vscode": {
     "languageId": "raw"
    }
   },
   "source": [
    "<img src='img/bybee_f1.png' width='800'>"
   ]
  },
  {
   "cell_type": "markdown",
   "metadata": {},
   "source": [
    "## 경제 뉴스 구조\n",
    "\n",
    "### (1) 뉴스 텍스트 분석 및 토픽 모델링\n",
    "\n",
    "연구진은 LDA 토픽 모델링을 활용하여 180개의 주요 경제 뉴스 주제를 도출했다. 뉴스의 주제를 크게 세 가지 유형으로 분류했다.\n",
    "\n",
    "- 반복적 주제: 지속적으로 등장하는 주제 (예: ‘연방준비제도’, ‘건강보험’)\n",
    "- 계절적 주제: 일정한 주기로 등장하는 주제 (예: ‘대선’, ‘기업 실적 발표’)\n",
    "- 이머징 주제: 특정 사건을 계기로 급증하는 주제 (예: ‘테러’, ‘자연재해’)"
   ]
  },
  {
   "cell_type": "markdown",
   "metadata": {},
   "source": [
    "### (2) News Attention과과 경제 활동의 관계 분석\n",
    "\n",
    "- 뉴스에서 특정 주제가 차지하는 비중을 측정하여 ‘News Attention’를 정의함.\n",
    "\n",
    "- News Attention와 거시경제 지표(산업생산, 고용, 주식시장 변동성) 간의 상관관계를 분석.\n",
    "\n",
    "- 거시경제 예측 모델(Vector Autoregression, VAR)에 News Attention를 추가하여 경제 전망에 미치는 영향을 평가."
   ]
  },
  {
   "cell_type": "markdown",
   "metadata": {},
   "source": [
    "## 주요 연구 결과\n",
    "\n",
    "### (1) 뉴스와 경제 지표 간의 관계\n",
    "\n",
    "- **‘경기 침체(Recession)’** 관련 news attention이 산업생산 및 고용률과 강한 음의 상관관계를 가짐.\n",
    "- 뉴스에서 ‘경기 침체’ 주제가 증가하면 산업생산과 고용률이 하락하는 경향을 보임.\n",
    "- 주식 시장 변동성과 ‘경제 불확실성’ 관련 뉴스의 비중이 높을수록 주가 변동성이 증가.\n",
    "\n",
    "### (2) 뉴스가 경제 예측력을 향상\n",
    "\n",
    "- 뉴스 기반 VAR 모델이 전통적인 거시경제 지표보다 미래 경제 활동을 더 정확히 예측.\n",
    "- ‘경기 침체’ 관련 뉴스 주의도가 향후 경기 하락을 예측하는 데 중요한 역할을 함.\n",
    "\n",
    "### (3) 뉴스 기반 주식 시장 예측\n",
    "\n",
    "- 뉴스 텍스트를 활용한 주식 시장 예측 모델이 기존 모델보다 더 높은 성과를 보임.\n",
    "- ‘경기 침체’ 뉴스가 증가하면 주가 하락 가능성이 높아짐."
   ]
  },
  {
   "cell_type": "markdown",
   "metadata": {},
   "source": [
    "## 연구의 의미와 시사점\n",
    "\n",
    "### (1) 뉴스 텍스트를 경제 분석에 활용하는 새로운 방법론\n",
    "\n",
    "- 이 연구는 단순한 숫자가 아니라 뉴스 텍스트 분석을 통해 경제를 측정하는 방법을 제시했다. 기존 거시경제 연구는 주로 공식적인 경제 지표에 의존했지만, 이 연구는 미디어의 뉴스 보도 자체가 중요한 경제 지표로 활용될 수 있음을 보였다.\n",
    "\n",
    "### (2) 정책 결정 및 투자 전략에 활용 가능\n",
    "\n",
    "- 정부 및 중앙은행은 언론이 경제를 어떻게 보도하는지 분석하여 경제 정책을 보완할 수 있음.\n",
    "- 금융 투자자는 뉴스 텍스트를 분석하여 주식 시장 예측 모델을 개선할 수 있음.\n",
    "\n",
    "### (3) 거시경제 및 금융 연구에서 텍스트 데이터의 중요성 확대\n",
    "\n",
    "- 최근 거시경제 연구에서 텍스트 데이터 분석이 중요한 연구 도구로 떠오르고 있음.\n",
    "- 머신러닝과 자연어처리(NLP)를 활용한 텍스트 기반 경제 분석이 더욱 발전할 것으로 예상됨."
   ]
  },
  {
   "cell_type": "markdown",
   "metadata": {},
   "source": []
  }
 ],
 "metadata": {
  "language_info": {
   "name": "python"
  }
 },
 "nbformat": 4,
 "nbformat_minor": 2
}
