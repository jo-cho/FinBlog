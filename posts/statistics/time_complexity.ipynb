{
 "cells": [
  {
   "cell_type": "raw",
   "id": "b06e471f-220f-4b67-a4a8-7229f604824d",
   "metadata": {},
   "source": [
    "---\n",
    "title: \"알고리즘: 시간복잡도\"\n",
    "subtitle: \"Time Complexity\"\n",
    "author: \"Cheonghyo Cho\"\n",
    "categories: [time complexity]\n",
    "image: \"./img/time_complexity.png\"\n",
    "---"
   ]
  },
  {
   "cell_type": "markdown",
   "id": "9e85bac2-e432-46b6-945c-0ec577d4bb29",
   "metadata": {},
   "source": [
    "## 시간 복잡도란"
   ]
  },
  {
   "cell_type": "markdown",
   "id": "44230e31-7de5-4731-921a-435db26588ce",
   "metadata": {},
   "source": [
    "시간 복잡도는 알고리즘의 실행 시간이 입력 크기에 따라 어떻게 변화하는지를 나타내는 척도이다. 일반적으로 Big O 표기법을 사용하여 표현되며, 예를 들어 $O(n), O(\\log n), O(n^2)$ 등으로 표현된다."
   ]
  },
  {
   "cell_type": "markdown",
   "id": "f9b0c4b0-bd02-4241-a9b0-bb5ae56c2782",
   "metadata": {},
   "source": [
    "## 시간 복잡도의 종류"
   ]
  },
  {
   "cell_type": "markdown",
   "id": "52f33400-b914-400f-af8c-cde25ad512e6",
   "metadata": {},
   "source": [
    "<img src=\"./img/time_complexity.png\" width=500>"
   ]
  },
  {
   "cell_type": "markdown",
   "id": "0545805f-77d5-496d-99cf-440548e5de0a",
   "metadata": {},
   "source": [
    "| 이름 | 시간복잡도 | 설명 | Example algorithms                      |\n",
    "|--------|----------|-----------------------------------|----------------------------|\n",
    "| constant time             | $O(1)$    | 입력의 크기와 상관없이 항상 일정한 시간이 걸리는 알고리즘| 정렬된 수 배열에서 중간값 찾기|\n",
    "| logarithmic time          | $O(\\log n)$     | 알고리즘의 실행 시간이 입력 크기의 로그에 비례해서 증가, 문제를 해결하는데 필요한 단계들이 연산마다 특정 요인에 의해 줄어듬 | 이진검색(Binary search)|\n",
    "| linear time               | $O(n)$   | 알고리즘의 실행 시간이 입력 크기에 직접 비례(1:1)해서 증가 | 배열을 순회하는 알고리즘(반복문) |\n",
    "| linearithmic time         | $O(n \\log n)$  | 알고리즘의 실행 시간이 입력 크기에 비례하여 증가하지만, 각 단계마다 로그 시간이 추가로 소요  | quick-sort나 병합 정렬과 같은 효율적인 정렬 알고리즘 |\n",
    "| quadratic time            | $O(n^2)$  | 알고리즘의 실행 시간이 입력 크기의 제곱에 비례해서 증가 | 버블 정렬, 삽입 정렬과 같은 간단한 정렬 알고리즘, 반복문이 두번|\n",
    "| factorial time            | $O(n!)$   | 알고리즘의 실행 시간이 입력 크기의 팩토리얼만큼 증가 |  |\n",
    "| exponential time            | $O(2^n)$    | 알고리즘의 실행 시간이 입력 크기의 지수적으로 증가 | brute-force search를 통한 matrix chain multiplication |"
   ]
  },
  {
   "cell_type": "markdown",
   "id": "04db359b-a359-4b88-a4c6-6e8c52352041",
   "metadata": {},
   "source": [
    "## 시간 복잡도 예시"
   ]
  },
  {
   "cell_type": "code",
   "execution_count": null,
   "id": "b446853f-921e-4e8f-8d59-b1bf51e7b2af",
   "metadata": {},
   "outputs": [],
   "source": []
  },
  {
   "cell_type": "code",
   "execution_count": 8,
   "id": "97b0f0c5-f881-41cb-8e2f-f09b8dd4e743",
   "metadata": {},
   "outputs": [],
   "source": [
    "#1\n",
    "\n",
    "def linear_search(arr, target):\n",
    "    for i in range(len(arr)):\n",
    "        if arr[i] == target:\n",
    "            return i  # 타겟을 찾으면 해당 인덱스 반환\n",
    "    return -1  # 타겟을 찾지 못하면 -1 반환"
   ]
  },
  {
   "cell_type": "code",
   "execution_count": 9,
   "id": "127e8631-c5c1-480a-9950-eb43883ad410",
   "metadata": {},
   "outputs": [
    {
     "data": {
      "text/plain": [
       "-1"
      ]
     },
     "execution_count": 9,
     "metadata": {},
     "output_type": "execute_result"
    }
   ],
   "source": [
    "linear_search([0,2,3,4], 5)"
   ]
  },
  {
   "cell_type": "markdown",
   "id": "6e503943-3b1c-496c-b450-eddd1b51a74c",
   "metadata": {},
   "source": [
    "- 최악의 경우(Worst Case) 시간 복잡도: 타겟 값이 배열의 마지막에 위치하거나 배열 내에 존재하지 않는 경우, 배열의 모든 요소를 검사해야 하며, 입력 크기 n에 대해 n번의 비교가 이루어짐: $O(n)$\n",
    "\n",
    "- 최선의 경우(Best Case) 시간 복잡도: 타겟 값이 배열의 첫 번째 위치에 있으면, 첫 번째 비교에서 바로 타겟을 찾을 수 있음: $O(1)$\n",
    "\n",
    "- 평균적인 경우(Average Case) 시간 복잡도: 타겟 값의 위치가 무작위일 때, 타겟을 찾기까지 배열의 절반 정도를 평균적으로 검사해야 함. 그러나 평균적인 경우도 최악의 경우와 마찬가지로 n에 비례하기 때문에, 평균 시간 복잡도 역시 $O(n)$"
   ]
  },
  {
   "cell_type": "code",
   "execution_count": 10,
   "id": "471d0937-498e-4d30-a8b6-c848fff6d2f7",
   "metadata": {},
   "outputs": [],
   "source": [
    "# 2\n",
    "\n",
    "def binary_search(arr, target):\n",
    "    low = 0\n",
    "    high = len(arr) - 1\n",
    "    \n",
    "    while low <= high:\n",
    "        mid = (low + high) // 2\n",
    "        guess = arr[mid]\n",
    "        \n",
    "        if guess == target:\n",
    "            return mid  # 타겟을 찾은 경우\n",
    "        if guess > target:\n",
    "            high = mid - 1  # 타겟이 중간값보다 작은 경우, 검색 범위를 낮은 쪽으로 조정\n",
    "        else:\n",
    "            low = mid + 1  # 타겟이 중간값보다 큰 경우, 검색 범위를 높은 쪽으로 조정\n",
    "    return -1  # 타겟을 찾지 못한 경우"
   ]
  },
  {
   "cell_type": "markdown",
   "id": "cc3f8b49-e457-4612-bfa7-deda4d6957ff",
   "metadata": {},
   "source": [
    "예를 들어, $n=16$인 정렬된 배열에서 특정 값을 이진 검색으로 찾는 경우를 생각해봅시다. 최악의 경우나 평균적인 경우에도 검색 횟수는 다음과 같이 계산됨.\n",
    "\n",
    "1. 처음 검색 범위는 전체 배열. (n=16)\n",
    "2. 첫 번째 비교 후, 검색 범위는 8개의 요소로 감소. (n/2)\n",
    "3. 두 번째 비교 후, 검색 범위는 4개의 요소로 감소. (n/4)\n",
    "4. 세 번째 비교 후, 검색 범위는 2개의 요소로 감소. (n/8)\n",
    "5. 네 번째 비교 후, 검색 범위는 1개의 요소로 감소. (n/16)\n",
    "\n",
    "이 경우, 최대 4번의 비교로 타겟 값을 찾을 수 있으며, 이는 $\\log_2 16=4$와 일치함. 따라서, 이진 검색의 시간 복잡도는 $O(\\log n)$."
   ]
  },
  {
   "cell_type": "markdown",
   "id": "20fdb0b3-705c-4452-af86-93aee7e1cb2f",
   "metadata": {},
   "source": [
    "## 참고자료\n",
    "\n",
    "- 위키피디아(https://wikipedia.org)"
   ]
  }
 ],
 "metadata": {
  "kernelspec": {
   "display_name": "Python 3",
   "language": "python",
   "name": "python3"
  },
  "language_info": {
   "codemirror_mode": {
    "name": "ipython",
    "version": 3
   },
   "file_extension": ".py",
   "mimetype": "text/x-python",
   "name": "python",
   "nbconvert_exporter": "python",
   "pygments_lexer": "ipython3",
   "version": "3.8.0"
  }
 },
 "nbformat": 4,
 "nbformat_minor": 5
}
