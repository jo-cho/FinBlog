{
 "cells": [
  {
   "cell_type": "raw",
   "id": "5e6f82e6-35d4-4102-9241-7de061c9b02c",
   "metadata": {},
   "source": [
    "---\n",
    "title: \"기초통계: 추정\"\n",
    "subtitle: \"Estimation\"\n",
    "author: \"Cheonghyo Cho\"\n",
    "categories: [MLE, estimation, GMM, EM]\n",
    "image: \"./img/mle.png\"\n",
    "---"
   ]
  },
  {
   "cell_type": "markdown",
   "id": "44531d37-e167-4f50-bf82-2eab28afa174",
   "metadata": {},
   "source": [
    ">  파라미터 추정 방법 중 MLE, GMM 등을 알아본다."
   ]
  },
  {
   "cell_type": "markdown",
   "id": "03deb68a-c949-4354-8aaa-394df8a8fcfc",
   "metadata": {},
   "source": [
    "# MLE(Maximum Likelihood Estimation)"
   ]
  },
  {
   "cell_type": "markdown",
   "id": "1e50c0fb-f3ab-4a31-ad12-93bcbe6729bf",
   "metadata": {},
   "source": [
    "최대우도법(Maximum Likelihood Estimation, MLE)은 주어진 데이터 샘플을 가장 잘 설명하는 모수(파라미터)를 추정하는 통계적 방법이다. 이 방법은 관찰된 데이터가 주어졌을 때, 파라미터 값에 대한 우도(likelihood)를 최대화하는 값을 찾는 것이 목표이다. 여기서 우도란 특정 파라미터 값에서 관측된 데이터 샘플이 나타날 확률의 함수이다.\n",
    "\n",
    "우도 함수는 확률밀도함수나 확률질량함수를 사용하여 표현된다. 최대우도법에서는 이 우도 함수를 최대화하는 파라미터 값을 찾아내는 것이 중요하다.\n",
    "\n",
    "수학적으로, 최대우도 추정치를 구하기 위해 우도 함수에 로그를 취하는 경우가 많다. 이는 로그 함수가 단조 증가 함수이기 때문에 우도를 최대화하는 문제와 로그 우도를 최대화하는 문제가 동등하며, 로그를 취하면 곱셈이 덧셈으로 변하여 계산이 용이해진다.\n",
    "\n",
    "최대우도법은 모델의 파라미터가 주어진 데이터에 얼마나 \"잘 맞는지\"를 정량화하며, 이를 통해 다양한 통계적 모델링이나 기계 학습 알고리즘에서 널리 사용된다."
   ]
  },
  {
   "cell_type": "markdown",
   "id": "f246e70f-1535-4f3c-ba6c-5229be95a2c3",
   "metadata": {},
   "source": [
    "데이터 집합 $X=\\{x_1,x_2,\\dots,x_n\\}$이 주어지고, 이 데이터가 확률 분포 $p(x∣\\theta)$에서 생성되었다고 가정할 때, 우도 함수 $L(\\theta)$는 모든 데이터 포인트의 결합 확률이다."
   ]
  },
  {
   "cell_type": "markdown",
   "id": "60b82857-616c-4964-beac-79514ef0922d",
   "metadata": {},
   "source": [
    "$$L(\\theta) = p(X | \\theta) = \\prod_{i=1}^n p(x_i | \\theta)$$"
   ]
  },
  {
   "cell_type": "markdown",
   "id": "4856dfe5-52bb-4d1c-acc1-89203a303b38",
   "metadata": {},
   "source": [
    "우도 함수를 최대화하는 $\\theta$의 값을 찾는 것이 최대우도 추정의 목적이다."
   ]
  },
  {
   "cell_type": "markdown",
   "id": "5db55035-2e5c-437e-81c2-de805611f575",
   "metadata": {},
   "source": [
    "$$\\ell(\\theta) = \\log L(\\theta) = \\sum_{i=1}^n \\log p(x_i | \\theta)$$"
   ]
  },
  {
   "cell_type": "markdown",
   "id": "35dfb9ce-eaf2-4715-b8d0-8f8164e710fa",
   "metadata": {},
   "source": [
    "실제 계산 시 많은 경우 로그를 취한 로그 우도 함수를 사용한다."
   ]
  },
  {
   "cell_type": "markdown",
   "id": "aa481fd1-3322-4a1a-bb8f-18099d45e9ce",
   "metadata": {},
   "source": [
    "정규분포의 MLE 과정을 예로 보자."
   ]
  },
  {
   "cell_type": "markdown",
   "id": "6c7095f9-d687-4de1-8766-dfcc6bb4e346",
   "metadata": {},
   "source": [
    "$$\\ln L(\\mu, \\sigma^2) = \\sum_{i=1}^{n} \\ln\\left(\\frac{1}{\\sqrt{2\\pi\\sigma^2}}\\exp\\left(-\\frac{(x_i-\\mu)^2}{2\\sigma^2}\\right)\\right)$$\n",
    "$$= \\sum_{i=1}^{n} \\left(-\\frac{1}{2}\\ln(2\\pi\\sigma^2) - \\frac{(x_i-\\mu)^2}{2\\sigma^2}\\right)$$"
   ]
  },
  {
   "cell_type": "markdown",
   "id": "4d4c844a-de9c-4c54-9f29-1a7c979dd467",
   "metadata": {},
   "source": [
    "우도 최대화 파라미터\n",
    "\n",
    "$$\\frac{\\partial}{\\partial \\mu} \\ln L(\\mu, \\sigma^2) = \\sum_{i=1}^{n} \\frac{x_i - \\mu}{\\sigma^2} = 0$$"
   ]
  },
  {
   "cell_type": "markdown",
   "id": "af6128f1-83dd-40b2-a1c5-c12cf849f3e1",
   "metadata": {},
   "source": [
    "$\\mu = \\frac{1}{n}\\sum_{i=1}^{n} x_i$\n",
    "\n",
    "$\\frac{\\partial}{\\partial \\sigma^2} \\ln L(\\mu, \\sigma^2) = \\sum_{i=1}^{n} \\left(-\\frac{1}{2\\sigma^2} + \\frac{(x_i - \\mu)^2}{2(\\sigma^2)^2}\\right) = 0$\n",
    "\n",
    "$\\sigma^2 = \\frac{1}{n}\\sum_{i=1}^{n} (x_i - \\mu)^2$"
   ]
  },
  {
   "cell_type": "markdown",
   "id": "82c9b380-c229-48ca-9631-b5aace72ec99",
   "metadata": {},
   "source": [
    "# GMM(Generalized Method of Moments)"
   ]
  },
  {
   "cell_type": "markdown",
   "id": "c8035424-c00d-4da3-aafd-b314a5064b22",
   "metadata": {},
   "source": [
    "GMM(Generalized Method of Moments)은 파라미터 추정 기법 중 하나로, 여러 모멘트 조건을 이용하여 모델 파라미터를 추정한다. 이 방법은 특히 모델의 정확한 확률 분포를 알 수 없거나 복잡한 경우에 유용하게 사용된다.\n",
    "\n",
    "GMM은 모집단 [모멘트](https://jo-cho.github.io/FinBlog/posts/statistics/probability_distribution.html#%EC%A0%81%EB%A5%A0)와 이에 대응하는 표본 모멘트 사이의 차이를 기반으로 파라미터를 추정한다. 모멘트 조건이라고도 불리는 이 조건들은 기대값 연산자를 사용하여 정의되며, 이론적으로는 모집단 파라미터에 대해 0이 되어야 한다."
   ]
  },
  {
   "cell_type": "markdown",
   "id": "b9040f52-e620-428b-a6ab-beb37276425f",
   "metadata": {},
   "source": [
    "파라미터 벡터 $\\theta$를 추정하고자 할 때, $g(X,\\theta)$를 모멘트 함수라고 함. GMM은 다음 모멘트 조건을 만족시키려 한다.\n",
    "\n",
    "$$E[g(X,\\theta)]=0$$"
   ]
  },
  {
   "cell_type": "markdown",
   "id": "3389abfd-9c86-4cf4-bf2e-205ac3ddf30a",
   "metadata": {},
   "source": [
    "추정 과정\n",
    "- 모멘트 선택: 추정할 파라미터에 대해 유효한 모멘트 조건을 정의한다.\n",
    "- 객관적 함수 구성: 모멘트의 표본 평균을 계산하고, 이를 최소화하는 파라미터를 찾는다. 보통 이 과정에서 가중치 행렬을 사용하여 각각의 모멘트의 중요도를 조절한다.\n",
    "- 최적화: 비선형 최적화 기법을 사용하여 객관적 함수를 최소화한다."
   ]
  },
  {
   "cell_type": "markdown",
   "id": "ddfda913-776e-46dc-9041-7d73f6099dd8",
   "metadata": {},
   "source": [
    "MLE에 비해 모델의 명시적인 확률 분포를 가정할 필요가 없으며, 모멘트 조건만 충족시키면 된다. 또한 이상치에 대한 강건성(robustness)이 더 뛰어나며, 다양한 제약 조건과 모델에 적용할 수 있는 유연성이 있다."
   ]
  },
  {
   "cell_type": "markdown",
   "id": "8d6adf6a-6735-4226-82cc-0983efb1b244",
   "metadata": {},
   "source": [
    "# Least Squares Estimation"
   ]
  },
  {
   "cell_type": "markdown",
   "id": "42926bce-161b-4807-b49c-d3397f1210a1",
   "metadata": {},
   "source": [
    "최소제곱추정의 목적은 데이터와 모델 사이의 차이를 측정하는 오차의 제곱합을 최소화하는 것이다. 이를 통해 파라미터의 최적 값을 추정한다. 일반적으로 선형 회귀 모델에서 많이 사용된다."
   ]
  },
  {
   "cell_type": "markdown",
   "id": "ae9b435b-b03e-45e9-b807-74b98e3e91b0",
   "metadata": {},
   "source": [
    "$$S = (y - X\\beta)^T(y - X\\beta)$$"
   ]
  },
  {
   "cell_type": "markdown",
   "id": "41f6ef0c-8c80-4e25-a6d9-da4f1d0e579b",
   "metadata": {},
   "source": [
    "$S$를 최소화하는 $\\beta$:\n",
    "\n",
    "$$\\beta = (X^T X)^{-1} X^T y$$"
   ]
  },
  {
   "cell_type": "markdown",
   "id": "aa2333a0-fe19-4ef0-a183-205321d86c25",
   "metadata": {},
   "source": [
    "# Bayesian Estimation"
   ]
  },
  {
   "cell_type": "markdown",
   "id": "64b40df2-581e-4af7-84c0-043e0d0778b0",
   "metadata": {},
   "source": [
    "베이즈 추정(Bayesian Estimation)은 파라미터를 고정된 상수가 아닌, 불확실성을 가진 변수로 간주한다. 이 방법은 사전 분포(prior distribution)와 데이터를 통해 얻은 정보(가능도)를 결합하여 파라미터의 사후 분포(posterior distribution)를 추정한다. 이 사후 분포는 파라미터의 불확실성을 반영한 분포로, 추정치와 그 불확실성을 명시적으로 계산할 수 있다. 이 방법은 데이터가 적을 때 유용하며, 사전 분포에 대한 선택이 결과에 영향을 미칠 수 있다."
   ]
  },
  {
   "cell_type": "markdown",
   "id": "b1995239-09cc-4f74-ae78-cad1f9a10aae",
   "metadata": {},
   "source": [
    "베이즈 정리:\n",
    "\n",
    "$$P(\\theta | D) = \\frac{P(D | \\theta) P(\\theta)}{P(D)}$$\n",
    "\n",
    "- $P(\\theta | D)$는 사후확률, $P(D|\\theta)$는 가능도, $P(\\theta)$는 사전확률"
   ]
  },
  {
   "cell_type": "markdown",
   "id": "e170b428-ea7e-478d-a6df-109fe802be2f",
   "metadata": {},
   "source": [
    "실제 계산에서 $P(D)$(증거)는 보통 다음과 같이 계산된다:\n",
    "\n",
    "$$P(D) = \\int P(D | \\theta) P(\\theta) d\\theta$$"
   ]
  },
  {
   "cell_type": "markdown",
   "id": "61bbe017-4403-492e-b9b6-9e3cb6ff1521",
   "metadata": {},
   "source": [
    "# Maximum A Posteriori Estimation"
   ]
  },
  {
   "cell_type": "markdown",
   "id": "e8a764f4-2dec-49cf-ae82-3f58069cd808",
   "metadata": {},
   "source": [
    "MAP 추정은 베이즈 추정의 일종으로, 사후확률 $P(\\theta|D)$를 최대화하는 파라미터 $\\theta$를 찾는 방법이다. 이는 베이즈 추정에서 사후확률의 모드(mode)를 추정하는 것과 같다."
   ]
  },
  {
   "cell_type": "markdown",
   "id": "e9788c68-79f4-4fed-a432-2ec40a8972da",
   "metadata": {},
   "source": [
    "$$\\hat{\\theta}_{\\text{MAP}} = \\arg \\max_{\\theta} P(\\theta | D)$$"
   ]
  },
  {
   "cell_type": "markdown",
   "id": "b3125768-a0a6-4365-88f3-63f7e4aeb541",
   "metadata": {},
   "source": [
    "베이즈 정리를 적용하면(여기서 $P(D)$는 모든 $\\theta$에 대해 일정하므로 최대화 문제에 영향을 주지 않는다), MAP 추정은 다음과 같이 단순화될 수 있으며, 로그를 취할 수도 있다.\n",
    "\n",
    "$$\\hat{\\theta}_{\\text{MAP}} = \\arg \\max_{\\theta} P(D | \\theta) P(\\theta)$$\n",
    "\n",
    "$$\\hat{\\theta}_{\\text{MAP}} = \\arg \\max_{\\theta} \\log P(D | \\theta) + \\log P(\\theta)$$"
   ]
  },
  {
   "cell_type": "markdown",
   "id": "abdcd879-10cd-4196-bc91-d5f2c61db044",
   "metadata": {},
   "source": [
    "# EM Algorithm"
   ]
  },
  {
   "cell_type": "markdown",
   "id": "668a81b4-8194-404e-aee0-94b2200b136b",
   "metadata": {},
   "source": [
    "EM 알고리즘(Expectation-Maximization Algorithm)은 불완전한 데이터나 숨겨진 변수가 있는 경우 최대우도나 최대사후확률추정을 효과적으로 계산하기 위해 사용되는 강력한 통계적 알고리즘이다. 이 알고리즘은 반복적인 절차를 통해 모델 파라미터를 추정하며, 특히 데이터가 누락되었거나 숨겨진 변수를 포함하는 복잡한 확률 모델에서 유용하다."
   ]
  },
  {
   "cell_type": "markdown",
   "id": "847614a1-4c9c-461e-965b-bfd42b2af43d",
   "metadata": {},
   "source": [
    "EM 알고리즘은 두 단계, 즉 기대치 단계(Expectation step, E-step)와 최대화 단계(Maximization step, M-step)로 구성되며, 이 두 단계를 반복 수행하여 로그 우도 함수의 국소 최대값에 도달하거나 파라미터 추정이 수렴할 때까지 계속한다.\n",
    "\n",
    "- E-step (기대치 단계): 이 단계에서는 현재 추정된 파라미터를 바탕으로 숨겨진 데이터의 조건부 분포에 대한 기대치를 계산한다. 즉, 현재의 파라미터 값이 주어졌을 때 각 데이터 포인트가 어떤 구성 요소(클러스터 등)에 속할 확률을 계산하는 것이다.\n",
    "\n",
    "E-step에서는 현재 추정된 파라미터 $\\theta^{(t)}$를 사용하여 숨겨진 변수 $Z$의 조건부 분포에 대한 기대치를 계산한다.\n",
    "\n",
    "$$Q(\\theta | \\theta^{(t)}) = \\mathbb{E}_{Z | X, \\theta^{(t)}}[\\log P(X, Z | \\theta)]$$\n",
    "\n",
    "- M-step (최대화 단계): E-step에서 계산된 기대치를 사용하여 파라미터를 새롭게 추정한다. 이 추정은 로그 우도 함수 또는 로그 사후 확률 함수를 최대화하는 파라미터 값으로 업데이트 된다. 이 단계에서 실제로 파라미터 값들을 조정하여 모델의 설명력을 최대화한다."
   ]
  },
  {
   "cell_type": "markdown",
   "id": "c9132faf-79bd-432e-9632-c32ba3695f29",
   "metadata": {},
   "source": [
    "$$\\theta^{(t+1)} = \\arg \\max_{\\theta} Q(\\theta | \\theta^{(t)})$$"
   ]
  },
  {
   "cell_type": "markdown",
   "id": "a541b869-b826-4ce5-85e2-c13b46034ab2",
   "metadata": {},
   "source": [
    "<img src='https://upload.wikimedia.org/wikipedia/commons/thumb/6/69/EM_Clustering_of_Old_Faithful_data.gif/330px-EM_Clustering_of_Old_Faithful_data.gif'>"
   ]
  },
  {
   "cell_type": "markdown",
   "id": "28185cd8-bf84-4ffb-b6d0-61f9d355fd81",
   "metadata": {},
   "source": [
    "E와 M 과정을 반복하여, $\\|\\theta^{(i)}-\\theta^{(i-1)}\\|<\\varepsilon$ 가 될때 까지 반복한다."
   ]
  },
  {
   "cell_type": "markdown",
   "id": "9f5811f2-d7f3-445b-a6cb-931fccee370a",
   "metadata": {},
   "source": [
    "EM은 숨겨진 변수가 있는 복잡한 확률 모델에서도 효율적인 파라미터 추정이 가능하며, 각 반복마다 우도 함수의 값이 증가하므로, 일반적으로 수렴성이 보장된다.\n",
    "\n",
    "하지만, 국소(local) 최적값에 수렴할 위험이 있어, 초기값에 따라 결과가 달라질 수 있다. 또한 수렴 속도가 느릴 수 있으며, 계산 비용이 높은 경우가 많다."
   ]
  },
  {
   "cell_type": "markdown",
   "id": "087ee7d0-fc1b-436b-bb14-e44d367fbc16",
   "metadata": {},
   "source": [
    "EM은 Gaussian Mixture Model(GMM) 같은 모델을 사용하여 데이터를 여러 클러스터로 분류할 때, Hidden Markov Model(HMM) 등의 파라미터 추정, 이미지의 특정 구조를 분석하거나 숨겨진 정보를 복원하는데 사용된다."
   ]
  }
 ],
 "metadata": {
  "kernelspec": {
   "display_name": "Python 3 (ipykernel)",
   "language": "python",
   "name": "python3"
  },
  "language_info": {
   "codemirror_mode": {
    "name": "ipython",
    "version": 3
   },
   "file_extension": ".py",
   "mimetype": "text/x-python",
   "name": "python",
   "nbconvert_exporter": "python",
   "pygments_lexer": "ipython3",
   "version": "3.9.16"
  }
 },
 "nbformat": 4,
 "nbformat_minor": 5
}
