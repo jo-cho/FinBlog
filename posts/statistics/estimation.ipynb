{
 "cells": [
  {
   "cell_type": "raw",
   "id": "5e6f82e6-35d4-4102-9241-7de061c9b02c",
   "metadata": {},
   "source": [
    "---\n",
    "title: \"기초통계: 추정\"\n",
    "subtitle: \"Estimation\"\n",
    "author: \"Cheonghyo Cho\"\n",
    "categories: [MLE, estimation]\n",
    "image: \"./img/mle.png\"\n",
    "---"
   ]
  },
  {
   "cell_type": "markdown",
   "id": "44531d37-e167-4f50-bf82-2eab28afa174",
   "metadata": {},
   "source": [
    "> 추정 방법 중 최대우도추정 등을 알아본다."
   ]
  }
 ],
 "metadata": {
  "kernelspec": {
   "display_name": "Python 3",
   "language": "python",
   "name": "python3"
  },
  "language_info": {
   "codemirror_mode": {
    "name": "ipython",
    "version": 3
   },
   "file_extension": ".py",
   "mimetype": "text/x-python",
   "name": "python",
   "nbconvert_exporter": "python",
   "pygments_lexer": "ipython3",
   "version": "3.8.0"
  }
 },
 "nbformat": 4,
 "nbformat_minor": 5
}
