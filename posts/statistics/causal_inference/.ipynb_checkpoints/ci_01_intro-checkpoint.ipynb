{
 "cells": [
  {
   "cell_type": "raw",
   "id": "6eb4f626-4696-4c7b-b59c-537b671b6e89",
   "metadata": {},
   "source": [
    "---\n",
    "title: \"인과추론 - 서론\"\n",
    "subtitle: \"Causal Inference - Introduction\"\n",
    "author: \"Cheonghyo Cho\"\n",
    "categories: [causal inference]\n",
    "image: \"./img/ci_01.png\"\n",
    "---"
   ]
  },
  {
   "cell_type": "code",
   "execution_count": null,
   "id": "3e7a8f20-776b-4502-b7c0-63898f689463",
   "metadata": {},
   "outputs": [],
   "source": []
  }
 ],
 "metadata": {
  "kernelspec": {
   "display_name": "Python 3",
   "language": "python",
   "name": "python3"
  },
  "language_info": {
   "codemirror_mode": {
    "name": "ipython",
    "version": 3
   },
   "file_extension": ".py",
   "mimetype": "text/x-python",
   "name": "python",
   "nbconvert_exporter": "python",
   "pygments_lexer": "ipython3",
   "version": "3.8.0"
  }
 },
 "nbformat": 4,
 "nbformat_minor": 5
}
