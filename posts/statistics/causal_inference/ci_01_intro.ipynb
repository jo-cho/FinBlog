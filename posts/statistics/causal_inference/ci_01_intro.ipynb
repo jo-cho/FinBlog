{
 "cells": [
  {
   "cell_type": "raw",
   "id": "6eb4f626-4696-4c7b-b59c-537b671b6e89",
   "metadata": {},
   "source": [
    "---\n",
    "title: \"인과추론 - 서론\"\n",
    "subtitle: \"Causal Inference - Introduction\"\n",
    "author: \"Cheonghyo Cho\"\n",
    "categories: [causal inference]\n",
    "image: \"./img/ci_01.png\"\n",
    "---"
   ]
  },
  {
   "cell_type": "markdown",
   "id": "6f2ca965-e24f-497c-ba22-8691d06cc225",
   "metadata": {},
   "source": [
    "> 인과관계(causation)를 상관관계(correlation)와 혼동하지 말자"
   ]
  },
  {
   "cell_type": "markdown",
   "id": "aa4f0182-5728-4b46-bba0-28670fa7b9bf",
   "metadata": {},
   "source": [
    "중앙은행이 경기 침체의 조짐을 파악하기 위해 다양한 지표를 해석하는 상황을 가정해 보자. 경기 침체가 나타나고 있다는 증거를 확인하면, 중앙은행은 공개시장 조작에 나서서 채권을 매입하고 경제에 유동성을 공급한다. 이러한 조치들이 최적의 방식으로 이루어진다면, 실제 산출(output)과 공개시장 조작 간에는 아무런 상관관계가 나타나지 않을 것이다. 이상적인 경우, 은행은 경기 침체를 막기 위해 공격적인 거래에 나설 수 있지만, 그것이 효과를 발휘하고 있다는 증거조차 발견하지 못할 수도 있다.\n",
    "\n",
    "**인간이 최적의 행동을 한다는 점은 상관관계가 인과 관계를 거의 드러내지 못하는 주요 이유이다**. 왜냐하면 인간은 거의 무작위적으로 행동하지 않기 때문이다. 그리고 우리가 알게 될 중요한 점은, 인과 효과를 식별하는 데 있어 무작위성(randomness)의 존재가 결정적으로 중요하다는 것이다."
   ]
  },
  {
   "cell_type": "markdown",
   "id": "6ddd8c72-5725-4bf7-8a9a-6e5cc70ad53e",
   "metadata": {},
   "source": [
    "> Optimization makes everyting endogenous"
   ]
  },
  {
   "cell_type": "markdown",
   "id": "f35e6eed-e481-4e75-a27a-51b884a8df73",
   "metadata": {},
   "source": [
    "경제 이론은 관찰 데이터에서 발견된 상관관계에 대해 의심을 가져야 한다고 경고한다. 관찰 데이터에서 상관관계는 대부분 인과 관계를 반영하지 않는다. 이는 사람들이 자신에게 **가장 최적이라고 생각한 선택을 하기 때문에 변수들이 내생적으로(endogenously) 결정되었기 때문**이다. 선택은 제약 조건 속에서 이루어지고, 이는 다른 변수와의 가짜 상관관계(spurious correlation)를 만들어낸다. 따라서 상관관계가 인과 효과를 반영하려면 선택이 결과와 독립적으로 이루어져야 하지만, 실제로는 대부분의 선택이 잠재적 결과에 기반하기 때문에 이 조건을 만족하지 않는다.\n",
    "\n",
    "결과적으로, 인과 효과를 식별하려면 신뢰할 수 있는 가정을 세워야 하며, 연구는 결과 지향적(outcome-oriented)이 아닌 **과정 지향적**(**process-oriented**)이어야 한다. 과학적 방법론은 특정 결과를 입증하려는 목적이 아니라 예상치 못한 답변도 수용할 수 있는 태도를 형성하는 데 초점이 있다."
   ]
  },
  {
   "cell_type": "markdown",
   "id": "0f3fa7d4-e364-4b9e-8cdf-3a192677ee72",
   "metadata": {},
   "source": [
    "**비교정태**\n",
    "\n",
    "인과 추론에 중요한 기여 중 하나는 **비교정태**(**comparative statics**)의 개념이다.\r\n",
    "\r\n",
    "비교정태는 모델 내에서 인과 효과를 이론적으로 설명하는 방식이\n",
    "다.\r\n",
    "이는 항상불변(ceteris parius)**의 가정, 즉 \"다른 모든 조건은 동일하다\"는 전제에 기반한다.\r\n",
    "예를 들어, 특정 개입(intervention)의 인과 효과를 설명하려고 할 때, 다른 변수들이 변하지 않는다고 가정한다. 만약 다른 변수들이 변화하면, 관심 변수와 상관관계를 가지게 되어 추정이 왜곡(confounded)될 수 있다."
   ]
  },
  {
   "cell_type": "markdown",
   "id": "19fb3eda-6c9a-4c0f-8fd8-e1721ed83c16",
   "metadata": {},
   "source": [
    "**참고자료**\n",
    "- Scott Cunningham (2021) \"Causal Inference: The Mixtape\". Yale University Press."
   ]
  },
  {
   "cell_type": "code",
   "execution_count": null,
   "id": "c8bfeed9-4a02-4027-bc2f-abdf0f9af0af",
   "metadata": {},
   "outputs": [],
   "source": []
  }
 ],
 "metadata": {
  "kernelspec": {
   "display_name": "Python 3",
   "language": "python",
   "name": "python3"
  },
  "language_info": {
   "codemirror_mode": {
    "name": "ipython",
    "version": 3
   },
   "file_extension": ".py",
   "mimetype": "text/x-python",
   "name": "python",
   "nbconvert_exporter": "python",
   "pygments_lexer": "ipython3",
   "version": "3.8.0"
  }
 },
 "nbformat": 4,
 "nbformat_minor": 5
}
