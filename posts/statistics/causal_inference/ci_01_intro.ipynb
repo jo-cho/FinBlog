{
 "cells": [
  {
   "cell_type": "raw",
   "id": "6eb4f626-4696-4c7b-b59c-537b671b6e89",
   "metadata": {},
   "source": [
    "---\n",
    "title: \"인과추론 - 서론\"\n",
    "subtitle: \"Causal Inference - Introduction\"\n",
    "author: \"Cheonghyo Cho\"\n",
    "categories: [causal inference]\n",
    "image: \"./img/ci_01.png\"\n",
    "---"
   ]
  },
  {
   "cell_type": "markdown",
   "id": "6f2ca965-e24f-497c-ba22-8691d06cc225",
   "metadata": {},
   "source": [
    "인과관계(causation)를 상관관계(correlation)와 혼동하지 말자"
   ]
  },
  {
   "cell_type": "markdown",
   "id": "cca89b13-fc7c-4e32-bb41-afd6ad8f489b",
   "metadata": {},
   "source": []
  },
  {
   "cell_type": "code",
   "execution_count": null,
   "id": "9b7e6334-72d8-4750-85c4-94448b4ccdfc",
   "metadata": {},
   "outputs": [],
   "source": []
  }
 ],
 "metadata": {
  "kernelspec": {
   "display_name": "Python 3",
   "language": "python",
   "name": "python3"
  },
  "language_info": {
   "codemirror_mode": {
    "name": "ipython",
    "version": 3
   },
   "file_extension": ".py",
   "mimetype": "text/x-python",
   "name": "python",
   "nbconvert_exporter": "python",
   "pygments_lexer": "ipython3",
   "version": "3.8.0"
  }
 },
 "nbformat": 4,
 "nbformat_minor": 5
}
