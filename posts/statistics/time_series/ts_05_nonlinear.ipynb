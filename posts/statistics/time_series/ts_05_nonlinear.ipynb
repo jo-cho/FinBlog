{
 "cells": [
  {
   "cell_type": "raw",
   "id": "51b77e46-96d4-4d6e-9e3d-96c527a54f4d",
   "metadata": {},
   "source": [
    "---\n",
    "title: \"시계열 - 비선형모델\"\n",
    "subtitle: \"Time Series - Nonlinear Models\"\n",
    "author: \"Cheonghyo Cho\"\n",
    "categories: [time series]\n",
    "image: \"./img/ts_05.png\"\n",
    "---"
   ]
  },
  {
   "cell_type": "markdown",
   "id": "0abba196-607e-4622-bc1c-39d1524dffd9",
   "metadata": {},
   "source": [
    "> 시계열 분석을 정리하고자 한다. 시계열의 비선형 모델(TAR, STAR, Markov switching), 비모수 모델 등에 대해 알아보자."
   ]
  },
  {
   "cell_type": "markdown",
   "id": "d1a44269-049a-4bad-bc5a-801d94afbd8f",
   "metadata": {},
   "source": [
    "# TAR(Threshold Autoregressive)\n",
    "\n",
    "TAR(Threshold Autoregressive) 모형은 시계열 데이터가 특정 임계값(threshold)에 따라 다른 선형 회귀 방정식을 따르는 경우에 적합한 비선형 모형이다. 이 모형은 데이터가 임계값을 기준으로 서로 다른 상태(regime)에 있을 때 유용하며, 각 상태에서는 데이터가 선형적으로 행동한다."
   ]
  },
  {
   "cell_type": "markdown",
   "id": "d22a0d15-e374-424a-86cc-028fa4f697a8",
   "metadata": {},
   "source": [
    "$$y_t = \n",
    "\\begin{cases} \n",
    "\\phi_{0,1} + \\phi_{1,1} y_{t-1} + \\cdots + \\phi_{p,1} y_{t-p} + \\epsilon_{t,1}, & \\text{if } y_{t-d} \\leq r \\\\\n",
    "\\phi_{0,2} + \\phi_{1,2} y_{t-1} + \\cdots + \\phi_{p,2} y_{t-p} + \\epsilon_{t,2}, & \\text{if } y_{t-d} > r\n",
    "\\end{cases}$$"
   ]
  },
  {
   "cell_type": "markdown",
   "id": "d0799ba1-8843-485e-886e-d4b07462972b",
   "metadata": {},
   "source": [
    "여기서 $y_{t-d}\\leq r$과 $y_{t-d}>r$는 각각 다른 두 상태를 나타내고 $r$은 임계값, $d$는 lag시간, $\\phi$는 모수"
   ]
  },
  {
   "cell_type": "markdown",
   "id": "a02c21d5-6578-406b-91a6-e530681a0900",
   "metadata": {},
   "source": [
    "# STAR(Smooth Transition AR) Model"
   ]
  },
  {
   "cell_type": "markdown",
   "id": "1381daa1-9cdc-44bd-ac19-f120666e4e7e",
   "metadata": {},
   "source": [
    "STAR 모형은 TAR 모형을 일반화한 것으로, 시계열 데이터가 두 상태 사이를 부드럽게 전환하는 경우에 적합하다. STAR 모형은 전환 함수(transition function)를 사용하여 두 상태 사이의 전환을 모델링한다. 전환은 보통 로지스틱 함수나 지수 함수를 사용하여 모델링되며, 이를 통해 시계열 데이터가 어떻게 두 상태 사이를 이동하는지 설명한다."
   ]
  },
  {
   "cell_type": "markdown",
   "id": "0d3da23c-f5bf-43e1-86e9-383d6c6e6cbb",
   "metadata": {},
   "source": [
    "$$y_t = \\phi_{0} + \\left(\\phi_{1} + \\gamma G(s_t; c, \\tau)\\right) y_{t-1} + \\cdots + \\left(\\phi_{p} + \\gamma G(s_t; c, \\tau)\\right) y_{t-p} + \\epsilon_t$$"
   ]
  },
  {
   "cell_type": "markdown",
   "id": "a7124f3a-3b85-4221-a56f-4180ba3c3c5a",
   "metadata": {},
   "source": [
    "$$G(s_t; c, \\tau) = \\frac{1}{1 + \\exp\\left(-\\frac{s_t - c}{\\tau}\\right)}$$"
   ]
  },
  {
   "cell_type": "markdown",
   "id": "98a7f594-5ef4-438e-ae0f-f7f2038a243d",
   "metadata": {},
   "source": [
    "$G()$는전환 함수로, 일반적으로 로지스틱 함수나 지수 함수가 사용된다. $s_t$는 전환 변수, $c$는 전화의 중심(임계값)을 나타내고, $\\tau$는 전환의 폭(부드러움)을 조절하는 파라미터이다."
   ]
  },
  {
   "cell_type": "markdown",
   "id": "2d1d4099-d8e9-4448-9bfe-1d707fbb5da8",
   "metadata": {},
   "source": [
    "# Markov Switching Model"
   ]
  },
  {
   "cell_type": "markdown",
   "id": "976323f5-9bc6-4371-89ca-d7db5a4330fd",
   "metadata": {},
   "source": [
    "마르코프 전환(Markov Switching) 모델은 시계열 데이터가 여러 상태(regime) 사이를 전환할 수 있으며, 각 상태에서의 동적 행동이 다를 수 있다고 가정하는 비선형 시계열 모델이다. 이 모델은 상태 전환 확률이 마르코프 체인(Markov Chain)에 의해 결정된다고 가정하며, 이는 시계열 데이터가 시간에 따라 서로 다른 통계적 속성을 가질 수 있음을 나타낸다."
   ]
  },
  {
   "cell_type": "markdown",
   "id": "203aeea9-dc16-4779-94cc-633e4611a6b8",
   "metadata": {},
   "source": [
    "$$y_t = \\phi_{0,S_t} + \\phi_{1,S_t} y_{t-1} + \\cdots + \\phi_{p,S_t} y_{t-p} + \\epsilon_{t,S_t}$$"
   ]
  },
  {
   "cell_type": "markdown",
   "id": "83f8681d-a98f-4dcd-974c-e2dc96ea3676",
   "metadata": {},
   "source": [
    "여기서, $S_t$는 시점 t에서의 상태를 나타내며, 1부터 $M$까지 정수값을 가짐.\n",
    "\n",
    "상태 전환 확률은 마르코프 체인을 사용하여 모델링되며, 각 상태는 오직 바로 이전 시점의 상태에만 의존하는 특성을 가진다."
   ]
  },
  {
   "cell_type": "markdown",
   "id": "91a213a5-fa1d-4ef3-92c7-eed9dfdec85d",
   "metadata": {},
   "source": [
    "# Non-parametric Model"
   ]
  },
  {
   "cell_type": "markdown",
   "id": "bfd92b91-4b42-444c-a97f-906297e231b1",
   "metadata": {},
   "source": [
    "- Kernel Regression\n",
    "\n",
    "- Bandwidth Selection\n",
    "  \n",
    "- Local linear Regression"
   ]
  },
  {
   "cell_type": "markdown",
   "id": "49cd2315-dff4-4eb8-bcc8-1c4e35cb83a3",
   "metadata": {},
   "source": [
    "- 머신러닝과 인공신경망 모델: 이에 대해서는 따로 포스트를 만들도록 하겠다."
   ]
  }
 ],
 "metadata": {
  "kernelspec": {
   "display_name": "Python 3",
   "language": "python",
   "name": "python3"
  },
  "language_info": {
   "codemirror_mode": {
    "name": "ipython",
    "version": 3
   },
   "file_extension": ".py",
   "mimetype": "text/x-python",
   "name": "python",
   "nbconvert_exporter": "python",
   "pygments_lexer": "ipython3",
   "version": "3.8.0"
  }
 },
 "nbformat": 4,
 "nbformat_minor": 5
}
