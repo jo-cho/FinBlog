{
 "cells": [
  {
   "cell_type": "raw",
   "id": "51b77e46-96d4-4d6e-9e3d-96c527a54f4d",
   "metadata": {},
   "source": [
    "---\n",
    "title: \"시계열 - 머신러닝, 딥러닝 모델\"\n",
    "subtitle: \"Time Series - ML/DL Models\"\n",
    "author: \"Cheonghyo Cho\"\n",
    "categories: [time series, deep learning, machine learning]\n",
    "image: \"./img/ts_07.png\"\n",
    "---"
   ]
  },
  {
   "cell_type": "markdown",
   "id": "0abba196-607e-4622-bc1c-39d1524dffd9",
   "metadata": {},
   "source": [
    "> 시계열 분석을 정리하고자 한다. 머신러닝과 딥러닝을 이용한 시계열 분석에 대해 알아보자. 다만 각 모델에 대해서는 간단히 다룬다."
   ]
  },
  {
   "cell_type": "markdown",
   "id": "c1eda0fd-3c45-4c3a-b81e-f7694ee0c88f",
   "metadata": {},
   "source": [
    "# 예측(Forecasting)"
   ]
  },
  {
   "cell_type": "markdown",
   "id": "290ac8ba-fc4d-496f-93f6-d882295b0e49",
   "metadata": {},
   "source": [
    "## Facebook Prophet"
   ]
  },
  {
   "cell_type": "markdown",
   "id": "9c21668f-e40d-4c7d-bcc1-4d835e2a8d58",
   "metadata": {},
   "source": []
  },
  {
   "cell_type": "markdown",
   "id": "690a68fc-e735-427b-a869-061d2c61d6a3",
   "metadata": {},
   "source": []
  },
  {
   "cell_type": "markdown",
   "id": "51917a0f-afda-4459-b775-e699e297676a",
   "metadata": {},
   "source": []
  },
  {
   "cell_type": "markdown",
   "id": "486ebd77-df71-4e59-893a-17df5f02592c",
   "metadata": {},
   "source": [
    "## SVM, Ensemble(Bagging, Boosting)"
   ]
  },
  {
   "cell_type": "markdown",
   "id": "359373a0-aa29-408a-a0b2-ae9b2888d7ce",
   "metadata": {},
   "source": [
    "**Support Vector Machine**"
   ]
  },
  {
   "cell_type": "markdown",
   "id": "2f1ac9f5-8030-411d-a0fc-54107ac23ccf",
   "metadata": {},
   "source": [
    "<img src='https://upload.wikimedia.org/wikipedia/commons/thumb/7/72/SVM_margin.png/300px-SVM_margin.png' width=200>"
   ]
  },
  {
   "cell_type": "markdown",
   "id": "3046ba5e-f550-481f-8d46-1139f6941d53",
   "metadata": {},
   "source": [
    "<img src='https://upload.wikimedia.org/wikipedia/commons/thumb/f/fe/Kernel_Machine.svg/1920px-Kernel_Machine.svg.png' width=400>"
   ]
  },
  {
   "cell_type": "markdown",
   "id": "a80551f1-4d10-49f7-b2c5-73a6342812ef",
   "metadata": {},
   "source": [
    "- 최대 마진 분류기: SVM의 주요 목표는 데이터 클래스 간에 최대 마진(margin)을 가지는 결정 경계(decision boundary)를 찾는 것이다. 마진은 결정 경계와 가장 가까운 훈련 샘플 사이의 거리를 의미하며, 이 샘플들을 서포트 벡터(support vectors)라고 한다.\n",
    "  - 목적 함수: $\\min_{w, b} \\frac{1}{2} \\|w\\|^2$\n",
    "  - 제약 조건: $y_i (w \\cdot x_i + b) \\geq 1, \\quad \\forall i$\n",
    "- 커널 트릭: 선형으로 분리가 불가능한 데이터셋에 대해서 SVM은 커널 트릭(kernel trick)을 사용하여 특성 공간을 고차원으로 매핑한다(다항 커널, RBF(Radial Basis Function, 방사 기저 함수) 커널 등)\n",
    "  \n",
    "- 소프트 마진 분류: 일부 오분류를 허용하는 소프트 마진 분류 방법을 사용한다. 하이퍼파라미터 C를 사용하여 제어할 수 있으며, C가 크면 마진 오류를 더 적게 허용하고, C가 작으면 더 많은 마진 오류를 허용한다.\n",
    "\n",
    "- 단점: scale에 민감"
   ]
  },
  {
   "cell_type": "markdown",
   "id": "d34d2fc1-8d46-415d-bd74-b878059b8fbc",
   "metadata": {},
   "source": [
    "**Bagging - Random Forest**"
   ]
  },
  {
   "cell_type": "markdown",
   "id": "af97099a-e74f-4236-b51f-67c35f3c8ef2",
   "metadata": {},
   "source": [
    "<img src=\"https://upload.wikimedia.org/wikipedia/commons/c/c7/Randomforests_ensemble.gif\">"
   ]
  },
  {
   "cell_type": "markdown",
   "id": "cc192848-586e-4ec6-922c-1f645efc2800",
   "metadata": {},
   "source": [
    "- 앙상블 학습: 랜덤 포레스트는 여러 개의 결정 트리를 조합하여 사용합니다. 각 트리는 독립적으로 학습되며, 최종 예측은 트리들의 예측 결과를 평균내거나 가장 많이 선택된 클래스로 결정한다(분류의 경우).\r\n",
    "\r\n",
    "- 부트스트랩 샘플링(Bootstrap sampling): 각 결정 트리는 전체 훈련 데이터셋에서 무작위로 선택된 데이터 샘플을 사용하여 훈련된다. 이 샘플링 방식을 부트스트랩 샘플링이라고 하며, 각 트리는 부트스트랩된 샘플로 구성된 서브셋을 이용해 훈련된다.\r\n",
    "\r\n",
    "- 특성의 무작위 선택(Feature Randomness): 각 노드에서 최적의 분할을 결정할 때, 전체 특성이 아닌 무작위로 선택된 일부 특성만 고려한다. 이로 인해 트리 간의 상관관계가 감소하고, 모델의 다양성이 증가하여 과적합을 방지한다."
   ]
  },
  {
   "cell_type": "markdown",
   "id": "a175bbb5-eeb0-4ff0-a70a-f4b310f249db",
   "metadata": {},
   "source": [
    "**Boosting - Gradient Boosting**"
   ]
  },
  {
   "cell_type": "markdown",
   "id": "d3109bc4-7c79-4ddf-a7a3-19586ad52812",
   "metadata": {},
   "source": [
    "<img src=\"https://media.geeksforgeeks.org/wp-content/uploads/20200721214745/gradientboosting.PNG\" width=600>"
   ]
  },
  {
   "cell_type": "markdown",
   "id": "46087e49-b73b-4870-a9e6-d15ffb915669",
   "metadata": {},
   "source": [
    "그래디언트 부스팅(Gradient Boosting)은 앙상블 학습 기법 중 하나로, 여러 개의 약한 학습기(weak learners)를 순차적으로 학습시켜 강력한 예측 모델을 만드는 방법이다. 이 방법은 주로 결정 트리를 약한 학습기로 사용하며, 각 단계에서 이전 학습기의 잔차(residual errors)를 줄이는 방향으로 학습을 진행한다."
   ]
  },
  {
   "cell_type": "markdown",
   "id": "24075a1b-fd0b-4ddd-ae3d-4bdf2c49c57e",
   "metadata": {},
   "source": [
    "- 손실 함수 최소화: 그래디언트 부스팅은 주어진 손실 함수를 최소화하기 위해 설계되었다. \n",
    "- 초기화: 첫 번째 학습기를 통해 간단한 예측 모델(예: 평균, 중앙값 등)을 만든다. $\\rightarrow$ 반복 학습: 이후 각 단계에서 이전 모델의 잔차를 목표로 새로운 학습기를 훈련한다. $\\rightarrow$ 모델 업데이트: 각 학습기의 결과를 가중합하여 최종 모델을 업데이트합니다. 각 단계의 학습기는 이전 모델의 그래디언트를 사용하여 학습된다.\n",
    "- 학습률(Learning Rate): 각 학습기의 기여도를 조절하는 학습률을 도입하여 모델의 변동성을 감소시키고, 더 안정적인 학습을 유도한다."
   ]
  },
  {
   "cell_type": "markdown",
   "id": "14adc8c9-6bdc-4833-95fd-127b4db19f45",
   "metadata": {},
   "source": [
    "- 단점: 과적합에 약함"
   ]
  },
  {
   "cell_type": "markdown",
   "id": "e67947e7-b4dc-46b7-ba1d-072e39878f3b",
   "metadata": {},
   "source": [
    "**XGBoost**\n",
    "\n",
    "<img src='./img/xgboost.png' width=400>\n",
    "\n",
    "- 성능과 속도: XGBoost는 병렬 처리와 트리 가지치기(Tree Pruning)를 통해 고속으로 실행되며, 전통적인 그래디언트 부스팅 기법보다 빠르며, 큰 데이터셋에서도 빠르게 학습할 수 있다.\r\n",
    "- 정규화: XGBoost는 모델 복잡성에 대한 정규화 항목을 포함하여 과적합을 방지한다. \r\n",
    "- 가지치기: XGBoost는 깊이 우선 접근 방식을 사용하여 트리를 확장하고, 손실 기능이 개선되지 않으면 트리 성장을 조기에 중단한다. 이는 과적합을 줄인다.\r\n",
    "- 결측치 처리: XGBoost는 내부적으로 결측치를 처리할 수 있는 기능을 가지고 있다. 사용자가 각 특성의 결측치를 어떻게 처리할지 지정할 수 있으며, 자동으로 최적의 방향을 찾는다.\r\n",
    "- 사용자 정의 가능성: 사용자는 손실 함수를 자유롭게 정의할 수 있으며, 이를 최적화하는 방향으로 알고리즘을 조정할 수 있다. 이는 XGBoost를 다양한 문제에 맞춰 유연하게 사용할 수 있게 한다."
   ]
  },
  {
   "cell_type": "code",
   "execution_count": 1,
   "id": "44edc607-309f-4522-8035-8da21a98d193",
   "metadata": {},
   "outputs": [],
   "source": [
    "import numpy as np\n",
    "import pandas as pd\n",
    "from sklearn.model_selection import train_test_split\n",
    "from sklearn.metrics import mean_squared_error\n",
    "import matplotlib.pyplot as plt"
   ]
  },
  {
   "cell_type": "code",
   "execution_count": 15,
   "id": "135bd174-2b90-4484-bba9-97b3f876cd20",
   "metadata": {},
   "outputs": [
    {
     "name": "stdout",
     "output_type": "stream",
     "text": [
      "Accuracy of SVC: 0.90\n",
      "F1 Score of SVC: 0.85\n",
      "Confusion Matrix of SVC:\n",
      "[[1232   78]\n",
      " [ 124  566]]\n",
      "\n",
      "\n",
      "Accuracy of RandomForestClassifier: 0.94\n",
      "F1 Score of RandomForestClassifier: 0.92\n",
      "Confusion Matrix of RandomForestClassifier:\n",
      "[[1251   59]\n",
      " [  55  635]]\n",
      "\n",
      "\n",
      "Accuracy of XGBClassifier: 0.94\n",
      "F1 Score of XGBClassifier: 0.91\n",
      "Confusion Matrix of XGBClassifier:\n",
      "[[1235   75]\n",
      " [  45  645]]\n",
      "\n",
      "\n"
     ]
    }
   ],
   "source": [
    "from sklearn.preprocessing import StandardScaler\n",
    "from sklearn.svm import SVC\n",
    "from sklearn.ensemble import RandomForestClassifier\n",
    "from sklearn.metrics import accuracy_score, f1_score, confusion_matrix\n",
    "import xgboost as xgb\n",
    "\n",
    "tn = 10000\n",
    "dates = pd.date_range('20200101', periods=tn)\n",
    "\n",
    "data = pd.DataFrame(np.random.randn(tn, 5), index=dates)\n",
    "\n",
    "# y 생성\n",
    "noise = np.random.normal(0, 0.5, tn)\n",
    "data['y'] = ((2 * data[0]/data[1] - 1.5 * data[2]**2 + noise) > 0).astype(int)\n",
    "\n",
    "# 데이터 분할\n",
    "X = data.drop('y', axis=1)\n",
    "y = data['y']\n",
    "X_train, X_test, y_train, y_test = train_test_split(X, y, test_size=0.2, shuffle=False)\n",
    "scaler = StandardScaler()\n",
    "X_train_scaled = scaler.fit_transform(X_train)\n",
    "X_test_scaled = scaler.transform(X_test)\n",
    "\n",
    "# 모델 학습 및 평가\n",
    "def train_evaluate(model, X_train, y_train, X_test, y_test):\n",
    "    model.fit(X_train, y_train)\n",
    "    predictions = model.predict(X_test)\n",
    "    \n",
    "    # 성능 지표 계산\n",
    "    accuracy = accuracy_score(y_test, predictions)\n",
    "    f1 = f1_score(y_test, predictions)\n",
    "    conf_matrix = confusion_matrix(y_test, predictions)\n",
    "\n",
    "    # 결과 출력\n",
    "    print(f'Accuracy of {model.__class__.__name__}: {accuracy:.2f}')\n",
    "    print(f'F1 Score of {model.__class__.__name__}: {f1:.2f}')\n",
    "    print(f'Confusion Matrix of {model.__class__.__name__}:\\n{conf_matrix}\\n')\n",
    "    print('')\n",
    "\n",
    "# SVC\n",
    "svc_model = SVC()\n",
    "train_evaluate(svc_model, X_train_scaled, y_train, X_test_scaled, y_test)\n",
    "\n",
    "# Random Forest\n",
    "rf_model = RandomForestClassifier(random_state=42)\n",
    "train_evaluate(rf_model, X_train, y_train, X_test, y_test)\n",
    "\n",
    "# XGBoost\n",
    "xgb_model = xgb.XGBClassifier(use_label_encoder=False, eval_metric='logloss')\n",
    "train_evaluate(xgb_model, X_train, y_train, X_test, y_test)"
   ]
  },
  {
   "cell_type": "markdown",
   "id": "de4fd206-8734-4fd8-ba43-e31a40e32951",
   "metadata": {},
   "source": [
    "## RNN, LSTM, GRU"
   ]
  },
  {
   "cell_type": "markdown",
   "id": "874ff1cb-5e01-4a16-b8a6-a091f3eedef8",
   "metadata": {},
   "source": [
    "RNN(Recurrent Neural Network)과 그 변형들인 LSTM(Long Short-Term Memory)과 GRU(Gated Recurrent Unit)는 순차 데이터나 시계열 데이터를 처리하는 데 특화된 신경망 구조이다."
   ]
  },
  {
   "cell_type": "markdown",
   "id": "ba689318-b970-49cc-9454-b112cd75301e",
   "metadata": {},
   "source": [
    "**RNN (Recurrent Neural Network)**\n",
    "\n",
    "<img src=\"https://upload.wikimedia.org/wikipedia/commons/thumb/b/b5/Recurrent_neural_network_unfold.svg/1920px-Recurrent_neural_network_unfold.svg.png\" width=500>\n",
    "\r\n",
    "RNN은 순차적인 정보를 처리하기 위해 고안된 신경망으로, 내부에 반복되는 네트워크 구조를 가진다. 이 구조는 시퀀스의 각 요소를 차례대로 처리하며, 각 시점에서의 출력이 다음 시점의 입력에 영향을 미친다.\r\n",
    "\r\n",
    "- 메모리: 이전 정보를 일정 기간 동안 기억할 수 있는 '메모리' 기능을 가지고 있어, 시간에 따른 데이터의 패턴을 학습할 수 있다.\r\n",
    "- 파라미터 공유: 시간에 따라 동일한 가중치를 사용함으로써 학습해야 할 파라미터 수를 줄이고, 공간적 효율성을 높인다.\r\n",
    "\r\n",
    "- 단기 기억 문제: 긴 시퀀스를 처리할 때 초기 입력 정보가 망각되는 경향이 있다(장기 의존성 문제).\r\n",
    "- 그래디언트 소실 및 폭발: 시간이 길어질수록 그래디언트가 소실되거나 폭발할 수 있는 문제가 발생한다."
   ]
  },
  {
   "cell_type": "markdown",
   "id": "13d42e98-f625-4f1d-9317-5b6d4ef22bf4",
   "metadata": {},
   "source": [
    "**LSTM (Long Short-Term Memory)**\n",
    "\n",
    "<img src=\"https://upload.wikimedia.org/wikipedia/commons/thumb/6/63/Long_Short-Term_Memory.svg/1920px-Long_Short-Term_Memory.svg.png\" width=500>\n",
    "\n",
    "LSTM은 RNN의 장기 의존성 문제를 해결하기 위해 고안된 구조로, 정보를 장기간에 걸쳐 저장하거나 삭제할 수 있는 게이트가 포함되어 있다.\n",
    "\n",
    "- 구조\n",
    "  - 입력 게이트: 정보를 셀 상태에 추가할지 말지 결정\n",
    "  - 망각 게이트: 셀 상태에서 어떤 정보를 버릴지 결정\n",
    "  - 출력 게이트: 셀 상태의 어떤 부분을 출력할지 결정\n",
    "\n",
    "- 장기 기억: 중요한 정보를 긴 시간 동안 기억할 수 있다.\n",
    "\n",
    "- 그래디언트 안정성: 게이트를 통해 그래디언트의 소실과 폭발 문제를 크게 완화한다."
   ]
  },
  {
   "cell_type": "markdown",
   "id": "30b58f27-5c12-4be2-9151-f6c88d4567c9",
   "metadata": {},
   "source": [
    "**GRU (Gated Recurrent Unit)**\n",
    "\n",
    "<img src=\"https://upload.wikimedia.org/wikipedia/commons/thumb/5/5f/Gated_Recurrent_Unit.svg/1920px-Gated_Recurrent_Unit.svg.png\" width=500>\n",
    "\n",
    "GRU는 LSTM의 간소화된 버전으로, 성능은 유지하면서 계산을 더 효율적으로 만들고자 설계되었다.\n",
    "\n",
    "- 구조\n",
    "  - 리셋 게이트: 과거 정보를 얼마나 무시할지 결정\n",
    "  - 업데이트 게이트: 새로운 정보를 얼마나 많이 받아들일지, 과거 정보를 얼마나 유지할지 결정\n",
    "\n",
    "- 계산 효율성: LSTM에 비해 더 적은 계산을 요구하며, 비교적 적은 양의 데이터로도 좋은 성능을 발휘할 수 있다."
   ]
  },
  {
   "cell_type": "code",
   "execution_count": 16,
   "id": "89a7a276-89a7-4b8f-87f2-49b69017c68e",
   "metadata": {},
   "outputs": [],
   "source": [
    "import tensorflow as tf"
   ]
  },
  {
   "cell_type": "code",
   "execution_count": 17,
   "id": "c53a40d5-d915-4ee3-811e-ae0fa865801a",
   "metadata": {},
   "outputs": [
    {
     "name": "stdout",
     "output_type": "stream",
     "text": [
      "RNN Model Accuracy: 0.93\n",
      "LSTM Model Accuracy: 0.94\n",
      "GRU Model Accuracy: 0.94\n"
     ]
    }
   ],
   "source": [
    "import numpy as np\n",
    "import pandas as pd\n",
    "from sklearn.preprocessing import StandardScaler\n",
    "from tensorflow.keras.models import Sequential\n",
    "from tensorflow.keras.layers import SimpleRNN, LSTM, GRU, Dense\n",
    "from tensorflow.keras.optimizers import Adam\n",
    "\n",
    "X_train_scaled = scaler.fit_transform(X_train).reshape(-1, 1, 5)\n",
    "X_test_scaled = scaler.transform(X_test).reshape(-1, 1, 5)\n",
    "\n",
    "# 모델 정의 함수\n",
    "def build_model(model_type):\n",
    "    model = Sequential()\n",
    "    if model_type == 'RNN':\n",
    "        model.add(SimpleRNN(50, input_shape=(1, 5), activation='tanh'))\n",
    "    elif model_type == 'LSTM':\n",
    "        model.add(LSTM(50, input_shape=(1, 5), activation='tanh'))\n",
    "    elif model_type == 'GRU':\n",
    "        model.add(GRU(50, input_shape=(1, 5), activation='tanh'))\n",
    "    model.add(Dense(1, activation='sigmoid'))\n",
    "    model.compile(optimizer=Adam(learning_rate=0.01), loss='binary_crossentropy', metrics=['accuracy'])\n",
    "    return model\n",
    "\n",
    "# 모델 학습 및 평가\n",
    "def train_evaluate(model_type):\n",
    "    model = build_model(model_type)\n",
    "    model.fit(X_train_scaled, y_train, epochs=30, verbose=0)\n",
    "    loss, accuracy = model.evaluate(X_test_scaled, y_test, verbose=0)\n",
    "    print(f'{model_type} Model Accuracy: {accuracy:.2f}')\n",
    "\n",
    "train_evaluate('RNN')\n",
    "train_evaluate('LSTM')\n",
    "train_evaluate('GRU')"
   ]
  },
  {
   "cell_type": "markdown",
   "id": "fdc6d5c2-bf7b-4e8a-8099-d7995a3978f4",
   "metadata": {},
   "source": [
    "## Transformer"
   ]
  },
  {
   "cell_type": "markdown",
   "id": "78518ac9-e30c-4d4d-ad46-ce93558658a6",
   "metadata": {},
   "source": [
    "트랜스포머(Transformer)는 주로 자연어 처리(NLP) 분야에서 사용되는 신경망 아키텍처로, 2017년 구글의 \"Attention is All You Need\" 논문을 통해 소개되었다. 트랜스포머는 어텐션 메커니즘을 사용하여 전체 입력 데이터를 한 번에 처리하는 방식을 채택한다.\n",
    "\n",
    "<img src=\"https://upload.wikimedia.org/wikipedia/commons/8/8f/The-Transformer-model-architecture.png\" width=500>\n",
    "\n",
    "- 어텐션 메커니즘\n",
    "  - 셀프 어텐션(Self-Attention): 하나의 시퀀스 내에서 각 요소가 서로 얼마나 영향을 미치는지를 학습한다. 각 단어는 다른 모든 단어와의 관계를 통해 자신의 출력을 조정한다.\n",
    "  - 멀티 헤드 어텐션(Multi-Head Attention): 셀프 어텐션을 다양한 방식으로 동시에 수행하여, 서로 다른 시각에서 정보를 추출하고 결합한다. 이는 모델이 다양한 표현을 학습할 수 있도록 돕는다.\n",
    "\n",
    "- 포지셔널 인코딩(Positional Encoding)\n",
    "  - 트랜스포머는 입력 데이터의 시퀀스 순서에 대한 정보가 없기 때문에, 각 입력 요소에 포지셔널 인코딩을 추가하여 위치 정보를 제공한다.\n",
    "\n",
    "- 인코더 디코더 구조\n",
    "  - 인코더: 입력 시퀀스를 처리하여 연속적인 표현을 생성한다. 트랜스포머는 이러한 인코더를 여러 층으로 쌓아 구성한다.\n",
    "  - 디코더: 인코더의 출력과 이전 디코더의 출력을 받아 다음 출력 시퀀스 요소를 생성한다. 디코더 역시 멀티 헤드 어텐션과 피드포워드 신경망으로 구성된다.\n",
    "\n",
    "- 장점\n",
    "  - 병렬 처리: RNN과 달리 트랜스포머는 입력 데이터를 한 번에 처리할 수 있어 GPU를 활용한 대규모 병렬 처리가 가능하다.\n",
    "  - 장거리 의존성 학습: 셀프 어텐션 메커니즘 덕분에, 문장 내 먼 거리에 위치한 요소 간의 관계도 효과적으로 학습할 수 있다."
   ]
  },
  {
   "cell_type": "code",
   "execution_count": 23,
   "id": "832cce4b-c9e6-419a-982d-356478613a73",
   "metadata": {},
   "outputs": [
    {
     "name": "stdout",
     "output_type": "stream",
     "text": [
      "Transformer Model Accuracy: 0.83\n"
     ]
    }
   ],
   "source": [
    "from tensorflow.keras.models import Model\n",
    "from tensorflow.keras.layers import Input,  MultiHeadAttention, LayerNormalization, Dropout, Flatten\n",
    "\n",
    "X_train_scaled = scaler.fit_transform(X_train).reshape(-1, 10, 5)  # 10 타임스텝, 5 피처\n",
    "X_test_scaled = scaler.transform(X_test).reshape(-1, 10, 5)\n",
    "\n",
    "# Transformer 레이어 구성\n",
    "def transformer_encoder(inputs):\n",
    "    # Multi-head attention\n",
    "    attn_output = MultiHeadAttention(num_heads=2, key_dim=5)(inputs, inputs)\n",
    "    attn_output = Dropout(0.1)(attn_output)\n",
    "    out1 = LayerNormalization(epsilon=1e-6)(inputs + attn_output)\n",
    "\n",
    "    # Feed-forward network\n",
    "    ffn_output = Dense(20, activation=\"relu\")(out1)\n",
    "    ffn_output = Dense(inputs.shape[-1])(ffn_output)\n",
    "    ffn_output = Dropout(0.1)(ffn_output)\n",
    "    return LayerNormalization(epsilon=1e-6)(out1 + ffn_output)\n",
    "\n",
    "# 모델 정의\n",
    "input_layer = Input(shape=(10, 5))\n",
    "x = transformer_encoder(input_layer)\n",
    "x = transformer_encoder(x)\n",
    "x = Flatten()(x)\n",
    "output_layer = Dense(1, activation='sigmoid')(x)\n",
    "model = Model(inputs=input_layer, outputs=output_layer)\n",
    "model.compile(optimizer=Adam(learning_rate=0.01), loss='binary_crossentropy', metrics=['accuracy'])\n",
    "\n",
    "# 모델 학습\n",
    "y_train_adjusted = y_train[::10]\n",
    "y_test_adjusted = y_test[::10]\n",
    "model.fit(X_train_scaled, y_train_adjusted, epochs=100, verbose=0)\n",
    "loss, accuracy = model.evaluate(X_test_scaled, y_test_adjusted, verbose=0)\n",
    "print(f'Transformer Model Accuracy: {accuracy:.2f}')"
   ]
  },
  {
   "cell_type": "markdown",
   "id": "55dbd315-29df-4209-8134-216f08d3d196",
   "metadata": {},
   "source": [
    "# 이상탐지(Anomaly Detection)"
   ]
  },
  {
   "cell_type": "markdown",
   "id": "51010dea-e3ea-4834-9081-7fcdca622c56",
   "metadata": {},
   "source": [
    "## Autoencoders"
   ]
  },
  {
   "cell_type": "markdown",
   "id": "90009a06-5cec-4f5a-92f3-b3d10d4cda7c",
   "metadata": {},
   "source": [
    "Autoencoder는 입력 데이터를 효과적으로 압축하고 재구성하는 신경망 아키텍처로, 비지도 학습에 주로 사용된다. 이 모델은 입력 데이터를 낮은 차원의 표현으로 압축하는 인코더 부분과, 이 압축된 표현을 다시 원래의 데이터로 재구성하는 디코더 부분으로 구성된다."
   ]
  },
  {
   "cell_type": "markdown",
   "id": "87f56544-16da-41b3-8586-1ec6b8e658a0",
   "metadata": {},
   "source": [
    "Autoencoder의 기본 구조\n",
    "\n",
    "- 인코더(Encoder): 입력 데이터 $x$를 받아들여, 그 데이터의 특징을 포착하는 내부 표현 $z$를 생성한다. 이 과정에서 원본 데이터보다 낮은 차원의 공간으로 데이터를 압축한다.\n",
    "  \n",
    "- 디코더(Decoder): 인코더에서 생성된 내부 표현 $z$를 사용하여 원본 데이터와 같은 차원의 출력$x'$를 재구성한다. 디코더의 목표는 인코더에서 압축된 정보를 사용해 원본 데이터 $x$를 가능한 한 정확하게 복원하는 것이다.\n",
    "  \n",
    "- 손실 함수(Loss function): 재구성된 데이터$x'$와 원본 데이터 $x$ 사이의 차이를 측정한다. 일반적으로 사용되는 손실 함수는 Mean Squared Error (MSE)이다."
   ]
  },
  {
   "cell_type": "markdown",
   "id": "943ea680-0e3c-489e-b14c-55d60ca4fef0",
   "metadata": {},
   "source": [
    "Autoencoder의 활용\n",
    "- 이상 탐지(Anomaly Detection): 정상 데이터만을 사용해 Autoencoder를 훈련시키면, 훈련되지 않은 이상 데이터는 재구성 오류가 크게 나타나므로 이상치를 감지하는 데 사용할 수 있다."
   ]
  },
  {
   "cell_type": "code",
   "execution_count": 24,
   "id": "149ef191-c722-4c44-98e4-6e85297251d8",
   "metadata": {},
   "outputs": [],
   "source": [
    "from tensorflow.keras.models import Model\n",
    "from tensorflow.keras.layers import Input, LSTM, RepeatVector, TimeDistributed, Dense\n",
    "from sklearn.preprocessing import MinMaxScaler\n",
    "from sklearn.metrics import mean_squared_error\n",
    "\n",
    "# 데이터 생성 함수\n",
    "def generate_data(timesteps, num_samples=1000, anomaly=False):\n",
    "    data = []\n",
    "    for _ in range(num_samples):\n",
    "        x = np.linspace(0, 2 * np.pi, timesteps)\n",
    "        if anomaly and np.random.rand() > 0.95:  # 5%의 이상치 생성\n",
    "            signal = np.sin(x) + np.random.normal(size=(timesteps,)) * 0.5 + 5  # 이상치 추가\n",
    "        else:\n",
    "            signal = np.sin(x) + np.random.normal(size=(timesteps,)) * 0.5\n",
    "        data.append(signal)\n",
    "    return np.array(data)\n",
    "\n",
    "# 데이터 준비\n",
    "timesteps = 50\n",
    "num_samples = 3000\n",
    "data = generate_data(timesteps, num_samples)\n",
    "data_anomaly = generate_data(timesteps, 100, anomaly=True)\n",
    "\n",
    "# 데이터 스케일링\n",
    "scaler = MinMaxScaler()\n",
    "data_scaled = scaler.fit_transform(data)\n",
    "data_anomaly_scaled = scaler.transform(data_anomaly)"
   ]
  },
  {
   "cell_type": "code",
   "execution_count": 32,
   "id": "90fdbe59-926f-4e2f-925d-e76006873cf2",
   "metadata": {},
   "outputs": [
    {
     "data": {
      "text/plain": [
       "[<matplotlib.lines.Line2D at 0x1aad2128520>]"
      ]
     },
     "execution_count": 32,
     "metadata": {},
     "output_type": "execute_result"
    },
    {
     "data": {
      "image/png": "[encoded data removed]",
      "text/plain": [
       "<Figure size 432x288 with 1 Axes>"
      ]
     },
     "metadata": {
      "needs_background": "light"
     },
     "output_type": "display_data"
    }
   ],
   "source": [
    "plt.plot(data[:,0])"
   ]
  },
  {
   "cell_type": "code",
   "execution_count": 34,
   "id": "8acc0fe3-89eb-4d3f-bf77-7dec5404536d",
   "metadata": {},
   "outputs": [
    {
     "data": {
      "text/plain": [
       "[<matplotlib.lines.Line2D at 0x1aadf08edc0>]"
      ]
     },
     "execution_count": 34,
     "metadata": {},
     "output_type": "execute_result"
    },
    {
     "data": {
      "image/png": "[encoded data removed]",
      "text/plain": [
       "<Figure size 432x288 with 1 Axes>"
      ]
     },
     "metadata": {
      "needs_background": "light"
     },
     "output_type": "display_data"
    }
   ],
   "source": [
    "plt.plot(data_anomaly[:,0])"
   ]
  },
  {
   "cell_type": "code",
   "execution_count": 35,
   "id": "c28b63e5-b1f9-47b6-bc92-ee9af1073535",
   "metadata": {},
   "outputs": [
    {
     "name": "stdout",
     "output_type": "stream",
     "text": [
      "Model: \"model_4\"\n",
      "_________________________________________________________________\n",
      " Layer (type)                Output Shape              Param #   \n",
      "=================================================================\n",
      " input_6 (InputLayer)        [(None, 50, 1)]           0         \n",
      "                                                                 \n",
      " lstm_3 (LSTM)               (None, 50, 128)           66560     \n",
      "                                                                 \n",
      " lstm_4 (LSTM)               (None, 64)                49408     \n",
      "                                                                 \n",
      " repeat_vector (RepeatVecto  (None, 50, 64)            0         \n",
      " r)                                                              \n",
      "                                                                 \n",
      " lstm_5 (LSTM)               (None, 50, 64)            33024     \n",
      "                                                                 \n",
      " lstm_6 (LSTM)               (None, 50, 128)           98816     \n",
      "                                                                 \n",
      " time_distributed (TimeDist  (None, 50, 1)             129       \n",
      " ributed)                                                        \n",
      "                                                                 \n",
      "=================================================================\n",
      "Total params: 247937 (968.50 KB)\n",
      "Trainable params: 247937 (968.50 KB)\n",
      "Non-trainable params: 0 (0.00 Byte)\n",
      "_________________________________________________________________\n",
      "Epoch 1/50\n",
      "19/19 [==============================] - 11s 334ms/step - loss: 0.1433 - val_loss: 0.0526\n",
      "Epoch 2/50\n",
      "19/19 [==============================] - 6s 314ms/step - loss: 0.0409 - val_loss: 0.0357\n",
      "Epoch 3/50\n",
      "19/19 [==============================] - 6s 305ms/step - loss: 0.0328 - val_loss: 0.0306\n",
      "Epoch 4/50\n",
      "19/19 [==============================] - 6s 304ms/step - loss: 0.0285 - val_loss: 0.0275\n",
      "Epoch 5/50\n",
      "19/19 [==============================] - 6s 328ms/step - loss: 0.0261 - val_loss: 0.0253\n",
      "Epoch 6/50\n",
      "19/19 [==============================] - 6s 318ms/step - loss: 0.0241 - val_loss: 0.0235\n",
      "Epoch 7/50\n",
      "19/19 [==============================] - 6s 310ms/step - loss: 0.0225 - val_loss: 0.0220\n",
      "Epoch 8/50\n",
      "19/19 [==============================] - 6s 294ms/step - loss: 0.0214 - val_loss: 0.0212\n",
      "Epoch 9/50\n",
      "19/19 [==============================] - 7s 367ms/step - loss: 0.0208 - val_loss: 0.0208\n",
      "Epoch 10/50\n",
      "19/19 [==============================] - 7s 363ms/step - loss: 0.0208 - val_loss: 0.0211\n",
      "Epoch 11/50\n",
      "19/19 [==============================] - 7s 337ms/step - loss: 0.0207 - val_loss: 0.0208\n",
      "Epoch 12/50\n",
      "19/19 [==============================] - 6s 319ms/step - loss: 0.0207 - val_loss: 0.0208\n",
      "Epoch 13/50\n",
      "19/19 [==============================] - 7s 358ms/step - loss: 0.0206 - val_loss: 0.0208\n",
      "Epoch 14/50\n",
      "19/19 [==============================] - 7s 360ms/step - loss: 0.0206 - val_loss: 0.0208\n",
      "Epoch 15/50\n",
      "19/19 [==============================] - 7s 348ms/step - loss: 0.0206 - val_loss: 0.0212\n",
      "Epoch 16/50\n",
      "19/19 [==============================] - 7s 377ms/step - loss: 0.0207 - val_loss: 0.0208\n",
      "Epoch 17/50\n",
      "19/19 [==============================] - 6s 313ms/step - loss: 0.0206 - val_loss: 0.0208\n",
      "Epoch 18/50\n",
      "19/19 [==============================] - 6s 341ms/step - loss: 0.0206 - val_loss: 0.0209\n",
      "Epoch 19/50\n",
      "19/19 [==============================] - 6s 331ms/step - loss: 0.0206 - val_loss: 0.0208\n",
      "Epoch 20/50\n",
      "19/19 [==============================] - 7s 359ms/step - loss: 0.0206 - val_loss: 0.0207\n",
      "Epoch 21/50\n",
      "19/19 [==============================] - 7s 390ms/step - loss: 0.0207 - val_loss: 0.0207\n",
      "Epoch 22/50\n",
      "19/19 [==============================] - 7s 375ms/step - loss: 0.0209 - val_loss: 0.0208\n",
      "Epoch 23/50\n",
      "19/19 [==============================] - 6s 335ms/step - loss: 0.0206 - val_loss: 0.0207\n",
      "Epoch 24/50\n",
      "19/19 [==============================] - 6s 322ms/step - loss: 0.0205 - val_loss: 0.0206\n",
      "Epoch 25/50\n",
      "19/19 [==============================] - 6s 341ms/step - loss: 0.0272 - val_loss: 0.0256\n",
      "Epoch 26/50\n",
      "19/19 [==============================] - 6s 301ms/step - loss: 0.0238 - val_loss: 0.0227\n",
      "Epoch 27/50\n",
      "19/19 [==============================] - 6s 331ms/step - loss: 0.0220 - val_loss: 0.0217\n",
      "Epoch 28/50\n",
      "19/19 [==============================] - 6s 314ms/step - loss: 0.0212 - val_loss: 0.0211\n",
      "Epoch 29/50\n",
      "19/19 [==============================] - 6s 331ms/step - loss: 0.0209 - val_loss: 0.0210\n",
      "Epoch 30/50\n",
      "19/19 [==============================] - 6s 325ms/step - loss: 0.0208 - val_loss: 0.0209\n",
      "Epoch 31/50\n",
      "19/19 [==============================] - 6s 329ms/step - loss: 0.0207 - val_loss: 0.0210\n",
      "Epoch 32/50\n",
      "19/19 [==============================] - 6s 319ms/step - loss: 0.0207 - val_loss: 0.0208\n",
      "Epoch 33/50\n",
      "19/19 [==============================] - 6s 309ms/step - loss: 0.0206 - val_loss: 0.0210\n",
      "Epoch 34/50\n",
      "19/19 [==============================] - 6s 337ms/step - loss: 0.0207 - val_loss: 0.0208\n",
      "Epoch 35/50\n",
      "19/19 [==============================] - 6s 303ms/step - loss: 0.0206 - val_loss: 0.0207\n",
      "Epoch 36/50\n",
      "19/19 [==============================] - 7s 346ms/step - loss: 0.0206 - val_loss: 0.0208\n",
      "Epoch 37/50\n",
      "19/19 [==============================] - 6s 339ms/step - loss: 0.0206 - val_loss: 0.0207\n",
      "Epoch 38/50\n",
      "19/19 [==============================] - 7s 364ms/step - loss: 0.0205 - val_loss: 0.0209\n",
      "Epoch 39/50\n",
      "19/19 [==============================] - 6s 342ms/step - loss: 0.0219 - val_loss: 0.0212\n",
      "Epoch 40/50\n",
      "19/19 [==============================] - 7s 379ms/step - loss: 0.0209 - val_loss: 0.0210\n",
      "Epoch 41/50\n",
      "19/19 [==============================] - 7s 350ms/step - loss: 0.0208 - val_loss: 0.0209\n",
      "Epoch 42/50\n",
      "19/19 [==============================] - 6s 309ms/step - loss: 0.0207 - val_loss: 0.0209\n",
      "Epoch 43/50\n",
      "19/19 [==============================] - 7s 350ms/step - loss: 0.0207 - val_loss: 0.0209\n",
      "Epoch 44/50\n",
      "19/19 [==============================] - 6s 321ms/step - loss: 0.0207 - val_loss: 0.0209\n",
      "Epoch 45/50\n",
      "19/19 [==============================] - 6s 333ms/step - loss: 0.0207 - val_loss: 0.0209\n",
      "Epoch 46/50\n",
      "19/19 [==============================] - 6s 331ms/step - loss: 0.0207 - val_loss: 0.0209\n",
      "Epoch 47/50\n",
      "19/19 [==============================] - 6s 317ms/step - loss: 0.0207 - val_loss: 0.0208\n",
      "Epoch 48/50\n",
      "19/19 [==============================] - 6s 314ms/step - loss: 0.0207 - val_loss: 0.0209\n",
      "Epoch 49/50\n",
      "19/19 [==============================] - 6s 321ms/step - loss: 0.0206 - val_loss: 0.0208\n",
      "Epoch 50/50\n",
      "19/19 [==============================] - 6s 324ms/step - loss: 0.0206 - val_loss: 0.0208\n",
      "94/94 [==============================] - 5s 44ms/step\n",
      "4/4 [==============================] - 0s 36ms/step\n"
     ]
    },
    {
     "data": {
      "image/png": "[encoded data removed]",
      "text/plain": [
       "<Figure size 432x288 with 1 Axes>"
      ]
     },
     "metadata": {
      "needs_background": "light"
     },
     "output_type": "display_data"
    }
   ],
   "source": [
    "# Autoencoder 모델\n",
    "input_seq = Input(shape=(timesteps, 1))\n",
    "encoded = LSTM(128, activation='relu', return_sequences=True)(input_seq)\n",
    "encoded = LSTM(64, activation='relu', return_sequences=False)(encoded)\n",
    "decoded = RepeatVector(timesteps)(encoded)\n",
    "decoded = LSTM(64, activation='relu', return_sequences=True)(decoded)\n",
    "decoded = LSTM(128, activation='relu', return_sequences=True)(decoded)\n",
    "decoded = TimeDistributed(Dense(1))(decoded)\n",
    "\n",
    "autoencoder = Model(input_seq, decoded)\n",
    "autoencoder.compile(optimizer=Adam(learning_rate=0.001), loss='mse')\n",
    "autoencoder.summary()\n",
    "\n",
    "# 모델 학습\n",
    "history = autoencoder.fit(data_scaled.reshape(-1, timesteps, 1), data_scaled.reshape(-1, timesteps, 1),\n",
    "                          epochs=50, batch_size=128, validation_split=0.2, verbose=1)\n",
    "\n",
    "# 이상 감지\n",
    "reconstructions = autoencoder.predict(data_scaled.reshape(-1, timesteps, 1))\n",
    "reconstruction_errors = np.mean(np.abs(data_scaled.reshape(-1, timesteps, 1) - reconstructions), axis=1)\n",
    "threshold = np.mean(reconstruction_errors) + 2 * np.std(reconstruction_errors)\n",
    "\n",
    "# 이상치 데이터 테스트\n",
    "reconstructions_anomaly = autoencoder.predict(data_anomaly_scaled.reshape(-1, timesteps, 1))\n",
    "reconstruction_errors_anomaly = np.mean(np.abs(data_anomaly_scaled.reshape(-1, timesteps, 1) - reconstructions_anomaly), axis=1)\n",
    "\n",
    "# 결과 시각화\n",
    "plt.hist(reconstruction_errors, bins=50, label='Normal')\n",
    "plt.hist(reconstruction_errors_anomaly, bins=50, label='Anomaly', alpha=0.7)\n",
    "plt.axvline(threshold, color='r', linewidth=2, linestyle='dashed', label='Threshold')\n",
    "plt.legend()\n",
    "plt.xlabel('Reconstruction error')\n",
    "plt.ylabel('Frequency')\n",
    "plt.title('Reconstruction Error Distribution')\n",
    "plt.show()"
   ]
  },
  {
   "cell_type": "markdown",
   "id": "d81bca47-85d5-4660-95b6-3dd86aefcbb2",
   "metadata": {},
   "source": [
    "*.. 작성중 ..*"
   ]
  }
 ],
 "metadata": {
  "kernelspec": {
   "display_name": "Python 3",
   "language": "python",
   "name": "python3"
  },
  "language_info": {
   "codemirror_mode": {
    "name": "ipython",
    "version": 3
   },
   "file_extension": ".py",
   "mimetype": "text/x-python",
   "name": "python",
   "nbconvert_exporter": "python",
   "pygments_lexer": "ipython3",
   "version": "3.8.0"
  }
 },
 "nbformat": 4,
 "nbformat_minor": 5
}
