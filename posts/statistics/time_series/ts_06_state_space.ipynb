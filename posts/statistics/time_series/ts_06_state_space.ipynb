{
 "cells": [
  {
   "cell_type": "raw",
   "id": "51b77e46-96d4-4d6e-9e3d-96c527a54f4d",
   "metadata": {},
   "source": [
    "---\n",
    "title: \"시계열 - 상태 공간 모델\"\n",
    "subtitle: \"Time Series - State Space Models\"\n",
    "author: \"Cheonghyo Cho\"\n",
    "categories: [time series, Kalman filter]\n",
    "image: \"./img/ts_06.png\"\n",
    "---"
   ]
  },
  {
   "cell_type": "markdown",
   "id": "0abba196-607e-4622-bc1c-39d1524dffd9",
   "metadata": {},
   "source": [
    "> 시계열 분석을 정리하고자 한다. 시계열의 상태공간 모델링에 대해 알아보자."
   ]
  }
 ],
 "metadata": {
  "kernelspec": {
   "display_name": "Python 3",
   "language": "python",
   "name": "python3"
  },
  "language_info": {
   "codemirror_mode": {
    "name": "ipython",
    "version": 3
   },
   "file_extension": ".py",
   "mimetype": "text/x-python",
   "name": "python",
   "nbconvert_exporter": "python",
   "pygments_lexer": "ipython3",
   "version": "3.8.0"
  }
 },
 "nbformat": 4,
 "nbformat_minor": 5
}
