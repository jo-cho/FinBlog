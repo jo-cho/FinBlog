{
 "cells": [
  {
   "cell_type": "raw",
   "id": "51b77e46-96d4-4d6e-9e3d-96c527a54f4d",
   "metadata": {},
   "source": [
    "---\n",
    "title: \"시계열 - 변동성\"\n",
    "subtitle: \"Time Series - Volatility\"\n",
    "author: \"Cheonghyo Cho\"\n",
    "categories: [time series, volatility, ARCH, GARCH]\n",
    "image: \"./img/ts_04.png\"\n",
    "---"
   ]
  },
  {
   "cell_type": "markdown",
   "id": "0abba196-607e-4622-bc1c-39d1524dffd9",
   "metadata": {},
   "source": [
    "> 시계열 분석을 정리하고자 한다. 시계열의 변동성 모델링(ARCH, GARCH 등), realized volatility, intraday volatility, VaR 등에 대해 알아보자."
   ]
  },
  {
   "cell_type": "markdown",
   "id": "fe80f772-9caa-48d3-8376-ffe5c6efb83e",
   "metadata": {},
   "source": [
    "# 변동성"
   ]
  },
  {
   "cell_type": "markdown",
   "id": "d1a44269-049a-4bad-bc5a-801d94afbd8f",
   "metadata": {},
   "source": [
    "# ARCH"
   ]
  },
  {
   "cell_type": "markdown",
   "id": "a02c21d5-6578-406b-91a6-e530681a0900",
   "metadata": {},
   "source": [
    "# GARCH"
   ]
  },
  {
   "cell_type": "markdown",
   "id": "06bf556b-21c0-47be-84b8-d46018f64ace",
   "metadata": {},
   "source": [
    "## EGARCH"
   ]
  },
  {
   "cell_type": "markdown",
   "id": "acaaf4fd-5386-45b5-b381-50050f0f3e1d",
   "metadata": {},
   "source": [
    "# High-frequency"
   ]
  },
  {
   "cell_type": "markdown",
   "id": "548187eb-a5c4-4642-8ecd-71f6c7083009",
   "metadata": {},
   "source": [
    "# Risk"
   ]
  },
  {
   "cell_type": "code",
   "execution_count": null,
   "id": "b0e455ce-142b-482d-a7b9-b9be58dbf465",
   "metadata": {},
   "outputs": [],
   "source": []
  }
 ],
 "metadata": {
  "kernelspec": {
   "display_name": "Python 3",
   "language": "python",
   "name": "python3"
  },
  "language_info": {
   "codemirror_mode": {
    "name": "ipython",
    "version": 3
   },
   "file_extension": ".py",
   "mimetype": "text/x-python",
   "name": "python",
   "nbconvert_exporter": "python",
   "pygments_lexer": "ipython3",
   "version": "3.8.0"
  }
 },
 "nbformat": 4,
 "nbformat_minor": 5
}
