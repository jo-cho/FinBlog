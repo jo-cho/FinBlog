{
 "cells": [
  {
   "cell_type": "raw",
   "id": "65ce700b-21bc-4087-9bbf-6011ac002f30",
   "metadata": {},
   "source": [
    "---\n",
    "title: \"자연어처리: BERT, GPT\"\n",
    "subtitle: \"BERT and GPT\"\n",
    "author: \"Cheonghyo Cho\"\n",
    "categories: [natural language processing, bert, gpt]\n",
    "image: \"img/nlp_06_4.png\"\n",
    "---"
   ]
  },
  {
   "attachments": {},
   "cell_type": "markdown",
   "id": "181bcd1b-1d94-4d5f-83dc-0103ecbf6b1b",
   "metadata": {},
   "source": [
    "BERT(Bidirectional Encoder Representations from Transformers)는 2018년에 구글이 공개한 사전 훈련된 모델, 트랜스포머를 이용하여 구현, 위키피디아(25억 단어)와 BooksCorpus(8억 단어)와 같은 레이블이 없는 텍스트 데이터로 사전 훈련된 언어 모델\n"
   ]
  },
  {
   "cell_type": "markdown",
   "id": "d29e40c6-36ef-40f0-9285-660b45e38955",
   "metadata": {},
   "source": [
    "..작성중.."
   ]
  },
  {
   "cell_type": "markdown",
   "id": "5a704146-dbd1-4432-8cbb-09cf00be5511",
   "metadata": {},
   "source": [
    "# BERT"
   ]
  },
  {
   "cell_type": "markdown",
   "id": "3ce7edcf-fa28-48f6-9117-3e20f614ad71",
   "metadata": {},
   "source": [
    "<img src='img/nlp_06_1.png' width='400'>"
   ]
  },
  {
   "cell_type": "markdown",
   "id": "beb42b7f-0d3a-4bef-b569-7fb45dc4f5dd",
   "metadata": {
    "jp-MarkdownHeadingCollapsed": true
   },
   "source": [
    "# 참고자료\n",
    "\n",
    "- 딥 러닝을 이용한 자연어 처리 입문(https://wikidocs.net/book/2155)"
   ]
  }
 ],
 "metadata": {
  "kernelspec": {
   "display_name": "Python 3",
   "language": "python",
   "name": "python3"
  },
  "language_info": {
   "codemirror_mode": {
    "name": "ipython",
    "version": 3
   },
   "file_extension": ".py",
   "mimetype": "text/x-python",
   "name": "python",
   "nbconvert_exporter": "python",
   "pygments_lexer": "ipython3",
   "version": "3.8.0"
  }
 },
 "nbformat": 4,
 "nbformat_minor": 5
}
