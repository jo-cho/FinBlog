{
 "cells": [
  {
   "cell_type": "raw",
   "id": "4ec5d191-7413-43d7-94e3-756c953eedd8",
   "metadata": {},
   "source": [
    "---\n",
    "title: \"경제부문별 텍스트 지표 (서범석, 2022)\"\n",
    "subtitle: \"Text-based Economic Field Indicators\"\n",
    "author: \"Cheonghyo Cho\"\n",
    "categories: [sentiment, natural language processing, transformer]\n",
    "image: \"img/tefi_f4.png\"\n",
    "---"
   ]
  },
  {
   "cell_type": "markdown",
   "id": "11a0c75c-08c4-4595-ae4a-052111d569f8",
   "metadata": {},
   "source": [
    "> 서범석(2022)에서 소개한 경제부문별 텍스트 지표를 소개한다. 경기 예측에 대한 내용도 포함한다."
   ]
  },
  {
   "cell_type": "markdown",
   "id": "2872fe8a-2f8c-4b2e-b00b-25649a8d66b0",
   "metadata": {},
   "source": [
    "**논문 요약**"
   ]
  },
  {
   "cell_type": "markdown",
   "id": "a6a8e951-fa36-4fda-9af6-68c06082e9c1",
   "metadata": {},
   "source": [
    "# 선행연구"
   ]
  },
  {
   "cell_type": "markdown",
   "id": "6e976578-1201-4ead-9781-04908cf632f7",
   "metadata": {},
   "source": [
    "### 주제 설정과 추출 방법\n",
    "\n",
    "- 주제 설정: 텍스트 지표를 작성하기 위해서는 먼저 추출하고자 하는 주제를 명확히 해야 함. 주제가 너무 광범위하면 정보의 가치가 떨어지고, 너무 좁으면 텍스트에 관련 정보가 부족할 수 있음.\n",
    "\n",
    "- 추출 방법\n",
    "  - 통계 모델링 (Stochastic Approach)\n",
    "    - 지도학습 (Supervised Learning): 예시 문장을 통해 학습하여 텍스트에서 주제를 추출, 복잡하고 추상적인 주제에 적합함.\n",
    "    - 비지도학습 (Unsupervised Learning): 예시 문장 없이 텍스트 간의 분포 차이를 이용해 학습함. 예) 주제별 텍스트 클러스터링\n",
    "  - 사람이 정의한 규칙 (Rule-Based Approach): 사람이 직접 텍스트에서 추출하려는 단어나 조건을 정해 놓고, 이를 기반으로 지표를 작성. 주로 문어체 텍스트 분석에 유용, 해석이 직관적임.\n",
    "\n",
    "### 적합한 방법 선택\n",
    "- 텍스트 데이터의 성격과 추출하려는 주제에 따라 어떤 방법을 사용할지 결정해야 함. 비정형 텍스트일수록 통계 모델링 방식이 우수한 성능을 보임.\n",
    "\n",
    "### 기존 연구 사례\n",
    "- 샌프란시스코 연준: 뉴스 기사를 긍정적/부정적 기사로 분류하여 뉴스심리지수를 개발.\n",
    "- Baker et al. (2016): 경제불확실성 지수를 사전접근법 방식으로 작성.\n",
    "- Bybee et al. (2020): 경제 뉴스 토픽 모델링을 통해 경기 변동을 설명.\n",
    "- IMF의 Caldara et al. (2022): 지정학적 리스크 평가를 위한 사전접근법 방식의 리스크 지표 작성.\n",
    "- 한국은행: 지도학습 방식으로 뉴스심리지수를 개발하여 실험적 통계로 공개."
   ]
  },
  {
   "cell_type": "markdown",
   "id": "cb2eeded-49c5-4859-944b-26a8f6d72382",
   "metadata": {},
   "source": [
    "# 데이터\n",
    "\n",
    "뉴스기사 텍스트 데이터의 웹크롤링(web crawling)\n",
    "- 경제분야 뉴스 기사 약 70여개 언론사에서 수집\n",
    "- 수집 대상기간: 2005년 ~ 2022년 3월\n",
    "- 평일 기준 일평균 약 3000건, 문장 단위로 환산 시 약 1천8백만 문장"
   ]
  },
  {
   "cell_type": "markdown",
   "id": "cef3da4c-75d9-44c2-be73-f4cb2b9ee154",
   "metadata": {},
   "source": [
    "# 경제지표 작성"
   ]
  },
  {
   "cell_type": "markdown",
   "id": "f20abceb-12e4-4a26-afb5-33be336ba5e5",
   "metadata": {},
   "source": [
    "**15개 부문**의 주요 거시변수 및 일부 산업 관련 미시변수를 선정"
   ]
  },
  {
   "cell_type": "markdown",
   "id": "380ca5ba-cfc7-42fa-a908-3721cceac1e0",
   "metadata": {},
   "source": [
    "**사전접근법 방식** 사용\n",
    "\n",
    "부문별 텍스트 기반 경제지표는 주제가 명확하고, 뉴스 데이터가 정형화된 문어체이므로 사전접근법 방식을 사용하는 것이 적합함\n",
    "\n",
    "- 지도학습 방식은 다음과 같은 문제로 인해 부적합함: 시간과 비용, 과적합 문제\n",
    "- 토픽모델링과 같은 비지도학습 방식은 추출 주제가 명확하지 않을 때 적합하지만, 구체적인 주제를 다룰 경우 적합하지 않음"
   ]
  },
  {
   "cell_type": "markdown",
   "id": "7db6915b-1858-4e05-ba3a-11bb67ac91a8",
   "metadata": {},
   "source": [
    "특정 단어의 포함 여부를 **문장** 단위에 적용한 뒤, 해당 문장의 포함 여부를 기준으로 뉴스 기사를 분류하여 작성 (기존 연구들은 기사 단위에 적용)\n",
    "\n",
    "분야별 단어군을 사전에 정의하고, 이들 단어군을 포함하는 문장이 등장한 기사들의 기간중 상대빈도수를 계산하여 작성"
   ]
  },
  {
   "cell_type": "markdown",
   "id": "757e1a91-105b-4075-850e-68da20ad7879",
   "metadata": {},
   "source": [
    "**<부문별 텍스트 지표 작성을 위한 단어군>**"
   ]
  },
  {
   "cell_type": "markdown",
   "id": "735fb8ab-08b4-4ffe-97b2-43715f841d65",
   "metadata": {},
   "source": [
    "| **부문**   | **작성 방법**   |\r\n",
    "|---------------|-----------------------------------|\r\n",
    "| 생산           | (생산)&(상승, 급등, 증가, 개선, 가속, 늘) - (생산)&(하락, 급감, 감소, 약화, 둔화, 줄)                                                                         |\r\n",
    "| 산업           | (선박)&(수주)&(상승, 급등, 증가, 개선, 늘) - (선박)&(수주)&(하락, 급감, 감소, 약화, 줄)                                                                       |\r\n",
    "| 자동차         | (자동차, 승용차)&(상승, 급등, 증가, 개선, 가속) - (자동차, 승용차)&(하락, 급감, 감소, 약화, 둔화)                                                             |\r\n",
    "| 반도체         | (반도체)&(상승, 급등, 증가, 개선, 가속) - (반도체)&(하락, 급감, 감소, 약화, 둔화)                                                                             |\r\n",
    "| 설비투자       | (설비투자, R&D)&(상승, 급등, 증가, 개선, 가속, 늘, 확대) - (설비투자, R&D)&(하락, 급락, 감소, 약화, 둔화, 줄, 감소)                                           |\r\n",
    "| 주택건설       | (주택, 아파트)&(건설, 건축, 착공, 시공)                                                                                                                       |\r\n",
    "| 실업           | (실업)&(상승, 증가, 늘, 악화)                                                                                                                                |\r\n",
    "| 고용           | (채용, 고용)&(상승, 증가, 개선, 늘) - (채용, 고용)&(하락, 감소, 약화, 줄)                                                                                   |\r\n",
    "| 취업           | (취업, 구직)&(상승, 증가, 늘) - (취업, 구직)&(하락, 감소, 줄)                                                                                                |\r\n",
    "| 도소매         | (도매, 소매, 도소매)&(상승, 급등, 증가, 개선, 가속, 늘) - (도매, 소매, 도소매)&(하락, 급감, 감소, 약화, 둔화, 줄)                                            |\r\n",
    "| 정부지출       | (정부)&(지원, 보조, 지출)                                                                                                                                     |\r\n",
    "| 물가전망       | (물가)&(전망, 예측, 예상)&(상승, 급등, 올라, 높) - (물가)&(전망, 예측, 예상)&(하락, 급락, 내려, 낮)                                                           |\r\n",
    "| 주가전망       | (코스피, 코스닥, 주가, 주식)&(전망, 예측)&(상승, 증가, 개선, 늘, 높) - (코스피, 코스닥, 주가, 주식)&(전망, 예측)&(하락, 감소, 약화, 줄, 낮)                   |\r\n",
    "| 주택가격       | (주택, 아파트)&(가격, 매매가, 전세가, 분양가)&(전망, 예측)&(상승, 급등, 확대, 개선, 가속, 높) - (주택, 아파트)&(가격, 매매가, 전세가, 분양가)&(하락, 감소, 낮) |\r\n",
    "| 세계교역       | (세계, 글로벌)&(교역, 무역, 수출, 수입)&(상승, 급등, 증가, 개선, 가속, 늘, 확대) - (세계, 글로벌)&(교역, 무역, 수출, 수입)&(하락, 급감, 의미.소, 약화, 둔화, 줄) |\r\n"
   ]
  },
  {
   "cell_type": "markdown",
   "id": "fae50759-2bdb-4742-9c6c-f44fe1138dcc",
   "metadata": {},
   "source": [
    "**주석**:\n",
    "\n",
    "1. (a, b, ...)는 하나의 문장 안에서 나열된 원소(a, b, ...) 중 하나 이상의 원소가 포함되는 경우를 의미.\n",
    "   \n",
    "2. a & b ... 는 하나의 문장 안에서 나열된 원소(a, b, ...) 모두가 포함되는 경우를 의미.\n",
    "   \n",
    "3. **‘|’**는 AND 조건을 만족하는 문장을 포함하는 것이며, 기여 지수를 의미."
   ]
  },
  {
   "cell_type": "markdown",
   "id": "b539289d-5455-4b0a-a442-bdd44d680351",
   "metadata": {},
   "source": [
    "### 수식 설명"
   ]
  },
  {
   "cell_type": "markdown",
   "id": "02c9f715-c44c-4978-8144-b200d661b162",
   "metadata": {},
   "source": [
    "$t$ 시점에 발간된 뉴스 기사 집합: $\\Omega_t = \\{ A_1, A_2, \\dots, A_N \\},$\n",
    "\n",
    "- $N$은 $t$시점에 발간된 뉴스 기사 개수\n",
    "\n",
    "각 뉴스 기사 $A_i$는 문장 $S_{im}$의 집합 표현:\n",
    "\n",
    "$$A_i = \\{ S_{i1}, S_{i2}, \\dots, S_{iM_i} \\},$$\n",
    "\n",
    "여기서:\n",
    "- $M_i$는 기사 $A_i$에 포함된 문장의 총 개수\n",
    "- $S_{im}$는 $A_i $에 포함된 $m$-번째 문장"
   ]
  },
  {
   "cell_type": "markdown",
   "id": "a3f4897b-468a-47b6-9058-adcffed9f777",
   "metadata": {},
   "source": [
    "$t$시점의 텍스트 기반 지표 $R_t$는 특정 분야 단어군 $W^{(k)} = \\{W^{(k)}_1\\}, \\cdots, \\{W^{(k)}_{Lk}\\}$와 그 단어군 $k$에 속하는 단어 $w^{(k)}_j(j=1,\\cdots,l_k)$에 대하여 다음과 같이 나타낸다.\n",
    "\n",
    "$$R_t = \\frac{\\sum_{i=1}^{N} \\hat{A}_i}{N},$$\n",
    "\n",
    "$$\\hat{A}_i = \\bigvee_{m=1}^{M_i} C_{im},$$\n",
    "\n",
    "$$C_{im} = \\prod_{k=1}^{K} \\bigvee_{l=1}^{L_k} I_{S_{im}}\\left(w_l^{(k)}\\right).$$\n",
    "\n",
    "여기서 $I_{S}(w)$는 지시 함수(indicator function):\n",
    "\n",
    "$I_{S}(w) = \n",
    "\\begin{cases} \n",
    "1, & \\text{if } w \\in S \\\\\n",
    "0, & \\text{otherwise.}\n",
    "\\end{cases}$\n",
    "\n",
    "$\\bigvee_{m=1}^{M} C_m = \\max(C_1, \\cdots, C_M)$\n",
    "는 최대값 함수"
   ]
  },
  {
   "cell_type": "markdown",
   "id": "6fbb6834-4071-4f70-946e-e6180eb850ee",
   "metadata": {},
   "source": [
    "이 때, $R_t = R_t^{pos} - R_t^{neg}$\n",
    "\n",
    "즉, 긍정 단어군을 기준으로 추출한 긍정 지표에서 부정 단어군을 기준으로 추출한 부정 지표를 차감하여 작성"
   ]
  },
  {
   "cell_type": "markdown",
   "id": "25bb5b67-8f93-49b3-96cf-0ac12e1fc92e",
   "metadata": {},
   "source": [
    "# 유용성 검토 결과"
   ]
  },
  {
   "cell_type": "markdown",
   "id": "c3a6b3b6-6175-4d9d-abc1-004457bca2f6",
   "metadata": {},
   "source": [
    "- 텍스트 지표가 각 부문의 관련 공식 통계와 0 ~ 9개월 선행시점에서 0.35~0.73의 비교적 높은 상관관계를 보임\n",
    "\n",
    "- 또한 Granger 인과성 검정 결과를 통해서도 텍스트 지표가 1~7개월 선행시점에서 대부분 유의한 인과성을 보이는 것으로 나타남"
   ]
  },
  {
   "cell_type": "markdown",
   "id": "b68c46c8-8b07-44f6-9d1e-90495824c6c1",
   "metadata": {},
   "source": [
    "<img src='img/tefi_f4.png' width='800'>"
   ]
  },
  {
   "cell_type": "markdown",
   "id": "df14be39-5a0e-4937-b5f9-cda03e131b9d",
   "metadata": {},
   "source": [
    "# 경기 예측모형"
   ]
  },
  {
   "cell_type": "markdown",
   "id": "a8f0930a-a54a-41fb-949b-07a17b209113",
   "metadata": {},
   "source": [
    "텍스트 지표는 공식 통계에 비해 노이즈가 크며, 이를 정상 시계열로 변환하기 어렵다. 비정상성(non-stationarity)이 명백하지 않으나, 변동성이 크고 경제적 시그널과 노이즈를 구분하기 어려운 문제가 있다.\n",
    "\n",
    "선형모형과 비선형모형의 한계\n",
    "- 선형모형: 정상성 가정이 완벽히 충족되지 않아 예측오차가 증가할 가능성이 있음.\n",
    "- 비선형모형: 노이즈를 과적합하여 과적합(overfitting) 문제가 발생할 가능성이 있음.\n",
    "\n",
    "본 연구의 접근 방법\n",
    "- 선형모형: 경기 예측에서 널리 활용되는 **동적인자모형** (**Dynamic Factor Model, DFM**)을 사용.\n",
    "- 비선형모형: **Convolutional Recurrent Neural Network** (**CRNN**)을 사용하여 경제 시계열 데이터에 맞게 구성."
   ]
  },
  {
   "cell_type": "markdown",
   "id": "59dd5b83-e2ab-408e-9fe9-63d4375f9f66",
   "metadata": {},
   "source": [
    "## 비선형모형\n",
    "비선형모형(CRNN)의 구성\n",
    "- CRNN 구조:\n",
    "  - Convolutional Layer: 64개의 필터를 3개월 단위로 적용\n",
    "  - LSTM Layer: 32개 유닛으로 구성된 Long Short-Term Memory (LSTM) 레이어를 사용\n",
    "- 작동 방식:\n",
    "  - Convolutional Layer는 관측변수 간 관계를 추정\n",
    "  - LSTM Layer는 이 관계의 시계열 추세를 모형에 반영\n",
    "\n",
    "자료 처리:\n",
    "- 월 및 분기 단위의 시계열 자료를 분기 단위로 집계하여 혼합주기 시계열 데이터를 CRNN 모형이 처리할 수 있도록 설계"
   ]
  },
  {
   "cell_type": "markdown",
   "id": "e3522a2e-bd4b-4def-82b8-a207a3f163c3",
   "metadata": {},
   "source": [
    "<img src='img/tefi_f5.png' width='400'>"
   ]
  },
  {
   "cell_type": "markdown",
   "id": "00777fa7-2fb1-4047-869c-ef2289617152",
   "metadata": {},
   "source": [
    "## 선형 모형"
   ]
  },
  {
   "cell_type": "markdown",
   "id": "c2ea19d6-212c-4294-b74c-348041496458",
   "metadata": {},
   "source": [
    "- Nowcasting에 널리 활용되는 동적인자모형(Dynamic Factor Model, DFM) 사용\n",
    "- 다변량 관측변수들을 소수의 **잠재요인**(latent factor)으로 추정하여, 고차원 시계열 변수들의 동조적 변동성을 효과적으로 적합"
   ]
  },
  {
   "cell_type": "markdown",
   "id": "452cdd66-6d8d-448c-a4a9-8237e0a1e1c8",
   "metadata": {},
   "source": [
    "###  DFM의 구성\n",
    "\n",
    "- 관측변수에 대한 선형모형: 각 관측변수는 잠재요인과의 선형 관계를 통해 설명됨\n",
    "- 잠재요인에 대한 선형모형: 잠재요인은 시계열적으로 상호 관련되어 있으며, 그 변화를 선형적으로 설명함\n",
    "\n",
    "### DFM의 활용 장점\n",
    "\n",
    "- 복잡한 다변량 시계열 데이터를 간결하게 요약할 수 있음\n",
    "- 경제적 변동성을 설명하는 데 적합하며, Nowcasting 및 경기 예측 모형에서 효과적으로 활용됨"
   ]
  },
  {
   "cell_type": "markdown",
   "id": "33913400-0748-401a-8101-8d71c26f457e",
   "metadata": {},
   "source": [
    "$$X_t' = \\lambda(L)f_t + e_t$$\n",
    "$$f_t = \\psi(L)f_{t-1} + \\eta_t$$\n",
    "- $X_t'$: $t$시점의 $p$개 관측변수\n",
    "- $f_t$: $q$개 잠재요인\n",
    "- $e_t$ 및 $\\eta_t$: $t$시점의 idiosyncratic disturbance 및 factor innovation\n",
    "- $L$: 시차연산자\n",
    "- $\\lambda(L)$ 및 $\\psi(L)$: 각각 두 식의 시차 다항행렬식"
   ]
  },
  {
   "cell_type": "code",
   "execution_count": null,
   "id": "481ab808-d280-4845-9a29-1b1370e50b9a",
   "metadata": {},
   "outputs": [],
   "source": []
  }
 ],
 "metadata": {
  "kernelspec": {
   "display_name": "Python 3",
   "language": "python",
   "name": "python3"
  },
  "language_info": {
   "codemirror_mode": {
    "name": "ipython",
    "version": 3
   },
   "file_extension": ".py",
   "mimetype": "text/x-python",
   "name": "python",
   "nbconvert_exporter": "python",
   "pygments_lexer": "ipython3",
   "version": "3.8.0"
  }
 },
 "nbformat": 4,
 "nbformat_minor": 5
}
