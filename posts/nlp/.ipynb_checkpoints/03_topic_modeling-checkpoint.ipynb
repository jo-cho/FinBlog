{
 "cells": [
  {
   "cell_type": "raw",
   "id": "d85d3ce1-edca-4b75-a113-75ce79885195",
   "metadata": {},
   "source": [
    "---\n",
    "title: \"자연어처리: 토픽모델링 - LSA, LDA\"\n",
    "subtitle: \"Topic modeling - LSA, LDA\"\n",
    "author: \"Cheonghyo Cho\"\n",
    "categories: [nlp, topic modeling, LSA, LDA]\n",
    "image: \"img/nlp_03_1.png\"\n",
    "---"
   ]
  },
  {
   "cell_type": "markdown",
   "id": "4507a18c-6ccb-46d8-803e-979324864eb0",
   "metadata": {},
   "source": [
    "토픽 모델링은 문서 집합 내에 존재하는 숨겨진 주제들을 자동으로 식별하고 추출하는 기술이다. 대표적인 방법으로는 잠재 의미 분석(LSA)과 잠재 디리클레 할당(LDA)이 있으며, 이들은 각각 통계적 및 확률적 접근법을 통해 문서의 주제 구조를 파악한다."
   ]
  },
  {
   "cell_type": "markdown",
   "id": "2c99438f-5b61-4d64-b231-38069cb11506",
   "metadata": {},
   "source": [
    "<img src='img/nlp_03_1.png' width='600'>"
   ]
  },
  {
   "cell_type": "markdown",
   "id": "47ba0dca-e2b7-4656-8c1f-dbea541bf291",
   "metadata": {},
   "source": [
    "# LSA"
   ]
  },
  {
   "cell_type": "markdown",
   "id": "cb261200-cd6c-4667-b783-4cc0ea3111a0",
   "metadata": {},
   "source": [
    "# LDA"
   ]
  },
  {
   "cell_type": "markdown",
   "id": "2632781e-4833-491d-9358-06400af140fc",
   "metadata": {},
   "source": [
    "## 참고자료\n",
    "\n",
    "- 딥 러닝을 이용한 자연어 처리 입문(https://wikidocs.net/book/2155)\n",
    "- ratsgo’s blog (https://ratsgo.github.io/from%20frequency%20to%20semantics/2017/06/01/LDA/)\n",
    "- Simon’s Research Center (https://zerojsh00.github.io/posts/BERTopic/)\n",
    "- Unstructured Data Analysis (Graduate) @Korea University (https://github.com/pilsung-kang/text-analytics)\n",
    "- Sievert, Carson, and Kenneth Shirley. \"LDAvis: A method for visualizing and interpreting topics.\" Proceedings of the workshop on interactive language learning, visualization, and interfaces. 2014."
   ]
  },
  {
   "cell_type": "code",
   "execution_count": null,
   "id": "9aca8067-b4cc-4aa4-b34f-04440446cb59",
   "metadata": {},
   "outputs": [],
   "source": []
  }
 ],
 "metadata": {
  "kernelspec": {
   "display_name": "Python 3",
   "language": "python",
   "name": "python3"
  },
  "language_info": {
   "codemirror_mode": {
    "name": "ipython",
    "version": 3
   },
   "file_extension": ".py",
   "mimetype": "text/x-python",
   "name": "python",
   "nbconvert_exporter": "python",
   "pygments_lexer": "ipython3",
   "version": "3.8.0"
  }
 },
 "nbformat": 4,
 "nbformat_minor": 5
}
