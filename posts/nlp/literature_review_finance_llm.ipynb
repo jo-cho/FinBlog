{
 "cells": [
  {
   "cell_type": "markdown",
   "id": "305ce9ed-b7bd-4c31-b242-a1ed37c64fdd",
   "metadata": {},
   "source": [
    "금융데이터 학습"
   ]
  },
  {
   "cell_type": "code",
   "execution_count": null,
   "id": "702f1e9a-0cd6-4ddf-b989-4415a9dea26b",
   "metadata": {},
   "outputs": [],
   "source": []
  },
  {
   "attachments": {},
   "cell_type": "markdown",
   "id": "36ad1bc6-226b-45c6-a0cc-a121546e5c60",
   "metadata": {},
   "source": [
    "# 1. KB-BERT\n",
    "\n",
    "김동규* 외, 200, \"KB-BERT: 금융 특화 한국어 사전학습 언어모델과 그 응용\",  지능정보연구, vol.28, no.행\r\n"
   ]
  },
  {
   "cell_type": "code",
   "execution_count": null,
   "id": "e11050dc-da0c-4798-a461-4eab93708c22",
   "metadata": {},
   "outputs": [],
   "source": []
  }
 ],
 "metadata": {
  "kernelspec": {
   "display_name": "Python 3",
   "language": "python",
   "name": "python3"
  },
  "language_info": {
   "codemirror_mode": {
    "name": "ipython",
    "version": 3
   },
   "file_extension": ".py",
   "mimetype": "text/x-python",
   "name": "python",
   "nbconvert_exporter": "python",
   "pygments_lexer": "ipython3",
   "version": "3.8.0"
  }
 },
 "nbformat": 4,
 "nbformat_minor": 5
}
