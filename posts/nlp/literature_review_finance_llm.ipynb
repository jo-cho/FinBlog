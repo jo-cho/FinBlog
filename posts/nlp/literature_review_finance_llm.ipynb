{
 "cells": [
  {
   "cell_type": "raw",
   "id": "972e9a07-b56c-4497-9f90-22f87170803f",
   "metadata": {},
   "source": [
    "---\n",
    "title: \"금융에서의 LLM\"\n",
    "subtitle: \"LLM in Finance\"\n",
    "author: \"Cheonghyo Cho\"\n",
    "categories: [llm, nlp]\n",
    "image: \"nothing.PNG\"\n",
    "---"
   ]
  },
  {
   "cell_type": "markdown",
   "id": "305ce9ed-b7bd-4c31-b242-a1ed37c64fdd",
   "metadata": {},
   "source": [
    "금융데이터 학습"
   ]
  },
  {
   "cell_type": "markdown",
   "id": "67a87cc3-ec08-4a4e-b2ed-27fa5270853e",
   "metadata": {},
   "source": [
    "*in progress*"
   ]
  },
  {
   "attachments": {},
   "cell_type": "markdown",
   "id": "36ad1bc6-226b-45c6-a0cc-a121546e5c60",
   "metadata": {},
   "source": [
    "\n",
    "김동규 외, 200, \"KB-BERT: 금융 특화 한국어 사전학습 언어모델과 그 응용\",  지능정보연구, vol.28\r\n"
   ]
  }
 ],
 "metadata": {
  "kernelspec": {
   "display_name": "Python 3",
   "language": "python",
   "name": "python3"
  },
  "language_info": {
   "codemirror_mode": {
    "name": "ipython",
    "version": 3
   },
   "file_extension": ".py",
   "mimetype": "text/x-python",
   "name": "python",
   "nbconvert_exporter": "python",
   "pygments_lexer": "ipython3",
   "version": "3.8.0"
  }
 },
 "nbformat": 4,
 "nbformat_minor": 5
}
