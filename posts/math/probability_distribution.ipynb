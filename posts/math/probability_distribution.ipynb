{
 "cells": [
  {
   "cell_type": "markdown",
   "id": "c6e6183d-a364-46c3-a599-74c287e54d11",
   "metadata": {},
   "source": [
    "> AI 연구는 확률, 통계에 대한 기초적인 지식을 필요로 한다. 하지만, 확률, 통계를 공부했다고 하더라도, 잠시 관심을 꺼둔다면, 기초적인 지식조차도 금방 잊어버리기 마련이다. 물론, 할 수 있을 때 완벽히 해놓아야 했던 확률 통계 공부가 애초에 미흡했을 가능성이 높다. 어쨋든 필요할 때 마다 찾아볼 수 있도록, 확률, 통계에 대한 간단한 기본 지식을 정리했다."
   ]
  },
  {
   "cell_type": "markdown",
   "id": "ba9ac265-44c5-48e4-bd9e-3a0458e1e0da",
   "metadata": {},
   "source": [
    "# 확률 분포"
   ]
  },
  {
   "cell_type": "markdown",
   "id": "7f3c8944-5177-490b-9639-ef065cce9bc3",
   "metadata": {},
   "source": [
    "확률 분포는 특정 사건이 발생할 가능성을 설명하는 수학적 모델"
   ]
  },
  {
   "cell_type": "markdown",
   "id": "d52d897a-a0ad-4458-bc71-06f05c73f24e",
   "metadata": {},
   "source": [
    "<img src=\"./img/prob_dists.png\" width='700'>"
   ]
  },
  {
   "cell_type": "markdown",
   "id": "f874f3a7-6285-413c-a9ef-fadbfe3522e2",
   "metadata": {},
   "source": [
    "## 확률 분포의 종류"
   ]
  },
  {
   "cell_type": "markdown",
   "id": "f0923958-49a3-45cd-9361-14b8fcd840f0",
   "metadata": {},
   "source": [
    "### Discrete probability distributions"
   ]
  },
  {
   "cell_type": "markdown",
   "id": "07f18832-6890-4b40-ab7e-c1351e0edbb3",
   "metadata": {},
   "source": [
    "**Bernouille distribution**"
   ]
  },
  {
   "cell_type": "markdown",
   "id": "faf416c0-bd28-4160-90d5-40dd969135b6",
   "metadata": {},
   "source": [
    "**Binomial distribution**\n",
    "- 고정된 수의 독립 시행에서 성공 횟수의 분포\n",
    "- 사용 예시: 동전 던지기\n",
    "\n",
    "$P(X=k) = \\binom{n}{k} p^k (1-p)^{n-k}$\n",
    "\n",
    "$F(k|n,p) = \\sum_{i=0}^{k} \\binom{n}{i} p^i (1-p)^{n-i}$\n",
    "\n",
    "$E(x) = np$\n",
    "\n",
    "$V(x) = np(1-p)$"
   ]
  },
  {
   "cell_type": "markdown",
   "id": "7a610e99-48fe-4316-9b33-27c04dc19da8",
   "metadata": {},
   "source": [
    "**Poisson distribution**\n",
    "\n",
    "- 단위 시간 또는 공간에서 발생하는 사건의 수\n",
    "- 한 시간 동안의 전화 통화 횟수\n",
    "\n",
    "$P(X=k) = \\frac{\\lambda^k e^{-\\lambda}}{k!}$\n",
    "\n",
    "$F(k) = \\sum_{i=0}^{k} \\frac{\\lambda^i e^{-\\lambda}}{i!}$\n",
    "\n",
    "$E(x) = \\lambda$\n",
    "\n",
    "$V(x) = \\lambda$"
   ]
  },
  {
   "cell_type": "markdown",
   "id": "673dd469-7a29-4d45-8bfe-2c8120d0d51d",
   "metadata": {},
   "source": [
    "**Exponential distribution**\n",
    "\n",
    "- 사건 사이의 시간 간격\n",
    "- 예시: 기계가 고장 나기까지의 시간\n",
    "\n",
    "$f(x) = \\lambda e^{-\\lambda x}$\n",
    "\n",
    "$F(x) = 1 - e^{-\\lambda x}$\n",
    "\n",
    "$E(x) = (\\frac{1}{\\lambda})$\n",
    "\n",
    "$V(x) = (\\frac{1}{\\lambda^2})$"
   ]
  },
  {
   "cell_type": "markdown",
   "id": "0a7db934-d1db-4923-a3f2-6f7bcb2948b5",
   "metadata": {},
   "source": [
    "### Continuous probability distributions"
   ]
  },
  {
   "cell_type": "markdown",
   "id": "7dc99969-22a1-4684-b9e2-69344859ec92",
   "metadata": {},
   "source": [
    "**Normal distribution**\n",
    "- 자연 현상에서 발생하는 많은 데이터의 분포를 모델링 (aka 가우시안 분포)\n",
    "- 인간의 키나 몸무게\n",
    "\n",
    "$f(x|\\mu,\\sigma^2) = \\frac{1}{\\sqrt{2\\pi\\sigma^2}}e^{-\\frac{(x-\\mu)^2}{2\\sigma^2}}$\n",
    "\n",
    "$F(x|\\mu,\\sigma) = \\frac{1}{2} \\left[1 + \\text{erf}\\left(\\frac{x-\\mu}{\\sigma\\sqrt{2}}\\right)\\right]$, \n",
    "$\\text{erf}(z) = \\frac{2}{\\sqrt{\\pi}} \\int_{0}^{z} e^{-t^2} dt$\n",
    "\n",
    "$E(x) = \\mu$\n",
    "\n",
    "$V(x) = \\sigma^2$"
   ]
  },
  {
   "cell_type": "markdown",
   "id": "83accb39-5af2-4be8-8f56-17a7d23c53a0",
   "metadata": {},
   "source": [
    "**Uniform distribution**\n",
    "- 모든 사건이 동일한 확률로 발생하는 분포\n",
    "- 사용 예시: 랜덤 숫자 생성\n",
    "  \n",
    "$f(x) = \\begin{cases} \\frac{1}{b-a} & \\text{for } a \\leq x \\leq b \\\\ 0 & \\text{else } \\end{cases}$\n",
    "\n",
    "$F(x) = \\begin{cases} \n",
    "0 & \\text{if } x < a \\\\\n",
    "\\frac{x-a}{b-a} & \\text{if } a \\leq x \\leq b \\\\\n",
    "1 & \\text{if } x > b\n",
    "\\end{cases}$\n",
    "\n",
    "$\\mu = \\frac{a+b}{2}$\n",
    "\n",
    "$\\sigma^2 = \\frac{(b-a)^2}{12}$"
   ]
  },
  {
   "cell_type": "markdown",
   "id": "28113564-6170-47ba-8f9e-f542b6d7a913",
   "metadata": {},
   "source": [
    "**Gamma Distribution**\n",
    "\n",
    "<img src=\"https://upload.wikimedia.org/wikipedia/commons/thumb/f/fc/Gamma_distribution_pdf.png/270px-Gamma_distribution_pdf.png\" width='300'>\n",
    "\n",
    "- 지수분포에서 한 번의 사건이 아닌 여러 개의 사건으로 확장\n",
    "- $\\alpha$번째 사건이 발생할때까지 걸리는 시간이 $T$이하일 확률\n",
    "- 사용 예시: 여러 기계의 수명 합, 모수의 베이지안 추정\n",
    "\n",
    "$f(x) = \\frac{x^{\\alpha-1}e^{-x/\\beta}}{\\Gamma(\\alpha)\\beta^\\alpha} \\quad \\text{for } x > 0$\n",
    "\n",
    "$E(x) = \\alpha\\beta$\n",
    "\n",
    "$V(x) = \\alpha\\beta^2$"
   ]
  },
  {
   "cell_type": "code",
   "execution_count": null,
   "id": "c47698f1-796b-44ae-8b6a-3bb570b1ab9e",
   "metadata": {},
   "outputs": [],
   "source": []
  }
 ],
 "metadata": {
  "kernelspec": {
   "display_name": "Python 3",
   "language": "python",
   "name": "python3"
  },
  "language_info": {
   "codemirror_mode": {
    "name": "ipython",
    "version": 3
   },
   "file_extension": ".py",
   "mimetype": "text/x-python",
   "name": "python",
   "nbconvert_exporter": "python",
   "pygments_lexer": "ipython3",
   "version": "3.8.0"
  }
 },
 "nbformat": 4,
 "nbformat_minor": 5
}
