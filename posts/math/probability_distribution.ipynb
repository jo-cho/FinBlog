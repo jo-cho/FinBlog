{
 "cells": [
  {
   "cell_type": "raw",
   "id": "faab99b5-3820-4f0d-b787-174eb98abd44",
   "metadata": {},
   "source": [
    "---\n",
    "title: \"기초통계: 확률 분포, 적률, 엔트로피\"\n",
    "subtitle: \"Probability Distribution, Moments\"\n",
    "author: \"Cheonghyo Cho\"\n",
    "categories: [probability distribution, moments, entropy]\n",
    "image: \"./img/prob_dists.png\"\n",
    "---"
   ]
  },
  {
   "cell_type": "markdown",
   "id": "c6e6183d-a364-46c3-a599-74c287e54d11",
   "metadata": {},
   "source": [
    "> AI 연구는 확률, 통계에 대한 기초적인 지식을 필요로 한다. 하지만, 확률, 통계를 공부했다고 하더라도, 잠시 관심을 꺼둔다면, 기초적인 지식조차도 금방 잊어버리기 마련이다. 필요할 때마다 찾아볼 수 있도록, 확률, 통계에 대한 간단한 기본 지식을 정리했다."
   ]
  },
  {
   "cell_type": "markdown",
   "id": "ba9ac265-44c5-48e4-bd9e-3a0458e1e0da",
   "metadata": {},
   "source": [
    "# 확률 분포"
   ]
  },
  {
   "cell_type": "markdown",
   "id": "7f3c8944-5177-490b-9639-ef065cce9bc3",
   "metadata": {},
   "source": [
    "확률 분포는 특정 사건이 발생할 가능성을 설명하는 수학적 모델"
   ]
  },
  {
   "cell_type": "markdown",
   "id": "d52d897a-a0ad-4458-bc71-06f05c73f24e",
   "metadata": {},
   "source": [
    "<img src=\"./img/prob_dists.png\" width='700'>"
   ]
  },
  {
   "cell_type": "markdown",
   "id": "f0923958-49a3-45cd-9361-14b8fcd840f0",
   "metadata": {},
   "source": [
    "## 이산 확률 분포 (Discrete probability distributions)"
   ]
  },
  {
   "cell_type": "markdown",
   "id": "9a845625-4e86-431e-9c4d-131df1c81f6d",
   "metadata": {},
   "source": [
    "### Bernouille distribution\n",
    "- 단일 시행에서 두 가지 결과(성공 1 /실패 0) 실험 모델링\n",
    "- 예: 동전 한번 던지기\n",
    "\n",
    "$P(X=k) = p^k (1-p)^{1-k} \\quad \\text{for} \\ k \\in \\{0,1\\}$\n",
    "\n",
    "$E(x) = p$\n",
    "\n",
    "$V(x) = p(1-p)$"
   ]
  },
  {
   "cell_type": "markdown",
   "id": "faf416c0-bd28-4160-90d5-40dd969135b6",
   "metadata": {},
   "source": [
    "### Binomial distribution\n",
    "- 고정된 수($n$)의 독립 시행에서 성공 횟수($k$)의 분포 (즉, 여러 베르누이 시행)\n",
    "- 사용 예시: 동전 던지기\n",
    "\n",
    "$P(X=k) = \\binom{n}{k} p^k (1-p)^{n-k}$\n",
    "\n",
    "$E(x) = np$\n",
    "\n",
    "$V(x) = np(1-p)$"
   ]
  },
  {
   "cell_type": "markdown",
   "id": "7a610e99-48fe-4316-9b33-27c04dc19da8",
   "metadata": {},
   "source": [
    "### Poisson distribution\n",
    "\n",
    "<img src=\"https://upload.wikimedia.org/wikipedia/commons/1/16/Poisson_pmf.svg\" width='300'>\n",
    "\n",
    "- 단위 시간 또는 공간에서 발생하는 사건의 수\n",
    "- 한 시간 동안의 전화 통화 횟수($k$)\n",
    "\n",
    "$P(X=k) = \\frac{\\lambda^k e^{-\\lambda}}{k!}$\n",
    "\n",
    "$P(X \\leq K) = 1 - \\sum^{K}_{k=0}\\frac{\\lambda^k e^{-\\lambda}}{k!}$\n",
    "\n",
    "$E(x) = \\lambda$\n",
    "\n",
    "$V(x) = \\lambda$"
   ]
  },
  {
   "cell_type": "markdown",
   "id": "b3c988fb-830b-4d63-a2ff-e44b5ea133d3",
   "metadata": {},
   "source": [
    "### Negative binomial distribution\n",
    "\n",
    "<img src=\"https://upload.wikimedia.org/wikipedia/commons/8/83/Negbinomial.gif\" width='300'>\n",
    "\n",
    "- 베르누이 시행에서 성공 $r$회가 나타나기까지의 실패 횟수를 모델링\n",
    "- 팀이 $r$개의 중대한 버그를 모두 수정하기까지, 몇 번의 코드 검토가 필요할지 추정\n",
    "\n",
    "$P(X = k) = \\binom{k + r - 1}{k} (1-p)^k p^r$\n",
    "\n",
    "$E(X) = \\frac{r(1-p)}{p}$\n",
    "\n",
    "$V(X) = \\frac{r(1-p)}{p^2}$"
   ]
  },
  {
   "cell_type": "markdown",
   "id": "2dd05de5-d231-497e-953b-34b2e61e511c",
   "metadata": {},
   "source": [
    "### Hypergeometric distribution\n",
    "\n",
    "<img src=\"https://upload.wikimedia.org/wikipedia/commons/c/c1/HypergeometricPDF.png\" width='300'>\n",
    "\n",
    "- 한정된 특정 수($N$)의 모집단에서 교체없이(without replacement) 특정 성공 사건이 몇 번 발생했는지 모델링\n",
    "- 예시, $N$개 카드 덱($K$개 하트카드)에서 한번에 $n$개 카드을 뽑았을 때, 뽑은 카드 중 $k$개가 하트 카드일 확률 계산\n",
    "\n",
    "$P(X = k) = \\frac{{\\binom{K}{k}}{\\binom{N-K}{n-k}}}{\\binom{N}{n}}$\n",
    "\n",
    "$F(x) = 1 - (1-p)^{x} \\quad \\text{for} \\ x \\geq 1$\n",
    "\n",
    "$E(X) = n\\frac{K}{N}$\n",
    "\n",
    "$V(X) = n\\frac{K}{N}\\frac{N-K}{N}\\frac{N-n}{N-1}$"
   ]
  },
  {
   "cell_type": "markdown",
   "id": "ef8175ea-c3ac-4775-8481-86e0352926ed",
   "metadata": {},
   "source": [
    "### Geometric distribution\n",
    "\n",
    "<img src=\"https://upload.wikimedia.org/wikipedia/commons/thumb/4/4b/Geometric_pmf.svg/1920px-Geometric_pmf.svg.png\" width='500'>\n",
    "\n",
    "- 베르누이 시행에서 처음 성공까지 시도한 횟수 $X$의 분포\n",
    "- 예시: 동전 앞면이 나올 때까지 동전 던진 횟수($k$)\n",
    "\n",
    "$P(X=k) = (1-p)^{k-1}p$\n",
    "\n",
    "$F(x) = 1 - (1-p)^{x} \\quad \\text{for} \\ x \\geq 1$\n",
    "\n",
    "$E(x) = \\frac{1}{p}$\n",
    "\n",
    "$V(x) = \\frac{1-p}{p^2}$"
   ]
  },
  {
   "cell_type": "markdown",
   "id": "0a7db934-d1db-4923-a3f2-6f7bcb2948b5",
   "metadata": {},
   "source": [
    "## 연속확률분포 (Continuous probability distributions)"
   ]
  },
  {
   "cell_type": "markdown",
   "id": "7dc99969-22a1-4684-b9e2-69344859ec92",
   "metadata": {},
   "source": [
    "### Normal distribution\n",
    "\n",
    "<img src=\"https://upload.wikimedia.org/wikipedia/commons/thumb/7/74/Normal_Distribution_PDF.svg/400px-Normal_Distribution_PDF.svg.png\" width='300'>\n",
    "\n",
    "- 자연 현상에서 발생하는 많은 데이터의 분포를 모델링 (aka 가우시안 분포)\n",
    "- 인간의 키나 몸무게\n",
    "\n",
    "$f(x|\\mu,\\sigma^2) = \\frac{1}{\\sqrt{2\\pi\\sigma^2}}e^{-\\frac{(x-\\mu)^2}{2\\sigma^2}}$\n",
    "\n",
    "$F(x|\\mu,\\sigma) = \\frac{1}{2} \\left[1 + \\text{erf}\\left(\\frac{x-\\mu}{\\sigma\\sqrt{2}}\\right)\\right]$, \n",
    "$\\text{erf}(z) = \\frac{2}{\\sqrt{\\pi}} \\int_{0}^{z} e^{-t^2} dt$\n",
    "\n",
    "$E(x) = \\mu$\n",
    "\n",
    "$V(x) = \\sigma^2$"
   ]
  },
  {
   "cell_type": "markdown",
   "id": "c24f2bf6-06d5-4a14-a788-53eb677b5280",
   "metadata": {},
   "source": [
    "### Student't t-distribution\n",
    "\n",
    "<img src=\"https://upload.wikimedia.org/wikipedia/commons/thumb/4/41/Student_t_pdf.svg/325px-Student_t_pdf.svg.png\" width='300'>\n",
    "\n",
    "- 작은 표본 크기에서 정규 분포의 평균을 추정할 때 사용되는 분포\n",
    "- t 검정, 신뢰 구간 추정\n",
    "\n",
    "$f(x|\\mu,\\sigma^2) = \\frac{1}{\\sqrt{2\\pi\\sigma^2}}e^{-\\frac{(x-\\mu)^2}{2\\sigma^2}}$\n",
    "\n",
    "$F(x|\\mu,\\sigma) = \\frac{1}{2} \\left[1 + \\text{erf}\\left(\\frac{x-\\mu}{\\sigma\\sqrt{2}}\\right)\\right]$, \n",
    "$\\text{erf}(z) = \\frac{2}{\\sqrt{\\pi}} \\int_{0}^{z} e^{-t^2} dt$\n",
    "\n",
    "$E(x) = \\mu$\n",
    "\n",
    "$V(x) = \\sigma^2$"
   ]
  },
  {
   "cell_type": "markdown",
   "id": "cc879a66-1b4f-4756-b29a-110530604642",
   "metadata": {},
   "source": [
    "### Chi-squared Distribution\n",
    "\n",
    "<img src=\"https://upload.wikimedia.org/wikipedia/commons/thumb/3/35/Chi-square_pdf.svg/321px-Chi-square_pdf.svg.png\" width='300'>\n",
    "\n",
    "- 독립적인 표준 정규 분포를 따르는 변수들의 제곱 합의 분포\n",
    "- 사용 예시: 분산 분석, 카이제곱 검정 (적합도 검정, 독립성 검정) 등\n",
    "\n",
    "$f(x; k) = \\frac{1}{2^{\\frac{k}{2}}\\Gamma\\left(\\frac{k}{2}\\right)}x^{\\frac{k}{2}-1}e^{-\\frac{x}{2}}$\n",
    "\n",
    "$E(x) = k$\n",
    "\n",
    "$V(x) = 2k$"
   ]
  },
  {
   "cell_type": "markdown",
   "id": "83accb39-5af2-4be8-8f56-17a7d23c53a0",
   "metadata": {},
   "source": [
    "### Uniform distribution\n",
    "- 모든 사건이 동일한 확률로 발생하는 분포\n",
    "- 사용 예시: 랜덤 숫자 생성\n",
    "  \n",
    "$f(x) = \\begin{cases} \\frac{1}{b-a} & \\text{for } a \\leq x \\leq b \\\\ 0 & \\text{else } \\end{cases}$\n",
    "\n",
    "$F(x) = \\begin{cases} \n",
    "0 & \\text{if } x < a \\\\\n",
    "\\frac{x-a}{b-a} & \\text{if } a \\leq x \\leq b \\\\\n",
    "1 & \\text{if } x > b\n",
    "\\end{cases}$\n",
    "\n",
    "$\\mu = \\frac{a+b}{2}$\n",
    "\n",
    "$\\sigma^2 = \\frac{(b-a)^2}{12}$"
   ]
  },
  {
   "cell_type": "markdown",
   "id": "673dd469-7a29-4d45-8bfe-2c8120d0d51d",
   "metadata": {},
   "source": [
    "### Exponential distribution\n",
    "\n",
    "<img src=\"https://upload.wikimedia.org/wikipedia/commons/thumb/f/f5/Exponential_distribution_pdf_-_public_domain.svg/1280px-Exponential_distribution_pdf_-_public_domain.svg.png\" width='320'>\n",
    "\n",
    "\n",
    "- 일정한 평균 속도($\\lambda$)로 발생하는 독립적인 사건 사이의 시간을 모델링\n",
    "- 예시: 기계가 고장 나기까지의 시간\n",
    "\n",
    "$f(x) = \\lambda e^{-\\lambda x}$\n",
    "\n",
    "$F(x) = 1 - e^{-\\lambda x} \\quad \\text{for} \\ x \\geq 0$\n",
    "\n",
    "$E(x) = \\frac{1}{\\lambda}$\n",
    "\n",
    "$V(x) = \\frac{1}{\\lambda^2}$"
   ]
  },
  {
   "cell_type": "markdown",
   "id": "389ad39d-1ff9-425f-9ebe-64799ad37e89",
   "metadata": {},
   "source": [
    "### Weibul distribution\n",
    "\n",
    "<img src=\"https://upload.wikimedia.org/wikipedia/commons/thumb/5/58/Weibull_PDF.svg/325px-Weibull_PDF.svg.png\" width='320'>\n",
    "\n",
    "\n",
    "- 모양 매개변수($\\lambda$)와 스케일 매개변수($k$)에 의해 정의\n",
    "- 예시: 제품의 수명, 재료의 파손 시간, 또는 대기 시간 분석 등\n",
    "\n",
    "$f(x) = \\frac{k}{\\lambda} \\left( \\frac{x}{\\lambda} \\right)^{k - 1} e^{-(x/\\lambda)^k}$\n",
    "\n",
    "$F(x) = 1 - e^{-(x/\\lambda)^k}$\n",
    "\n",
    "$E(x) = \\lambda \\Gamma\\left(1 + \\frac{1}{k}\\right)$\n",
    "\n",
    "$V(x) = \\lambda^2 \\left[ \\Gamma\\left(1 + \\frac{2}{k}\\right) - \\left(\\Gamma\\left(1 + \\frac{1}{k}\\right)\\right)^2 \\right]$"
   ]
  },
  {
   "cell_type": "markdown",
   "id": "28113564-6170-47ba-8f9e-f542b6d7a913",
   "metadata": {},
   "source": [
    "### Gamma Distribution\n",
    "\n",
    "<img src=\"https://upload.wikimedia.org/wikipedia/commons/thumb/f/fc/Gamma_distribution_pdf.png/270px-Gamma_distribution_pdf.png\" width='300'>\n",
    "\n",
    "- 지수분포에서 한 번의 사건이 아닌 여러 개의 사건으로 확장\n",
    "- $\\alpha$번째 사건이 발생할때까지 걸리는 시간이 $T$이하일 확률\n",
    "- 사용 예시: 여러 기계의 수명 합, 모수의 베이지안 추정\n",
    "\n",
    "$f(x) = \\frac{x^{\\alpha-1}e^{-x/\\beta}}{\\Gamma(\\alpha)\\beta^\\alpha} \\quad \\text{for } x > 0$\n",
    "\n",
    "$E(x) = \\alpha\\beta$\n",
    "\n",
    "$V(x) = \\alpha\\beta^2$"
   ]
  },
  {
   "cell_type": "markdown",
   "id": "986fa852-6198-4fcd-b20e-4de1fa28d8e7",
   "metadata": {},
   "source": [
    "### Beta Distribution\n",
    "\n",
    "<img src=\"https://upload.wikimedia.org/wikipedia/commons/thumb/f/f3/Beta_distribution_pdf.svg/325px-Beta_distribution_pdf.svg.png\" width='300'>\n",
    "\n",
    "- 0과 1 사이의 값에 대한 확률 분포로, 성공 확률의 불확실성을 모델링할 때 사용\n",
    "- 두 매개변수 $\\alpha, \\beta$에 의해 모양이 결정되며, 이 매개변수들은 분포의 모양을 조절하는 데 사용\n",
    "- 사용 예시: 베이지안 통계에서 사전 분포(prior distribution), A/B 테스트 결과의 해석 등\n",
    "\n",
    "$f(x;\\alpha,\\beta) = \\frac{x^{\\alpha-1}(1-x)^{\\beta-1}}{B(\\alpha, \\beta)}$\n",
    "\n",
    "$B(\\alpha, \\beta) = \\int_{0}^{1} t^{\\alpha-1}(1-t)^{\\beta-1} dt$ (베타함수)\n",
    "\n",
    "$E(x) = \\frac{\\alpha}{\\alpha + \\beta}$\n",
    "\n",
    "$V(x) = \\frac{\\alpha\\beta}{(\\alpha + \\beta)^2(\\alpha + \\beta + 1)}$"
   ]
  },
  {
   "cell_type": "markdown",
   "id": "8446ab55-7098-440e-87db-262af20e7289",
   "metadata": {},
   "source": [
    "# 적률\n",
    "\n",
    "## 적률(moments)이란"
   ]
  },
  {
   "cell_type": "markdown",
   "id": "dc8f1251-9132-493d-8017-26e3666c54cf",
   "metadata": {},
   "source": [
    "- k차 원점 적률: $\\mu'_k = \\int_{-\\infty}^{\\infty} x^k f(x) dx = E[X^k]$\n",
    "\n",
    "- k차 중심 적률: $\\mu_k = \\int_{-\\infty}^{\\infty} (x-\\mu)^k f(x) dx = E[(X-\\mu)^k]$\n",
    "\n",
    "- k차 표준화 적률: $\\tilde{\\mu}_k = \\frac{\\mu_k}{\\sigma^k} = E[{(\\frac{X-\\mu}{\\sigma})}^k]$"
   ]
  },
  {
   "cell_type": "markdown",
   "id": "2a818fa4-97cc-40bf-a3bc-b73d891b803f",
   "metadata": {},
   "source": [
    "## 평균, 분산, 왜도, 첨도\n",
    "\n",
    "- 1차 원점 적률(평균): 데이터의 평균 값을 나타냄 $\\mu = E[X]$\n",
    "\n",
    "- 1차 중심 적률: 0\n",
    "- 2차 중심 적률(분산): 데이터의 분산을 나타냄 $E[(X-\\mu)^2]$\n",
    "- 3차 중심 표준화 적률(왜도): 데이터 분포의 비대칭도를 나타냄 $E[{(\\frac{X-\\mu}{\\sigma})}^3]$\n",
    "- 4차 중심 표준화 적률(첨도): 데이터 분포의 뾰족함을 나타냄 $E[{(\\frac{X-\\mu}{\\sigma})}^4]$"
   ]
  },
  {
   "cell_type": "markdown",
   "id": "1ebca573-7cfb-466c-8e7a-dedb9a35afb1",
   "metadata": {},
   "source": [
    "## 적률 생성 함수(MGF)"
   ]
  },
  {
   "cell_type": "markdown",
   "id": "5ac6d325-d0c2-4eb0-b0b8-6508eea8c988",
   "metadata": {},
   "source": [
    "적률 생성 함수는 확률변수의 모든 적률을 유도하기 위한 방법으로 사용"
   ]
  },
  {
   "cell_type": "markdown",
   "id": "75c29e50-8705-4a7c-96b5-5533333bc641",
   "metadata": {},
   "source": [
    "$$M_X(t) = E[e^{tX}] = \\int_{-\\infty}^{\\infty} e^{tx} f(x) dx$$"
   ]
  },
  {
   "cell_type": "markdown",
   "id": "9af2ed11-a524-4739-8f74-715256864b0d",
   "metadata": {},
   "source": [
    "이때, 확률변수 $X$의 $n$번째 적률은 $M(t)$를 $t$에 대해 $n$번 미분하고 $t=0$을 대입하여 얻을 수 있음"
   ]
  },
  {
   "cell_type": "markdown",
   "id": "1594b5ca-fce6-4103-be14-cbc28b11a999",
   "metadata": {},
   "source": [
    "$$\\mu_n' = E[X^n] = \\left. \\frac{d^n M(t)}{dt^n} \\right|_{t=0}$$"
   ]
  },
  {
   "cell_type": "markdown",
   "id": "2ba35543-0362-4c24-a9ef-5b564edd3b0e",
   "metadata": {},
   "source": [
    "$e^{tX}$를 테일러 전개하여, 적률 생성 함수에 대입하면,\n",
    "\n",
    "$M_X(t) = E[e^{tX}] = E\\left[1 + Xt + \\frac{X^2t^2}{2!} + \\frac{X^3t^3}{3!} + \\ldots \\right]$\n",
    "\n",
    "$M_X(t) = E[e^{tX}] = 1 + E[X]t + \\frac{E[X^2]t^2}{2!} + \\frac{E[X^3]t^3}{3!} + \\ldots$\n",
    "\n",
    "$n$차 미분하여 $t=0$을 대입하면, $n$차 적률이 되는 것을 알 수 있다."
   ]
  },
  {
   "cell_type": "markdown",
   "id": "b40932ff-82cc-4105-927b-a09dc049a92c",
   "metadata": {},
   "source": [
    "## 적률 생성 함수의 특징\n",
    "\n",
    "- 존재성: 모든 적률이 존재하는 확률변수는 MGF가 적어도 $t=0$을 중심으로 한 작은 주변에서 존재\n",
    "- 유일성: 두 확률변수의 MGF가 존재하고 같다면, 그 확률변수들은 동일한 확률분포를 가짐\n",
    "- 선형성: 확률변수 $X$와 $Y$가 독립이고 $M_X(t)$, $M_Y(t)$의 MGF를 가진다면 $X+Y$의 MGF는 $M_X(t) \\times M_Y(t)$"
   ]
  },
  {
   "cell_type": "markdown",
   "id": "7988e138-6789-4c7a-92b8-7f315feac162",
   "metadata": {},
   "source": [
    "### 정규분포의 적률생성함수\n",
    "\n",
    "- $M_X(t) = \\int_{-\\infty}^{\\infty} e^{tx} \\frac{1}{\\sigma\\sqrt{2\\pi}} e^{-\\frac{1}{2}\\left(\\frac{x-\\mu}{\\sigma}\\right)^2} dx$\n",
    "- $...$\n",
    "- $M_X(t) = e^{\\mu t + \\frac{1}{2}\\sigma^2 t^2}$"
   ]
  },
  {
   "cell_type": "markdown",
   "id": "a7f1923c-d09a-4ea8-a5c3-82f13d83ae77",
   "metadata": {},
   "source": [
    "# 엔트로피"
   ]
  },
  {
   "cell_type": "markdown",
   "id": "b97095d8-ac42-455e-8966-5e3d4247550b",
   "metadata": {},
   "source": [
    "## 엔트로피(entropy)란"
   ]
  },
  {
   "cell_type": "markdown",
   "id": "faba2420-5f21-492a-89ae-6ec9ece989b3",
   "metadata": {},
   "source": [
    "엔트로피(entropy)는 확률분포가 가지는 정보의 확신도 혹은 정보량을 수치로 표현한 것이다. 확률분포에서 특정한 값이 나올 확률이 높아지고 나머지 값의 확률은 낮아진다면 엔트로피가 작아진다.\n",
    "\n",
    "- 이산확률분포:\n",
    "$$H(X) = -\\sum_{i} p(x_i) \\log p(x_i)$$\n",
    "\n",
    "- 연속확률분포:\n",
    "$$h(X) = -\\int f(x) \\log f(x) \\, dx$$"
   ]
  },
  {
   "cell_type": "markdown",
   "id": "812a0171-35a7-4e9f-86b9-1fad583531d1",
   "metadata": {},
   "source": [
    "## 지니 불순도(gini impurity)\n",
    "\n",
    "지니 불순도(Gini impurity)는 데이터 집합 내에서 랜덤으로 선택한 요소가 잘못 분류될 확률을 측정, 주어진 데이터 집합이 얼마나 \"혼합\"되어 있는지를 나타냄\n",
    "\n",
    "$$G(Y) = \\sum_{k=1}^{K} P(y_k) (1 - P(y_k))$$"
   ]
  },
  {
   "cell_type": "code",
   "execution_count": 4,
   "id": "7f6fa365-3ed1-474d-b546-e401c74ea54f",
   "metadata": {},
   "outputs": [
    {
     "data": {
      "image/png": "[encoded data removed]",
      "text/plain": [
       "<Figure size 432x288 with 1 Axes>"
      ]
     },
     "metadata": {
      "needs_background": "light"
     },
     "output_type": "display_data"
    }
   ],
   "source": [
    "# 예시: 베르누이 분포의 엔트로피, 지니 불순도\n",
    "\n",
    "import numpy as np\n",
    "import matplotlib.pyplot as plt\n",
    "\n",
    "P0 = np.linspace(0.001, 1 - 0.001, 1000)\n",
    "P1 = 1 - P0\n",
    "H = - P0 * np.log2(P0) - P1 * np.log2(P1)\n",
    "G = 2 * (P0 * (1 - P0) + P1 * (1 - P1))\n",
    "\n",
    "plt.plot(P1, H, \"-\", label=\"entropy\")\n",
    "plt.plot(P1, G, \"--\", label=\"gini\")\n",
    "plt.legend()\n",
    "plt.xlabel(\"P(Y=1)\")\n",
    "plt.show()"
   ]
  },
  {
   "cell_type": "markdown",
   "id": "18a09835-63b7-4bc3-bc12-338cdb0f46f6",
   "metadata": {},
   "source": [
    "## 크로스-엔트로피"
   ]
  },
  {
   "cell_type": "markdown",
   "id": "47cd06a2-a539-4615-8d75-4fc397fa5ed7",
   "metadata": {},
   "source": [
    "크로스-엔트로피(cross-entropy)는 두 확률분포 간의 차이를 측정하는 데 사용"
   ]
  },
  {
   "cell_type": "markdown",
   "id": "4eca1213-3476-433e-8860-28eb21af794a",
   "metadata": {},
   "source": [
    "Cross-entropy는 머신러닝과 딥러닝에서 손실 함수(loss function)로 널리 사용되며, 특히 분류 문제에서 예측 분포 $Q$가 실제 분포 $P$를 얼마나 잘 추정하는지를 평가할 때 중요함\n",
    "\n",
    "이때 낮은 cross-entropy 값은 모델의 예측이 실제 분포에 더 가깝다는 것을 의미"
   ]
  },
  {
   "cell_type": "markdown",
   "id": "8a566f27-ce6e-411d-8fd9-f7c97db87a4e",
   "metadata": {},
   "source": [
    "$H(P, Q) = -\\sum_{x} P(x) \\log Q(x)$ (이산)"
   ]
  },
  {
   "cell_type": "markdown",
   "id": "864a4df5-b357-41b8-8d37-422df8d80418",
   "metadata": {},
   "source": [
    "$H(P, Q) = -\\int p(x) \\log q(x) \\, dx$ (연속)"
   ]
  },
  {
   "cell_type": "markdown",
   "id": "81e4eda3-9242-45cc-9252-835e6c13effc",
   "metadata": {},
   "source": [
    "# 참고자료\n",
    "\n",
    "- Wikipedia(https://www.wikipedia.org/)"
   ]
  }
 ],
 "metadata": {
  "kernelspec": {
   "display_name": "Python 3",
   "language": "python",
   "name": "python3"
  },
  "language_info": {
   "codemirror_mode": {
    "name": "ipython",
    "version": 3
   },
   "file_extension": ".py",
   "mimetype": "text/x-python",
   "name": "python",
   "nbconvert_exporter": "python",
   "pygments_lexer": "ipython3",
   "version": "3.8.0"
  }
 },
 "nbformat": 4,
 "nbformat_minor": 5
}
