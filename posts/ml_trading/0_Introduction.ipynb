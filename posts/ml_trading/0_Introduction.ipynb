{
 "cells": [
  {
   "cell_type": "raw",
   "id": "2a47633f",
   "metadata": {},
   "source": [
    "---\n",
    "title: \"머신러닝을 이용한 트레이딩: (0) 트레이딩 개요\"\n",
    "subtitle: \"Introduction\"\n",
    "author: \"Cheonghyo Cho\"\n",
    "categories: [trading]\n",
    "image: \"0_thumbnail.jpg\"\n",
    "---"
   ]
  },
  {
   "cell_type": "markdown",
   "id": "90841b05",
   "metadata": {},
   "source": [
    "# 머신러닝을 이용한 트레이딩\n",
    "\n",
    "머신러닝을 이용한 모멘텀 예측과 전략 강화\n",
    "\n",
    "아래는 구체적인 트레이딩에 머신러닝을 활용하는 구조를 보여준다. 다만, 블로그에서는 이 중 일부만 다루기로 한다."
   ]
  },
  {
   "cell_type": "markdown",
   "id": "c25f82a2",
   "metadata": {},
   "source": [
    "### 1. 금융 데이터와 바(bar)\n",
    "\n",
    "틱 데이터로부터 시간 기준 혹은 금액 기준 바 형성\n",
    "\n",
    "### 2. 매수, 매도 시그널 포착\n",
    "\n",
    "기술적분석을 이용한 기존 모멘텀 전략 (MA crossover, RSI..)\n",
    "\n",
    "추가적인 ML 분류기를 이용한 모멘텀 감지\n",
    "\n",
    "### 3. 매매 규칙\n",
    "\n",
    "위의 매매 시그널로 진입 규칙 설정\n",
    "\n",
    "이익실현, 손절, 최대보유기간 등을 고려해 청산 규칙 설정\n",
    "\n",
    "과거 시나리오를 바탕으로 각 매매 결과 기록 (뒤의 강화 전략을 위해)\n",
    "\n",
    "### 4. 전략 강화 ML 모형\n",
    "\n",
    "#### 4.1. 피쳐 생성 ($X$)\n",
    "\n",
    "시장 데이터(가격, 거래량 등)와 기술적 지표\n",
    "\n",
    "시장 미시구조적(microstructure) 특징 \n",
    "\n",
    "거시경제 변수\n",
    "\n",
    "자산 펀더멘털\n",
    "\n",
    "SNS/뉴스 센티멘트, 분석 컨센서스 등\n",
    "    \n",
    "\n",
    "#### 4.2. 머신러닝 모형 최적화\n",
    "\n",
    "피쳐 선정\n",
    "\n",
    "Cross-validation (Purged k-fold)  \n",
    "\n",
    "하이퍼파라미터(hyperparameter) 튜닝\n",
    "\n",
    "AutoML 스태킹 (혹은 각각의 Random forest, Adaboost, SVM, GBM, XGBoost, LSTM 등)\n",
    "\n",
    "성능 (accuracy, f1 score, roc-auc)\n",
    "    \n",
    "#### 4.3. 결과\n",
    "\n",
    "매매 신뢰도 (각각의 매매 시그널에 따라 실제 매매했을 때의 성공 예측 확률)\n",
    "    \n",
    "    \n",
    "### 5. 트레이딩 결정\n",
    "\n",
    "모멘텀 전략으로부터의 매매 시그널에 따라 베팅할지 혹은 패스할지를 결정\n",
    "\n",
    "위의 매매 신뢰도를 바탕으로 매매 금액/비중을 고려\n",
    "    \n",
    "### 6. 백테스팅\n",
    "\n",
    "Cumulative returns, Sharpe ratio, max drawdown, win ratio"
   ]
  },
  {
   "cell_type": "markdown",
   "id": "a28e8de9",
   "metadata": {},
   "source": [
    "# 참고 문헌: \n",
    "- Advances in Financial Machine Learning, Lopez de Prado (2018)\n",
    "\n",
    "\n",
    "# 플로우차트\n",
    "\n",
    "Simple version\n",
    "![ML Trade Networks2](flowchart_simple.jpg)\n",
    "\n",
    "---\n",
    "\n",
    "Complex version\n",
    "![ML Trade Networks](https://user-images.githubusercontent.com/52461409/132567663-eeead1ab-d3de-4cf3-a79f-6fea94722999.png)"
   ]
  }
 ],
 "metadata": {
  "kernelspec": {
   "display_name": "Python 3 (ipykernel)",
   "language": "python",
   "name": "python3"
  },
  "language_info": {
   "codemirror_mode": {
    "name": "ipython",
    "version": 3
   },
   "file_extension": ".py",
   "mimetype": "text/x-python",
   "name": "python",
   "nbconvert_exporter": "python",
   "pygments_lexer": "ipython3",
   "version": "3.9.16"
  },
  "toc": {
   "base_numbering": 1,
   "nav_menu": {},
   "number_sections": true,
   "sideBar": true,
   "skip_h1_title": false,
   "title_cell": "Table of Contents",
   "title_sidebar": "Contents",
   "toc_cell": false,
   "toc_position": {},
   "toc_section_display": true,
   "toc_window_display": false
  }
 },
 "nbformat": 4,
 "nbformat_minor": 5
}
