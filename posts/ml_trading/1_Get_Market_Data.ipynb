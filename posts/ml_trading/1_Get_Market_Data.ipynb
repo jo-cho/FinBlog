{
 "cells": [
  {
   "cell_type": "raw",
   "metadata": {},
   "source": [
    "---\n",
    "title: \"머신러닝을 이용한 트레이딩: 시장 데이터 수집\"\n",
    "subtitle: \"Get Market Data\"\n",
    "author: \"Cheonghyo Cho\"\n",
    "categories: [trading, data]\n",
    "image: \"2_thumbnail.png\"\n",
    "---"
   ]
  },
  {
   "cell_type": "markdown",
   "metadata": {},
   "source": [
    "- 기간: 2005년 7월 27일부터 2022년 1월 17일 까지\n",
    "- 삼성전자의 OHLCV(시가, 고가, 저가, 종가, 거래량)\n",
    "- 투자주체별 거래량: 개인, 외국인 기관\n",
    "\n",
    "파이썬 라이브러리인 *FinanceDataReader*와 *yfinance*을 이용한다. 순매수량 데이터는 대신증권 API로 받은 데이터를 이용한다.\n",
    "\n",
    "모든 시장 데이터는 일별 데이터이다."
   ]
  },
  {
   "cell_type": "code",
   "execution_count": null,
   "metadata": {},
   "outputs": [],
   "source": [
    "# lib\n",
    "import numpy as np\n",
    "import pandas as pd\n",
    "import matplotlib.pyplot as plt\n",
    "import seaborn as sns;sns.set()\n",
    "\n",
    "import FinanceDataReader as fdr\n",
    "import yfinance as yf\n",
    "df_ohlc = fdr.DataReader('005930','2005-7-27','2022-1-17').iloc[:,0:4] #가격 수정되어 있음\n",
    "volume_yf = yf.download('005930.KS','2005-7-27','2022-1-17',auto_adjust=True).Volume # 수정거래량\n",
    "\n",
    "df_ohlcv = df_ohlc.join(volume_yf).dropna()\n",
    "df = tautil.ohlcv(df_ohlcv)\n",
    "\n",
    "quantity_ = pd.read_csv('C:data/순매수량.csv')\n",
    "quantity_ = quantity_.iloc[:-1,1:5]\n",
    "quantity_.columns = ['Date','individual','foreign','institutional']\n",
    "quantity_.index = quantity_['Date'].apply(lambda x: pd.to_datetime(str(x), format='%Y%m%d'))\n",
    "quantity_.drop(columns='Date',inplace=True)\n",
    "\n",
    "df = df.join(quantity_).dropna()"
   ]
  },
  {
   "cell_type": "markdown",
   "metadata": {},
   "source": [
    "얻은 데이터는 [뒤](https://jo-cho.github.io/FinBlog/posts/ml_trading/3_Get_Features.html)에서 시각화하기로 한다."
   ]
  }
 ],
 "metadata": {
  "kernelspec": {
   "display_name": "Python 3 (ipykernel)",
   "language": "python",
   "name": "python3"
  },
  "language_info": {
   "codemirror_mode": {
    "name": "ipython",
    "version": 3
   },
   "file_extension": ".py",
   "mimetype": "text/x-python",
   "name": "python",
   "nbconvert_exporter": "python",
   "pygments_lexer": "ipython3",
   "version": "3.9.16"
  },
  "toc": {
   "base_numbering": 1,
   "nav_menu": {},
   "number_sections": true,
   "sideBar": true,
   "skip_h1_title": false,
   "title_cell": "Table of Contents",
   "title_sidebar": "Contents",
   "toc_cell": false,
   "toc_position": {},
   "toc_section_display": true,
   "toc_window_display": false
  }
 },
 "nbformat": 4,
 "nbformat_minor": 4
}
