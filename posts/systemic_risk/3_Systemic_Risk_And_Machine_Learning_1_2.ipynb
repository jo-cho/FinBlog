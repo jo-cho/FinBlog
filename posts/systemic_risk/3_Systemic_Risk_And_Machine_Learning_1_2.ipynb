{
 "cells": [
  {
   "cell_type": "raw",
   "id": "33de0dc1",
   "metadata": {},
   "source": [
    "---\n",
    "title: \"시스템 리스크 분석: (3-2) 시스템 리스크와 머신러닝 - 계량경제학, 미시구조, 금융규제\"\n",
    "subtitle: \"Systemic Risk Measure and Machine Learning Literatures: Econometrics, Microstructure, Financial Regulation\"\n",
    "author: \"Cheonghyo Cho\"\n",
    "categories: [systemic risk, measures, network, machine learning]\n",
    "image: \"3_1_2_thumbnail.PNG\"\n",
    "---"
   ]
  },
  {
   "cell_type": "markdown",
   "id": "af2471c0",
   "metadata": {},
   "source": [
    "G. Kou *et al.* (2019)"
   ]
  },
  {
   "cell_type": "markdown",
   "id": "c24299d3",
   "metadata": {},
   "source": [
    "# 시스템 리스크 선행연구 2"
   ]
  },
  {
   "cell_type": "markdown",
   "id": "5ba309a5",
   "metadata": {},
   "source": [
    "## 계량경제학과 통계학"
   ]
  },
  {
   "cell_type": "markdown",
   "id": "dcf3e1ae",
   "metadata": {},
   "source": [
    "시스템 리스크 측정의 전통적인 모델로 **Conditional Value as Risk, Conditional-Risk 및 Systemic Expected Loss(SES) 등**이 있다. \n",
    "\n",
    "- Acharya(2009)는 은행의 유한 책임과 한 은행의 실패로 인한 부정적인 외부 효과의 존재가 시스템적 위험으로 이어진다고 제안했다. \n",
    "- Acharya, Pedersen, Philippon and Richardson(2010)은 금융 위기로 충격을 받은 개별 은행의 자본 격차를 측정하는 데 SES를 사용할 수 있다고 제안했다. \n",
    "- Acharya et al.(2012)는 레버리지와 예상 손실의 함수인 자본 부족에 기반한 시스템 위험의 새로운 측정을 설명했다. \n",
    "- Brownlees and Engle(2011, 2017)은 금융기관에서 위험의 경고 신호로 작용할 수 있는 GARCH 및 SRISK 방법을 사용하여 자본 부족 측정을 제안했다. "
   ]
  },
  {
   "cell_type": "markdown",
   "id": "33917234",
   "metadata": {},
   "source": [
    "특별한 금융기관 간 위험상태의 상호의존성을 연구하기 위해서는 단면적(cross-sectional) 방법을 사용한다. \n",
    "\n",
    "- Carmassi and Herring(2016)은 금융기관의 구조적 복잡성 관점에서 체계적으로 중요한 은행의 복잡성과 시스템적 위험 간의 관계를 연구하였다. 패널 데이터의 결과로 대규모 인수합병이 여전히 복잡성의 주요 원인임을 보여주었다. \n",
    "- Battaglia and Gallo(2017)는 이사회의 독립성 외에도 이사회의 특성이 은행의 시스템적 위험에 상당한 영향을 미친다고 보았다. 자본 관리, 소유권 구조 및 은행 사업 통제는 모두 이 관계에 어느 정도 영향을 미친다."
   ]
  },
  {
   "cell_type": "markdown",
   "id": "48d590d0-c71b-43ee-9331-35c7f1631ed9",
   "metadata": {},
   "source": [
    "유동성 부족은 항상 뱅크런(bank run)의 위험을 야기하며, 유동성 감소는 은행시스템의 연쇄반응으로 시스템 리스크를 초래한다. \n",
    "\n",
    "- Cox와 Wang(2014)은 비유동 대출 비율과 은행 간 자금 조달 시장에 대한 노출을 포함하여 은행 실패의 예측 변수를 연구하고 관리자가 위험을 예측하는 데 도움이 될 수 있는 징후를 식별했다. \n",
    "- Laeven et al.(2016)은 시스템 리스크의 증가는 은행의 규모에 비례하고 은행의 자본금에 반비례한다는 사실을 발견했다. 따라서 추가자본요구가 시스템리스크 예방에 크게 기여하지 않는다고 제안하였다. \n",
    "- Calmès and Théoret(2013)은 시스템 은행 위험 수준을 포착하는 데 더 효과적인 새로운 유형의 위험 가중 자산 관리 지수를 개발했다. "
   ]
  },
  {
   "cell_type": "markdown",
   "id": "4707094e-bd32-4ca7-9998-50ac455c3190",
   "metadata": {},
   "source": [
    "고전적인 회귀 방법은 금융의 시스템 위험을 분석하는 데 널리 사용되는 방법이기도 하다. \n",
    "\n",
    "- Balogh(2012)는 회귀분석을 통해 유럽 은행시스템의 부실자산 비율과 자본적정성 비율에 영향을 미치는 요인을 연구한 후 거시건전성 규제체계의 주요 내용을 분석하고 시스템 리스크에 대한 일련의 모니터링 및 조기경보지표를 개발하였다.\n",
    "- Calabrese and Giudici(2015)는 실제 부도 상황과 M&A 상황에서 관련된 거시경제적 요인을 기반으로 이진 데이터에 대한 로지스틱 회귀 방법을 적용했다."
   ]
  },
  {
   "cell_type": "markdown",
   "id": "495ade6e-2550-4178-b9a3-c1435ffca149",
   "metadata": {},
   "source": [
    "예를 들어 유명한 DSGE(Dynamic Stochastic General Equilibrium) 모델과 같은 거시 경제 방법은 금융 위험과 관련하여 실물 경제에 미치는 영향을 분석하는 데에도 사용된다. \n",
    "\n",
    "- Brunnermeier and Sannikov(2014)는 성장률을 연구하기 위해 DSGE를 구축했으며 자본 가격의 급격한 변동으로 인해 불안정할 것이라는 사실을 발견했다. \n",
    "- Duca and Peltonen(2013)은 시스템적 위험에 대해 M2, 주택 가격 및 GDP를 결합한 거시 지수를 제안했다. \n",
    "- Huang, Zhou, and Zhu(2012)는 \"역사적 상관관계\" 및 시뮬레이션 관점에서 체계적 위험 측정 방법을 구축했다. \n",
    "- Calmès and Théoret(2014)은 거시경제적 위험이 체계적 금융 위험에 미치는 영향을 연구하고 경제 침체기 및 상승기의 은행 위험 간의 차이를 확인했다."
   ]
  },
  {
   "cell_type": "markdown",
   "id": "4032e9a8-e9b8-4a79-ad05-e62ae5f1224b",
   "metadata": {},
   "source": [
    "또한 다른 계량경제학 및 통계 방법으로 미래예측(Kritzman & Li, 2010; Segoviano & Goodhart, 2009), 불확정 클레임 분석(Merton, 1974; Jobst & Gray, 2013) 및 스트레스 테스트(Allen, Goldstein, Jagtiani & Lang, 2016), 신용위험분포(Bernardi & Romagnoli, 2016) 등이 있다.\n",
    "\n",
    "기존 문헌에서 사용되는 계량경제적 방법은 주로 단변량 및 다변량 회귀를 기반으로 한다. \n",
    "\n",
    "- Li, Wang, He(2013)와 같이 SVM(Support Vector Machine)을 사용하여 시스템 금융 위험 예측을 연구하는 다른 방법도 있다. L. Zhang, Hu and D. Zhang(2015)은 SVM을 사용하여 공급망 금융에서 중소기업을 위한 신용 위험 평가 모델을 연구했다. \n",
    "\n",
    "- Calabrese, Elkink, and Giudici(2017)는 유럽 국가 부채 위기 동안 전염 효과를 측정하기 위해 이진 공간 자동 회귀 모델(binary spatial autoregressive model)을 사용했다.\n",
    "\n",
    "시스템 리스크를 측정하기 위해 사용된 계량경제적 방법은 오랫동안 사용되어 왔지만 현대 금융 시스템은 은행에서 더욱 복잡한 상관 관계를 가진다. 따라서 복잡한 은행 네트워크로 인해 계량경제적 방법을 연구하기는 더욱 어려워졌다."
   ]
  },
  {
   "cell_type": "markdown",
   "id": "a6355ee8",
   "metadata": {},
   "source": [
    "## 금융시장 위험과 안정성 분석\n",
    "\n",
    "미시 구조에 대한 연구는 장외(OTC) 파생상품 시장(Arora & Rathinam, 2011), 투자 펀드 위험(Bengtsson, 2014; Jin & Nadal De Simone, 2014), 유럽 증권 시장 (Wymeersch, 2010), 내생적 자산 시장(Bluhm & Krahnen, 2014), 시장 지향 은행(Calmès and Théoret, 2013), 교차 시장 금융 위험(Xiong et al., 2011) 및 체계적으로 중요한 기관(Walter, 2012) 등을 포함하는 금융 시스템 리스크의 중요한 부분이다."
   ]
  },
  {
   "cell_type": "markdown",
   "id": "b159135e",
   "metadata": {},
   "source": [
    "신용 파생 상품 시장, 헤지 펀드, 자본 네트워크, 섀도우 뱅킹 등과 같은 다양한 금융 도구와 시스템 위험 간의 관계를 탐구하려고 시도한 연구도 다수 있다.\n",
    "\n",
    "- Abedifar, Giudici and Hashem(2017)은 이슬람 창구가 있는 기존 은행이 이중 은행 시스템에서 시스템 리스크 공격에 대해 가장 탄력성이 떨어지는 부문을 가지고 있음을 발견했다.\n",
    "- Calistru(2012)는 신용파생상품의 위험관리 방안을 연구하여 신용파생상품 시장의 운영 효율성이 시스템 리스크의 발생을 예방할 수 있다고 제안하였다.\n",
    "- King and Maier(2009)는 헤지펀드 연계가 시스템적 금융 위험에 미치는 영향을 연구했다.\n",
    "- Liang(2016)은 그림자 금융이 중국 금융 시스템에 미치는 영향을 연구했다. 그들은 그림자 금융이 금융 네트워크를 통해 금융 기관에 위험 전염을 조장했다고 주장했다. 반면 실물경제에 기여하는 그림자금융의 역할은 약화되고 있다고 보았다.\n",
    "- Gaffeo and Molinari(2016)의 연구에 따르면 중요한 경고 요인은 은행 간 시장의 규모와 은행 자본화 수준이다. 거대하고 밀접하게 연결된 중앙 시장은 고도로 발달된 은행 간 시장의 자본 네트워크에 유리하지만, 자본화된 기본 시장의 경우 시스템의 유연성을 크게 약화시킬 수 있다."
   ]
  },
  {
   "cell_type": "markdown",
   "id": "53a41b3c",
   "metadata": {},
   "source": [
    "또한 최근의 대표적인 연구에는 다음이 있다.\n",
    "\n",
    "- Bongini et al.(2017)은 보험 산업의 시스템 리스크를 다루었다. 이 연구는 투자자들이 새로운 규제 프레임워크가 보험 산업의 시스템 리스크를 줄일 수 있는지와 \"대마불사(too big to fail)\" 정책이 도덕적 해이의 확산을 통제할 수 있는지에 대해 회의적이라고 제안했다.\n",
    "- Kuzubas, Saltoglu and Sever(2016)는 서로 다른 수준의 레버리지가 채무 불이행의 시스템 효과와 은행 간 시장 전염의 특성을 어떻게 크게 바꿀 수 있는지 보여주었다.\n",
    "- Li, Liu, Siganos, and Zhou(2016)의 연구에 따르면 적절한 규제는 은행 주식 발행 증가로 인한 주식 가격 거품의 가능성을 줄였다.\n",
    "- J. P. Li, Feng, Sun and M. L. Li(2012)는 은행 산업의 위험 통합을 검토하고 추가 연구를 위해 몇 가지 주제를 제안했다.\n",
    "- Hamdi et al. (2017)은 비이자 소득 분석을 통해 튀니지 은행의 새로운 비즈니스 모델 하에서 은행 성과 및 위험을 연구했다."
   ]
  },
  {
   "cell_type": "markdown",
   "id": "d9e529d6",
   "metadata": {},
   "source": [
    "## 금융규제의 정량분석"
   ]
  },
  {
   "cell_type": "markdown",
   "id": "6980eaec",
   "metadata": {},
   "source": [
    "지난 몇 년 동안 시스템 리스크를 다루는 금융 규제에 대한 많은 연구가 상당한 진전을 이루었다(Galat & Moessner, 2013; Adrian, Covitz, & Liang, 2015; Alexander, 2011; Borio, 2003; Kara, 2016).\n",
    "\n",
    "금융위기에 대한 대응으로 금융연구자, 중앙은행, 국제금융기관의 공통된 의견은 **금융감독 미흡이 시스템적 리스크 확산으로 이어졌다**는 것이다. 광범위한 금융 규제 연구는 글로벌 금융 위기의 교훈에서 비롯되었다. 시스템 리스크를 측정하기 위한 기본 기술로 요약되는 네트워크, 빅데이터 분석, 계량경제학 등 세 가지 주요 방법론을 제안하는 것 외에도 규제 설계는 이론 연구 및 금융 규제 실무에서 제안된 분석 결과를 바탕으로 또 다른 중요한 분야이다. 금융 규제 비용을 평가하기 위해서는 몇 가지 편익-비용 분석 경로를 고려해야 한다(Posner & Weyl, 2013).\n",
    "\n",
    "금융 규제 연구에서 두드러진 주제인 시스템 리스크 규제는 네트워크 분석과도 관련이 있다.\n",
    "\n",
    "- 정량적 분석 결과로부터 지식을 발굴하고 경영의사를 결정하는 것은 정책간 상호의존성(Bosma, 2016), 최적개입정책규칙의 관계(Clark & Jokung, 2015) 등 미래 금융규제의 주요 방향 중 하나가 된다. \n",
    "- Cao and Illing(2010)은 서로 다른 규제 메커니즘을 비교하고 시스템 유동성 위험에 대처하는 방법을 도출했다. \n",
    "- Nucera et al. (2016)은 시스템 리스크 분류를 연구한 결과 가격 기반 등급과 자본 기반 등급의 결과가 서로 크게 벗어남을 발견했다.\n",
    "\n",
    "계량적 및 통계적 관점은 이 분야에서 가장 전통적인 연구 방향이다.\n",
    "\n",
    "- Ashraf et al. (2016)은 회귀분석을 통해 이슬람 국가의 은행시스템에 대한 표준 금융안정성 측정시스템을 구축하여 순안정자금조달비율(NSFR)이 이슬람 국가 은행의 재무안정성에 미치는 효과를 검증하였다.\n",
    "- 다른 인사이트로는 금융 위험과 경제 발전 사이의 관계가 있다(Calmès & Theoret, 2014; Lupu, 2015; Fazio et al., 2015; Fernández et al., 2016)."
   ]
  }
 ],
 "metadata": {
  "kernelspec": {
   "display_name": "Python 3 (ipykernel)",
   "language": "python",
   "name": "python3"
  },
  "language_info": {
   "codemirror_mode": {
    "name": "ipython",
    "version": 3
   },
   "file_extension": ".py",
   "mimetype": "text/x-python",
   "name": "python",
   "nbconvert_exporter": "python",
   "pygments_lexer": "ipython3",
   "version": "3.11.4"
  },
  "toc": {
   "base_numbering": 1,
   "nav_menu": {},
   "number_sections": true,
   "sideBar": true,
   "skip_h1_title": false,
   "title_cell": "Table of Contents",
   "title_sidebar": "Contents",
   "toc_cell": false,
   "toc_position": {},
   "toc_section_display": true,
   "toc_window_display": false
  }
 },
 "nbformat": 4,
 "nbformat_minor": 5
}
