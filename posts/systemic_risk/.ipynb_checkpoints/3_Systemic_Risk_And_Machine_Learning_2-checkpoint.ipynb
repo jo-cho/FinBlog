{
 "cells": [
  {
   "cell_type": "raw",
   "id": "33de0dc1",
   "metadata": {},
   "source": [
    "---\n",
    "title: \"시스템 리스크 분석: (3-2) 시스템 리스크와 머신러닝 - 향후 연구 방향\"\n",
    "subtitle: \"Systemic Risk Measure and Machine Learning Future Research\"\n",
    "author: \"Cheonghyo Cho\"\n",
    "categories: [systemic risk, network, big data, machine learning]\n",
    "image: \"3_thumbnail.PNG\"\n",
    "---"
   ]
  },
  {
   "cell_type": "markdown",
   "id": "af2471c0",
   "metadata": {},
   "source": [
    "G. Kou *et al.* (2019)"
   ]
  },
  {
   "cell_type": "markdown",
   "id": "c24299d3",
   "metadata": {},
   "source": [
    "# 향후 연구 방향"
   ]
  },
  {
   "cell_type": "markdown",
   "id": "83d196e2",
   "metadata": {},
   "source": [
    "시스템 리스크는 금융 연구에서 매우 활발한 영역이 되었다. [앞의 포스트](https://jo-cho.github.io/FinBlog/posts/systemic_risk/3_Systemic_Risk_And_Machine_Learning_1.html)에서 금융 시스템 리스크 연구의 현재 추세를 몇 가지 질문 및 전망과 함께 제시했다. 이를 세 가지 추세로 식별할 수 있다.\n",
    "\n",
    "1) 빅데이터 분석을 활용한 금융 시스템 리스크 대응\n",
    "2) 데이터 드리븐(data-driven)의 시스템 리스크 분석\n",
    "3) 글로벌 금융시장의 시스템 리스크에 대한 레그테크(Reg-tech)"
   ]
  },
  {
   "cell_type": "markdown",
   "id": "1cff8401",
   "metadata": {},
   "source": [
    "## 빅데이터의 영향"
   ]
  },
  {
   "cell_type": "markdown",
   "id": "e0be97a7",
   "metadata": {},
   "source": [
    "의심할 여지 없이 빅데이터의 발전은 산업 데이터의 응용뿐만 아니라 이론적 연구를 위한 새로운 길을 열었다. 시스템 리스크 연구에서 빅데이터를 사용하는 것은 향후 연구의 주요 방향 중 하나가 될 수밖에 없다. 현재 시스템 금융 리스크에 대한 금융규제는 주로 거시적 관점과 경기순응적 리스크의 식별 및 대응에 초점을 맞추고 있다. 시스템적으로 중요한 기관의 관리, 데이터 마이닝 및 지식 발견의 적용은 향후 추가적인 조사가 필요하다. 따라서 빅데이터 기술의 사용은 비정상적인 행동의 탐지, 미시적 대상의 분류된 관리, 전형적인 사례 모델링 및 국가 간 기업 규제 모델링을 포함하여 미시적 관리 영역을 탐색하기 위해 현재 연구 장벽을 돌파해야 한다."
   ]
  },
  {
   "cell_type": "markdown",
   "id": "26884b65",
   "metadata": {},
   "source": [
    "예를 들어, \"대마불사(too big to fail)\" 기관을 식별하는 것은 거시 건전성 금융 규제의 주요 작업 중 하나이다. 그러나 금융시스템이 고도로 네트워크화되고 위험전파 불확실성에 대한 연구와 금융시스템의 복잡성에 따라 'too big to fail'의 중요성은 점차 'too complex to fail'의 문제로 바뀌고 있다. 복잡한 금융 네트워크에서 핵심 노드를 식별하는 것은 금융 규제 조치 및 정책을 촉진하는 효과적인 방법이다. 따라서 복잡한 금융 네트워크에 대한 주류 연구는 빅데이터 분석 기술, 더 나아가 편미분방정식 등에 기반한 금융 생태계의 안정성을 포함해야 한다."
   ]
  },
  {
   "cell_type": "markdown",
   "id": "812fafaf",
   "metadata": {},
   "source": [
    "## 데이터-드리븐"
   ]
  },
  {
   "cell_type": "markdown",
   "id": "6f799a77",
   "metadata": {},
   "source": [
    "데이터 마이닝에 사용되는 시스템 리스크의 실제 데이터는 금융 데이터가 엄격한 리소스 및 예산 제약 하에 보관되기 때문에 주요 과제 중 하나이다. 은행간 데이터 연계 등의 데이터 활용이 어렵기 때문에 시스템 리스크에 빅데이터가 아직 제대로 활용되지 못하고 있다. 따라서 국가 간 금융 통찰력을 갖춘 글로벌 금융 시장에 대한 실증적 근거 연구는 추가 주제이다. 데이터를 수집하거나 사용 가능한 데이터를 삭제하는 것은 매우 어려운 작업이다. \n",
    "\n",
    "예를 들어, 전통적인 연구에서 금융 네트워크의 위험 전염 및 시스템 리스크의 원인은 시스템적으로 중요한 금융 기관에서 발생하는 것으로 여겨졌다. 따라서 대부분의 국가는 금융 규제를 위해 이러한 기관에 의존했다. 그러나 비금융 기관과 금융 기관을 연결하는 네트워크의 안정성이 시스템 전체의 안정성에 영향을 미치지 않을 것이라고 누가 보장할 수 있는가? 금융네트워크의 다차원적 시스템 구조는 네트워크에 속한 금융기관이 비금융기관의 영향을 받아 불안정성이 커진다는 것을 의미한다. 현재 연구에서 네트워크 관계는 부채, 자본 대출 및 금융 기관 간의 현금 흐름에 집중되어 있다. 따라서 비금융 및 금융 기관, 특히 초국경 기관의 데이터 소스는 향후 연구의 주요 방향 중 하나가 될 것이다."
   ]
  },
  {
   "cell_type": "markdown",
   "id": "b918a6c8",
   "metadata": {},
   "source": [
    "## 데이터 사이언스의 최적 정책"
   ]
  },
  {
   "cell_type": "markdown",
   "id": "0a7bbc9c",
   "metadata": {},
   "source": [
    "금융규제와 마찬가지로 시스템 리스크에 대응하는 것은 이론적 연구와 관리실무를 유기적으로 연결하는 것이 중요하다. 그것은 경영과학의 본질이자 정보기술의 본질적인 요구이다. 정보기술을 활용해 금융리스크에 대응하는 레그테크(reg-tech)가 최근 화두가 되고 있다. 시스템 리스크의 규제는 데이터 과학의 정량적 연구 측면에서 포괄적인 정책 도구를 사용해야 하는 금융 시스템 엔지니어링 문제이다.\n",
    "\n",
    "예를 들어 건전한 금융 규제 연구는 거시적 및 미시적 건전성 요소와 행동 감독을 결합해야 한다. 그러나 최선의 정책을 선택하려면 비용과 편익에 대한 포괄적인 평가가 필요하다. 따라서 정책 집행의 실효성 평가는 시스템 리스크 규제의 중요한 영역 중 하나이다. 향후 연구의 주요 방향은 비용 효율적인 분석 방법의 적용 및 다목적 방법을 포함한다."
   ]
  }
 ],
 "metadata": {
  "kernelspec": {
   "display_name": "Python 3 (ipykernel)",
   "language": "python",
   "name": "python3"
  },
  "language_info": {
   "codemirror_mode": {
    "name": "ipython",
    "version": 3
   },
   "file_extension": ".py",
   "mimetype": "text/x-python",
   "name": "python",
   "nbconvert_exporter": "python",
   "pygments_lexer": "ipython3",
   "version": "3.9.16"
  },
  "toc": {
   "base_numbering": 1,
   "nav_menu": {},
   "number_sections": true,
   "sideBar": true,
   "skip_h1_title": false,
   "title_cell": "Table of Contents",
   "title_sidebar": "Contents",
   "toc_cell": false,
   "toc_position": {},
   "toc_section_display": true,
   "toc_window_display": false
  }
 },
 "nbformat": 4,
 "nbformat_minor": 5
}
