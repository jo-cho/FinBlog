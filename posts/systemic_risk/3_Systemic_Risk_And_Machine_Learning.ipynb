{
 "cells": [
  {
   "cell_type": "raw",
   "id": "33de0dc1",
   "metadata": {},
   "source": [
    "---\n",
    "title: \"시스템 리스크 분석: (3) 시스템 리스크와 머신러닝 - 선행연구\"\n",
    "subtitle: \"Systemic Risk Measure and Machine Learning Literatures\"\n",
    "author: \"Cheonghyo Cho\"\n",
    "categories: [systemic risk, measures, network, machine learning]\n",
    "image: \"3_thumbnail.PNG\"\n",
    "---"
   ]
  },
  {
   "cell_type": "markdown",
   "id": "af2471c0",
   "metadata": {},
   "source": [
    "G. Kou *et al.* (2019)"
   ]
  },
  {
   "cell_type": "markdown",
   "id": "c24299d3",
   "metadata": {},
   "source": [
    "# 금융 시스템 리스크"
   ]
  },
  {
   "cell_type": "markdown",
   "id": "83d196e2",
   "metadata": {},
   "source": [
    "네트워크 기반 인사이트, 빅 데이터 분석, 감정 마이닝 및 계량 경제학 방법을 통한 시스템 리스크 연구 개발을 소개한다."
   ]
  },
  {
   "cell_type": "markdown",
   "id": "c6cee5ea",
   "metadata": {},
   "source": [
    "## 네트워크 기반 금융기관의 시스템 리스크"
   ]
  },
  {
   "cell_type": "markdown",
   "id": "c57d98e4",
   "metadata": {},
   "source": [
    "2008년 금융 위기 이전에는 시스템 리스크 규제 문제에 대한 연구가 드물었으며, 초기 연구는 단일 은행 운영 위험에 대응하는 시도 정도였다. 그 후로 금융 규제의 중요성이 널리 인식되고 있지만 현재 은행 시스템에 복잡한 네트워크가 형성되어 있는 상황에서 시스템 리스크를 다루는 것은 매우 어려운 일이며, 현재 금융 연구의 중요한 주제가 되었다."
   ]
  },
  {
   "cell_type": "markdown",
   "id": "85813dcd",
   "metadata": {},
   "source": [
    "### 금융 네트워크의 발달"
   ]
  },
  {
   "cell_type": "markdown",
   "id": "2d8d792e",
   "metadata": {},
   "source": [
    "금융기관의 광범위한 상호연계로 인한 복잡한 네트워크는 위험전이(risk transmission) 가능성을 높인다고 알려져있다. 은행 시스템의 유동성은 은행 간의 직접적인 연결을 필요로 하는 반면, 동종 상품과 위험 회피(risk aversion)는 은행 간의 광범위한 간접 연결로 이어진다. Battiston et al. (2016)에 따르면 경제 및 금융 정책은 네트워크 분석, 행동 모델링 및 복합 시스템 이론을 적용할 필요가 있으며 금융 규제 문제에 대한 연구는 복잡한 네트워크를 다루는 문제와 직접적으로 연결되어 있다."
   ]
  },
  {
   "cell_type": "markdown",
   "id": "7598461f",
   "metadata": {},
   "source": [
    "- 은행간 네트워크는 작은 충격 하에서는 안정성을 향상시키지만, 특정 지점을 넘어서면 위험 감수(risk-taking)하게 되고 결국 실패하게 된다(Acemoglu et al., 2015). 따라서 복잡한 금융 네트워크의 \"tipping\" 포인트와 안정성 문제를 고려하여 금융 정책 개발의 방향을 결정해야 한다. \n",
    "\n",
    "- Haldane and May(2011)는 금융 시스템 내 파생상품 거래가 금융 네트워크 위험의 주요 원인 중 하나라고 주장한다. \n",
    "\n",
    "- 또한 네트워크 기반 금융 시스템과 위험의 전염에 대한 노출을 증폭시키고(Prasanna et al., 2011; Hu et al., 2012), \n",
    "\n",
    "- 은행 간 시스템(interbank system)의 유동성은 금융 네트워크의 불안정성을 증가시킨다(Ferrara et al., 2016)."
   ]
  },
  {
   "cell_type": "markdown",
   "id": "5208ac8c",
   "metadata": {},
   "source": [
    "### 위험 노출 및 전이\n",
    "\n",
    "금융 네트워크는 항상 은행 부도의 프로세스를 시뮬레이션할 수 있는 위험 노출(risk exposure)의 행렬로 설정된다. \n",
    "\n",
    "- Giudici et al.(2017)은 BIS 데이터를 기반으로 한 상호 연결성 측정뿐만 아니라 여러 국가 간의 다변량 네트워크 구조 및 위험 노출 프로세스를 평가했다. 제안된 모델은 조기 경보 및 예측 전염으로 사용될 수 있다. \n",
    "\n",
    "- Giudici and Spelta(2016)는 다변량 그래픽 모델과 베이지안 그래픽 모델을 통해 개별 국가 그룹이 금융 네트워크의 중심 노드로서 서로 다른 행동을 한다는 것을 제안하고 증명했다. \n",
    "\n",
    "- Amini et al.(2013)은 규제 정책에서 전염 노출과 관련하여 설정되어야 하는 자본의 최소 비율을 제안하면서 비균질 방향 그래프(inhomogeneous directed graphs)를 사용하여 금융 네트워크에서 캐스케이드(cascade) 프로세스 및 점근적(asymptotic) 전염을 연구했다. \n",
    "\n",
    "- Bluhm and Krahnen(2014)은 상호 연결된 은행 대차대조표와 제안된 체계적 value-at-risk 거시 건전성 방법을 기반으로 시스템 리스크를 노출하는 네트워크 모델을 개발했다. \n",
    "\n",
    "- Choi(2014)는 기관이 클수록 금융 네트워크에 더 긍정적인 영향을 미치므로 약자보다 강자를 강화하는 것이 은행 시스템의 안정성을 유지하는 데 효과적으로 도움이 될 것이라고 인식했다."
   ]
  },
  {
   "cell_type": "markdown",
   "id": "f7afe2e2",
   "metadata": {},
   "source": [
    "네트워크에서 위험이 이동하는 경로를 밝히고 경기 대응 감독을 통해 몇 가지 대응책을 구현한 연구도 있다.\n",
    "\n",
    "- Billio et al.(2012)은 외생적 충격을 경험하는 금융 네트워크에는 항상 상호 상관관계가 존재함을 증명했다. \n",
    "\n",
    "- Cruz and Lind(2012)는 입자 이동 모델을 사용하여 거래 네트워크의 에이전트에 의해 일련의 지급 불능이 어떻게 촉발되는지 보여주었다.\n",
    "\n",
    "- Ladley(2013)는 큰 충격은 금융 시스템 리스크로 이어지는 반면, 작은 은행 디폴트에서는 시스템적 리스크를 관찰할 수 없다고 주장했다. 위험 분산과 위험 전가가 허용되는 상황에서 최적의 시장 구조는 없다. 반면 예금보험은 은행간 네트워크 내 상호의존성을 줄여 시스템리스크 발생 가능성을 낮춘다.\n",
    "\n",
    "- Betz et al. (2016)은 서로 다른 기간 내의 시스템 위험 평가를 위한 프레임워크를 제공했다. 이 프레임워크는 은행 부문의 분열 과정과 국가 은행과의 연계를 드러냈다. \n",
    "\n",
    "- Souza(2016)는 브라질 은행 시스템에서 더 큰 은행이 더 심각한 손실을 입을 것이라는 사실을 발견했다. \n",
    "- Cerchiello and Giudici(2015)는 공동 시장 데이터 및 대차대조표 데이터를 기반으로 중앙 기관을 식별하여 유럽 최대 은행의 시스템 리스크를 연구하기 위해 조건부 그래픽 모델을 평가했다. \n",
    "\n",
    "- Shen(2017)은 전자 물류 투자의 재정적 위험을 모델링하기 위해 베이지안 네트워크 접근 방식을 제안했다."
   ]
  },
  {
   "cell_type": "markdown",
   "id": "d9e0bafa",
   "metadata": {},
   "source": [
    "### 실물경제와의 관계\n",
    "\n",
    "실물경제에 미치는 영향은 은행간(interbank) 시장과 실물경제 간의(Gabbi et al., 2014), 혹은 금융시장(Diebold & Yilmaz, 2014) 간의 네트워크와 같이 서로 다른 노드로 구축된 특별한 네트워크 측면의 한가지 주제이다.\n",
    "\n",
    "- Helwege와 Zhang(2016)은 정보 전염이 동일한 시장의 경쟁사에 더 큰 영향을 미치고 파산 단계보다 위기(crisis)에서 더 심각한 피해를 입힌다고 주장했다. \n",
    "\n",
    "- Diebold and Yilmaz(2014)는 2007~2008년 금융위기 당시 미국 주요 금융기관의 주식 수익률 변동성의 일별 변동(daily-varied) 연결성을 연구하기 위해 가중방향 그래프(weighted directed graph)의 연결성을 이용했다. 금융시장은 자산의 상호전도에 따른 시스템적 충격으로 피해를 입었다.\n",
    "\n",
    "- Giudici and Parisi(2017)는 부채와 GDP의 상관관계를 조사하기 위해 상관 확률적 프로세스(correlated stochastic process)를 사용했으며, 소버린(sovereign) 리스크믐 항상 부채와 GDP 성장의 영향을 받음을 밝혔다."
   ]
  },
  {
   "cell_type": "markdown",
   "id": "662931e0",
   "metadata": {},
   "source": [
    "### 금융 네트워크 구조\n",
    "\n",
    "다중 계층(multilayer) 은행 네트워크는 공통 자산에 대한 공통 노출로 구축되는 금융 시스템의 중요한 기능 중 하나이다. \n",
    "\n",
    "- 다중 계층 네트워크는 항상 금융 위험을 방어하는 능력을 감소시키고 금융 위기의 비용을 증가시킨다(Battiston, Farmer, & Flache, 2016). \n",
    "\n",
    "- Poledna et al. (2015)은 금융 네트워크는 신용, 파생 상품, 외환 및 증권으로 연결된 다층 네트워크로 취급되어야 하며 네트워크가 단일 계층에만 집중될 경우 예상 손실이 전체 위험의 최대 90%까지 과소 평가될 수 있음을 밝혔다. 또 다른 결과로 금융 다층 네트워크는 모든 계층의 시스템 위험 합계가 총 위험보다 낮은 비선형성 이벤트를 제공한다."
   ]
  },
  {
   "cell_type": "markdown",
   "id": "c94522b0",
   "metadata": {},
   "source": [
    "이 분야에서 은행 네트워크를 연구하는 데 사용되는 주요 방법론에는 무작위 그래프 이론(random graph theory), 입자 물리학(particle physics), 게임 이론, 편익-비용 분석(benefit-cost analysis), 즉 복잡한 네트워크를 나타내는 다양한 수학적 모델 등이 있다. 또한 전염병 모델 및 확률적 최적 모델과 같은 다른 방법이 금융 네트워크 연구에 적용되었다. 그러나 현재 연구는 미국 은행 시스템, 영국 은행, 유럽 연합, 브라질 및 기타 신흥 경제와 같은 단일 경제 내의 은행 간 시스템에 국한되어 있다. 글로벌 연구 네트워크로서 국가 간 금융 기관 및 글로벌 금융 시스템에 대한 연구는 거의 없다.\n",
    "\n",
    "예를 들어, 기존 문헌은 주로 공동 금융과 경제 네트워크에 초점을 맞추었고, 향후 네트워크 기반의 시스템 리스크 연구에서 해결해야 할 시급한 문제인 지리, 인문사회 관련 네트워크와 기타 외부 요인에 대한 연구는 거의 없었다."
   ]
  },
  {
   "cell_type": "markdown",
   "id": "6ee5f654",
   "metadata": {},
   "source": [
    "## 금융위험 관리에 대한 빅데이터 분석"
   ]
  },
  {
   "cell_type": "markdown",
   "id": "b85e31d6",
   "metadata": {},
   "source": [
    "오늘날 빅데이터는 데이터 마이닝 기술 및 비즈니스 인텔리전스를 통한 이론적 연구뿐만 아니라 금융 위험 분석, 정치 경제학, 비즈니스 데이터 리소스 서비스, 전자 상거래를 포함하여 여러 영역에서의 연구가 진행되고 있다."
   ]
  },
  {
   "cell_type": "markdown",
   "id": "db34f581",
   "metadata": {},
   "source": [
    "### 비즈니스 인텔리전스와 금융 시스템 리스크"
   ]
  },
  {
   "cell_type": "markdown",
   "id": "1147c714",
   "metadata": {},
   "source": [
    "일반적으로 비즈니스 인텔리전스(BI)의 전략과 기술은 인터넷, 무선 주파수 식별, 클라우드 서비스, 의사 결정 지원 시스템 및 웹 기반 BI의 다섯 부분으로 나눌 수 있다(Choi, Chan, & Yue, 2017).\n",
    "\n",
    "금융 빅데이터는 은행간 유동성, 글로벌 자본흐름 등 관련 금융정보를 포함하며, 금융규제를 통한 리스크 대응을 위한 리스크 조기경보, 리스크 식별 등의 업무를 수행할 수 있다. 현재/최근 연구에는 빅데이터 알고리즘(Campbellverduyn et al., 2017), 웹 계약과 금융 시장 간의 상관관계(Flood et al., 2011), 금융 신용 위험 평가(Cui, 2015), 중국 주식 시장의 변동성 분석(Dong, Yang, & Tian, 2015), 주가와 대중 감정의 관계(Smailović et al., 2014) 등이 있다.\n",
    "\n",
    "금융 시스템 리스크에서 빅데이터는 위험원과 위험의 다각화 간의 상관관계를 분석하는 사용되었다. Cerchiello and Giudici(2016)는 이 두 가지 소스에서 선택된 빅데이터를 기반으로 최초의 시스템 리스크 모델을 구축했다. 결과로 베이지안 방법을 사용하여 서로 다른 데이터 구조를 결합하고 금융 위험과 대중 감정 간의 상관 관계를 테스트했다. Sarlin(2016a)은 기계 학습, 네트워크 분석, 시뮬레이션 및 시스템 리스크를 위한 퍼지 시스템과 같은 주요 지능형 알고리즘을 소개했다. 또한 Sarlin(2016b)은 도표, 지도 및 네트워크의 세 가지 모듈로 금융 규제를 위한 시각적 도구를 제안했다. Cerchiello et al. (2016)은 금융 관련 트위터와 금융 시장을 기반으로 한 위험 전염 모델을 연구했으며, 충격이 발생할 때 이들의 상관 관계가 예측되는 것을 보였다.\n",
    "\n",
    "현재 빅데이터 인사이트를 활용한 연구는 이질적인 금융 데이터를 융합하는 것을 목표로 하고 있지만, 데이터의 양은 글로벌한 금융시장으로부터는 제한되어 있다."
   ]
  },
  {
   "cell_type": "markdown",
   "id": "40b412e7",
   "metadata": {},
   "source": [
    "### 데이터 한계"
   ]
  },
  {
   "cell_type": "markdown",
   "id": "04f803f4",
   "metadata": {},
   "source": [
    "금융 위험 분석은 고품질의 데이터에 의존한다. 글로벌 금융 시장의 데이터원을 사용할 수 없어 데이터를 확장하기 어렵고 데이터 품질도 보장되지 않는다.\n",
    "\n",
    "Cerchiello & Giudici(2016)은 다중 원천의 데이터 통합이 빅 데이터로 제공되어야 한다고 말한다. Flood et  al. (2011)은 금융의 위험은 항상 시간과 관련되어 있고 시변적이므로 데이터 자원에 대한 효과적인 위험 분석을 보장하기 어렵다고 주장한다. 또한 데이터 통합 및 품질은 금융 주체의 복잡성으로 인해 해결하기 어려운 문제이다. Jagadish et al. (2014)은 빅데이터 분석에는 데이터 수집, 모델링 및 분석, 해석 및 배포와 같은 많은 단계가 포함되어야 한다고 제안했다. 그러나 이질성, 적시성, 비일관성, 불완전성을 포함한 빅데이터의 과제도 실생활 질문에 적용하는 데 걸림돌이 되고 있다. 마찬가지로 금융시장의 데이터 자원, 특히 은행 간 네트워크와 은행 네트워크에서 빅데이터 분석을 활용하는 것도 어렵다. Yang et al. (2014)는 저장 데이터를 개선하기 위해 프레임워크 및 분류 표준을 제안했다. \n",
    "\n",
    "또한 빅데이터 분석에서는 데이터 품질도 고려해야 한다. Fardani Haryadi, Hulstijn, Wahyudi, van der Voort 및 Janssen(2016)은 다양한 은행의 데이터 품질을 정의하고 세부 목표를 제안했다. Brammertz & Mendelowitz(2014)는 금융 계약의 세분성(granularity) 정보에서 오는 금융 빅데이터에서 금융 규제를 위한 정보추출을 제안하고, 조건부(contingent) 현금 흐름으로 변환했으며, 기관, 시스템 및 개인 등의 다층의 금융 주체에 대한 혼합 모델을 개발했다.\n",
    "\n",
    "데이터 리소스와 품질이 빅 데이터 및 재무 데이터 분석의 주제와 관련되어 있음이 분명하다. 데이터 품질은 향후 연구의 중요한 방향이 될 것이며(Choi et al., 2017), 더 나아가 빅데이터 분석을 위한 견고한 기반을 마련하기 위해서는 데이터 품질 평가 지표 체계를 더욱 발전시켜야 한다. 그러나 데이터의 양은 관련 재무 및 경영학 문헌에서 아직 논의되지 않았으므로 새로운 도전이 될 것이다."
   ]
  },
  {
   "cell_type": "markdown",
   "id": "ea432a0d",
   "metadata": {},
   "source": [
    "###  금융시장의 감성 분석"
   ]
  },
  {
   "cell_type": "markdown",
   "id": "f8a014ac",
   "metadata": {},
   "source": [
    "은행 간 시장의 데이터 획득으로 인해 트윗, 뉴스 및 법률과 같은 인터넷 데이터는 항상 금융 위험을 연구하는 텍스트 데이터 역할을 했다. 감정 분석 또는 오피니언 마이닝은 특정 분야에 대한 텍스트 마이닝을 사용하여 고객 및 시장의 태도, 의견 및 경향을 발견하는 것을 목표로 한다. 먼저, 시장 정서에 대한 텍스트 기반을 구축한다. \n",
    "\n",
    "- O'Halloran et al.(2015)은 특징(features)의 순위를 매기고 법률을 다양한 레이블로 분류하기 위해 미국 연방법에서 추출한 금융 규제에 대한 뉴스 데이터베이스를 만들었다. 빅데이터 분석은 규제 기관이 다양한 금융 시장에 대응하기 위해 합리적인 법률을 선택하는 데 도움이 될 수 있다. \n",
    "\n",
    "- 또한 Twitter 데이터를 사용하여 금융 시스템 위험을 추정할 수 있다. 이 방법은 금융 기관의 감염을 개별화하는 데 사용할 수 있다(Cerchiello & Giudici, 2016; Giudici et al., 2016). \n",
    "\n",
    "- García(2013)는 20세기 New York Times를 바탕으로 자산 가격과 심리 간의 관계를 발견하고 불황 시 편차 충격을 보여 조건부 평균 수익률의 변화를 예측했다. "
   ]
  },
  {
   "cell_type": "markdown",
   "id": "f4fdda3a",
   "metadata": {},
   "source": [
    "대중의 감정은 감정 마이닝(Tsai & Wang, 2013)을 통해 잠재적 추세를 결정하는 데 사용될 수 있지만, 시장 분석과 금융 시스템 위험 사이에는 많은 종속성이 있다. \n",
    "\n",
    "- Nyman et al. (2014)은 텍스트 세트를 기반으로 한 시장 심리로 금융 시스템 위험을 측정할 수 있음을 발견했다. \n",
    "\n",
    "- Chiang and Chen(2015)은 금융 뉴스 웹사이트에서 금융 텍스트 데이터베이스를 수집 및 구축하고 인기 단어 집합을 추출하여 감정 지수를 계산했다. 또한 그들은 감정 지수를 사용하여 전기 산업의 주가 지수를 예측할 수 있음을 발견했다. \n",
    "\n",
    "- Tsai and Wang(2017)은 금융 은행 보고서의 텍스트 정보를 사용하여 금융 위험을 예측했으며, 결과는 금융 위험과 강한 상관 관계로 인식되는 소프트 정보를 보여준다. 그들의 발견은 금융 위험과 시장 정서 사이의 강한 상관관계를 증명할 수 있었다. \n",
    "\n",
    "- Meyer et al. (2017)은 가격 및 위험 예측 모델을 밝히기 위해 금융 뉴스의 세분성 감정 분석을 구현했다. 그들의 모델에서는 감정을 예측하기 위해 구문 문장 패턴을 추출하는 데 자연어 처리가 사용된다."
   ]
  },
  {
   "cell_type": "markdown",
   "id": "763fb853",
   "metadata": {},
   "source": [
    "감정 분석 방법은 회귀 및 순위 방법(Tsai & Wang, 2017, 2013) 등의 고전적 머신러닝 알고리즘, 어휘 및 기계 학습 감정 분석(Meyer et al., 2017), 규칙 기반 방출 모델(Rule-based Emission Model) 알고리즘(Tromp et al., 2017), 긍정적이고 부정적인 단어의 비율(García, 2013) 등이 있다.\n",
    "\n",
    "현재 금융 시장의 데이터 자원이 개방적이고 획일적인 기준으로 확립되지 않은 상황에서 감정 분석은 의심할 여지없이 금융 위험을 분석하는 효과적인 방법이 된다. 또한 텍스트 분석을 통한 시스템 리스크 관리를 위한 기술과 텍스트 데이터베이스 개발이 필요하다."
   ]
  },
  {
   "cell_type": "markdown",
   "id": "1f5eb4d5",
   "metadata": {},
   "source": [
    "-----\n",
    "\n",
    "*(..작성중..)*"
   ]
  },
  {
   "cell_type": "markdown",
   "id": "5ba309a5",
   "metadata": {},
   "source": [
    "## Econometrics and statistics for systemic financial risk"
   ]
  },
  {
   "cell_type": "markdown",
   "id": "f2d443ff",
   "metadata": {},
   "source": [
    "Econometrics and statistics (including probability theory) have a long history for related fi- \n",
    "nancial research. More classic methods are used to assess systemic risk of financial institutions \n",
    "which aim to find the determinants and indicators of systemic risk through quantitative \n",
    "analysis and empirical research. Especially in finance, these methods have also occupied \n",
    "a large proportion and are still the basis of related studies. We will introduce mainstream \n",
    "models in following subsection.\n",
    "\n",
    "Traditional models have been proposed for systemic risk, such as Conditional Value \n",
    "as Risk, Conditional-Risk and Systemic Expected Loss (SES), and so on. Acharya (2009) \n",
    "proposed that the limited liability of banks and the presence of a negative externality of one \n",
    "bank’s failure leads to systemic risk. Acharya, Pedersen, Philippon, and Richardson (2010) \n",
    "proposed SES can be used to measure the capital gap of an indiviual bank shocked by finan- \n",
    "cial crisis. Acharya et al. (2012) described a new measurement of systemic risk based on capi-tal shortfall which is a function of leverage and expected loss. Brownlees and Engle (2011, 2017) proposed measurement of capital shortfall using GARCH and SRISK methods which can be served as warning signs of risk in financial instututions. Cross-sectional methods are \n",
    "used to study the interdependency of risk status among special financial institutions. Carmassi and Herring (2016) studied the relationship between the complexity of systematically \n",
    "important banks and systemic risks from the perspective of the structural complexity of the \n",
    "financial institutions. Their empirical results from panel data showed that large mergers and \n",
    "acquisitions are still the major source of complexity. Battaglia and Gallo (2017) believed \n",
    "that, in addition to the independence of the board of directors, the characteristics of the \n",
    "board have a significant impact on the systemic risk of banking. Capital management, the \n",
    "ownership structure and control of the business of banking all have some influence on this \n",
    "relationship.\n",
    "\n",
    "The shortage of liquidity always gives rise to the risk of bank runs, and the liquidity will \n",
    "decrease in financial risk so that chain reaction occurs in bank systems resulting in systemic \n",
    "risk. Many statistical methods have been introduced to handle systemic questions. Cox and \n",
    "Wang (2014) studied predictors of bank failures, including the proportion of illiquid loans \n",
    "and exposure to the interbank funding market, and identified the signs that can help man- \n",
    "agers forecast risk. The study of Laeven et  al. (2016) found that the growth of systemic risk \n",
    "is proportional to the size of the bank and inversely proportional to the bank’s capital. There- \n",
    "fore, they proposed that additional capital requirements do not contribute significantly to \n",
    "preventing systemic risks. Calmès and Théoret (2013) developed a new type of risk-weighted \n",
    "asset management index, which is more effective at capturing the level of systemic bank risk. \n",
    "Classic regression methods are also popular approaches to analyse systemic risk in finance. \n",
    "Balogh (2012) studied the factors affecting the ratio of bad assets and the capital adequacy \n",
    "ratio of the banking system in Europe through regression analysis, then analysed the main \n",
    "content of the macro-prudential regulatory framework and developed a set of monitoring \n",
    "and early warning indicators of systemic risks. Calabrese and Giudici (2015) applied a logistic \n",
    "regression method for binary data on the basis of both macroeconomic factors, which are \n",
    "relevant under the situation of actual defaults, and mergers and acquisitions. \n",
    "\n",
    "Macroeconomic methods, for example, the famous Dynamic Stochastic General Equilib- \n",
    "rium (DSGE) model, are also used to anayse the impact on the real economy with respect \n",
    "to financial risk. Brunnermeier and Sannikov (2014) built a DSGE to study growth rate and \n",
    "found it would be unstable due to the drastic fluctuation of capital price. Duca and Peltonen \n",
    "(2013) proposed a macro index combining M2, house prices and GDP for systemic risk. \n",
    "Huang, Zhou, and Zhu (2012) constructed a method of systemic risk measurement from a \n",
    "“historical correlation” and simulation viewpoint. Calmès and Théoret (2014) studied the \n",
    "effects of macroeconomic risks on systematic financial risks and identified the differences \n",
    "between banking risks in the downturn and up-cycles of economics. \n",
    "\n",
    "In addition, other econometrics and statistics methods also include forward-looking \n",
    "(Kritzman & Li, 2010; Segoviano & Goodhart, 2009), contingent claims analysis (Merton, \n",
    "1974; Jobst & Gray, 2013) and stress testing (Allen, Goldstein, Jagtiani, & Lang, 2016), credit \n",
    "risk distribution (Bernardi & Romagnoli, 2016), etc. \n",
    "\n",
    "Econometric methods used in existing literature are mainly based on univariate and mul- \n",
    "tivariate regressions. There are other methods, such as Li, Wang, and He (2013) that used a Support Vector Machine (SVM) to study the forecasting of systemic financial risks. The main \n",
    "panel data came from the banks in Europe, the United States, Canada, China, Croatia, and \n",
    "the Islamic National Bank, and the variables were balance sheet ratios like debt-to-income \n",
    "and loan-to-value. L. Zhang, Hu, and D. Zhang (2015) studied credit risk assessment models \n",
    "for small and medium enterprises in supply chain finance using SVM. Calabrese, Elkink, and \n",
    "Giudici (2017) employed a binary spatial autoregressive model to measure contagion effects \n",
    "during the European sovereign debt crisis. \n",
    "\n",
    "Although econometric methods employed to measure systemic risk have been around a \n",
    "long time the modern financial system has become more a complex correlation in banking. \n",
    "Therefore, econometric methods have become more difficult to study due to the complex \n",
    "network of banking. "
   ]
  },
  {
   "cell_type": "markdown",
   "id": "a6355ee8",
   "metadata": {},
   "source": [
    "## Financial market risk and stability analysis\n",
    "\n",
    "Studies in this area cover a number of different financial sectors such as securities, insurance, \n",
    "derivatives, and future markets. Research on microstructures is an important part of financial \n",
    "system risk including over-the-counter (OTC) derivatives market (Arora & Rathinam, 2011), \n",
    "invest fund risk (Bengtsson, 2014; Jin & Nadal De Simone, 2014), European securities mar- \n",
    "ket (Wymeersch, 2010), endogenous asset markets (Bluhm & Krahnen, 2014) and Market- \n",
    "oriented banking (Calmès and Théoret, 2013), Cross-market financial risk (Xiong et al., 2011) \n",
    "as well as the functional mechanism of the systemically important institutions (Walter, 2012). "
   ]
  },
  {
   "cell_type": "markdown",
   "id": "db1fc741",
   "metadata": {},
   "source": [
    "Some authors attempted to explore relations between different financial tools and systemic \n",
    "risk, such as credit derivative markets, hedge fund, capital network, Shadow Banking, and so \n",
    "on. Abedifar, Giudici, and Hashem (2017) found that the conventional banks with Islamic \n",
    "windows have the least resilient sector under systemic risk attack in dual banking systems. \n",
    "Calistru (2012) studied risk management measures for credit derivatives and suggested that \n",
    "the operational efficiency of credit derivative markets may prevent the occurrence of systemic \n",
    "risks. King and Maier (2009) studied the effect of hedge fund linkages on systemic financial \n",
    "risks. Liang (2016) studied the effects of Shadow Banking on China’s financial system. They \n",
    "believed that, on the one hand, shadow banking has promoted risk contagion to financial \n",
    "institutions through the financial network. On the other hand, they believed that the role of \n",
    "shadow banking in contributing to the real economy is weakening. The study of Gaffeo and \n",
    "Molinari (2016) showed that an important warning factor is the size of the inter-bank market \n",
    "and the level of bank capitalization. The large, tightly connected central market is beneficial \n",
    "for the capital network of the highly developed interbank market, but, for the primary capi- \n",
    "talized market, it can significantly weaken the system’s flexibility. "
   ]
  },
  {
   "cell_type": "markdown",
   "id": "e458555a",
   "metadata": {},
   "source": [
    "Recent representative studies also include: Bongini et  al. (2017) which addressed sys- \n",
    "temic risk in the insurance industry. The study suggested that investors are sceptical about \n",
    "whether the new regulatory framework can reduce systemic risks in the insurance industry \n",
    "and whether the “too big to fail” policy can control the spread of moral hazard. Kuzubas, \n",
    "Saltoglu, and Sever (2016) showed how different levels of leverage can drastically change \n",
    "the systemic effect of defaults and the nature of interbank market contagion. The study of \n",
    "Li, Liu, Siganos, and Zhou (2016) showed that proper regulation reduced the likelihood of \n",
    "equity price bubbles caused by increased issuance of bank equities. J. P. Li, Feng, Sun, and \n",
    "M. L. Li (2012) reviewed risk integration of the banking industry and proposed several topics \n",
    "for further research. Hamdi et  al. (2017) studied bank performance and risk under a new \n",
    "business model in Tunisian banks via non-interest income analysis."
   ]
  },
  {
   "cell_type": "code",
   "execution_count": null,
   "id": "09bb2f9b",
   "metadata": {},
   "outputs": [],
   "source": []
  }
 ],
 "metadata": {
  "kernelspec": {
   "display_name": "Python 3 (ipykernel)",
   "language": "python",
   "name": "python3"
  },
  "language_info": {
   "codemirror_mode": {
    "name": "ipython",
    "version": 3
   },
   "file_extension": ".py",
   "mimetype": "text/x-python",
   "name": "python",
   "nbconvert_exporter": "python",
   "pygments_lexer": "ipython3",
   "version": "3.9.16"
  },
  "toc": {
   "base_numbering": 1,
   "nav_menu": {},
   "number_sections": true,
   "sideBar": true,
   "skip_h1_title": false,
   "title_cell": "Table of Contents",
   "title_sidebar": "Contents",
   "toc_cell": false,
   "toc_position": {},
   "toc_section_display": true,
   "toc_window_display": false
  }
 },
 "nbformat": 4,
 "nbformat_minor": 5
}
