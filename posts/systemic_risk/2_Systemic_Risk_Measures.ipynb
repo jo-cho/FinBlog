{
 "cells": [
  {
   "cell_type": "raw",
   "id": "371a4c9a",
   "metadata": {},
   "source": [
    "---\n",
    "title: \"시스템 리스크 분석: (2) 시스템 리스크 측정 방법 - 선행연구 요약\"\n",
    "subtitle: \"Systemic Risk Measure - Literatures in tables\"\n",
    "author: \"Cheonghyo Cho\"\n",
    "categories: [systemic risk, measures]\n",
    "image: \"2_thumbnail.PNG\"\n",
    "---"
   ]
  },
  {
   "cell_type": "markdown",
   "id": "8b709353",
   "metadata": {},
   "source": [
    "시스템 리스크를 측정하는 기존의 방법에 대해 알아본다. 각 서베이 논문에서 정리한 표를 살펴보자."
   ]
  },
  {
   "cell_type": "markdown",
   "id": "58c76e0e",
   "metadata": {},
   "source": [
    "# 시스템 리스크 측정 요약"
   ]
  },
  {
   "cell_type": "markdown",
   "id": "2bba7f3a",
   "metadata": {},
   "source": [
    "## 서상원 (2018)의 서베이"
   ]
  },
  {
   "cell_type": "markdown",
   "id": "9f1f53aa",
   "metadata": {},
   "source": [
    "|카테고리|이름|내용|관련 논문|\n",
    "|:--|:--:|:--|:--|\n",
    "|거시경제|FCYCL(금융사이클)|금융부문의 불균형을 나타내는 집계변수를 고려|[Drehmann, Borio and Tsatsaronis(2012)](https://papers.ssrn.com/sol3/papers.cfm?abstract_id=2084835)|\n",
    "|거시경제|CCYCL(신용사이클)|GDP대비 신용 비율 중심 분석|[Juselius and  Drehmann(2015)](https://papers.ssrn.com/sol3/papers.cfm?abstract_id=2604099)|\n",
    "|거시경제|EWS-SE(조기경보모형-신호접근법)|여러 정보변수들을 비모수적 방법으로 활용하여 금융위기의 발생가능성을 예측|[Kaminsky, Lizondo and Reinhart(1998)](https://link.springer.com/article/10.2307/3867328)|\n",
    "|거시경제|EWS-LR(조기경보모형-로짓모형)|여러 거시 및 금융부문의 정보변수를 활용하여 미리 예측||\n",
    "|거시경제|EWS-Hybrid(조기경보모형-혼합모형)|여러 거시 및 금융부문의 정보변수를 활용하여 미리 예측|[Suh(2017)](https://www.sciencedirect.com/science/article/abs/pii/S1059056016303732)|\n",
    "|시장위험|TURB(시장혼란지수)|금융시장 에서의 자산가격형성이 통상적인 패턴에서 벗어나는지를 판단|[Kritzman & Li (2010)](https://doi.org/10.2469/faj.v66.n5.3)|\n",
    "|시장위험|CISS(Composite Indicator of Systemic Stress)|여러 금융시장에서 형성되는 중요한 정보변수들을 종합하여 현재의 전반적인 금융시장 상황이 극단적인 모습을 보이는지를 요약|[Hollo et al.(2012)](https://papers.ssrn.com/sol3/papers.cfm?abstract_id=2018792)|\n",
    "|시장위험|NOIS(시장 잡음)|금융시장에서 차익거래 기회가 얼마나 존재하는지를 개별 금융거래 자료를 이용하여 측정|[Hu, Pan, and Wang(2013)](https://onlinelibrary.wiley.com/doi/abs/10.1111/jofi.12083)|\n",
    "|시장위험|PCA-AR(absorbtion ratio)|금융자산 수익률간의 상관성 정도 측정|[Kritzman et al. (2010)](https://doi.org/10.2139/ssrn.1633027)|\n",
    "|금융기관 Distress|PCAS|금융자산 수익률간의 상관성 정도와 금융시스템에 대한 개별 금융기관의 기여도 측정|Billio et al.(2012)|\n",
    "|금융기관 Distress|CoVaR|금융시스템의 주가수익률이 일정 임계치 이상으로 크게 하락하는 것을 시스템리스크라고 하고 한 금융기관에서 심각한 금융위험 사건이 발생하였다는 조건의 부과가 시스템리스크 수준을 얼마나 증가시키는지를 측정|[Adrian & Brunnermeier (2008)](https://doi.org/10.2139/ssrn.1269446)|\n",
    "|금융기관 Distress|SES(Systemic expected shortfall)|시스템리스크가 발생한 경우 개별 금융기관의 적정 자본수준 대비 자본의 부족규모 예상 치|[Acharya et al. (2010)](https://doi.org/10.2139/ssrn.1573171)|\n",
    "|금융기관 Distress|CES(Component expected shortfall)|금융기관별 MES(시스템리스크가 발생하였을 때 특정 금융기관의 주가 수익률 하락폭의 기댓값)에 해당 금융기관의 비중을 곱한 값|Banulescu and Dumitrescu(2015)|\n",
    "|금융기관 Distress|SRISK|금융 시스템 위기가 발생한 경우에 개별 금융기관의 자본 부족규모 예상치를 측정 / 개별 금융기관 및 금융시스템의 주가 수익률이 GARCH-DCC 모형을 따른다고 가정|[Brownlees & Engle (2010)](https://doi.org/10.2139/ssrn.1611229)|\n",
    "|금융기관 Distress|Structural GARCH|통상적인 GARCH 모형을 수정한 Structural GARCH 모형을 제안하고 이를 SRISK 지표에 적용 - '레버리지' 효과를 반영|Engle and Siriwardane(2014)|\n",
    "|금융기관 Distress|JPod(Joint probability of default)*|금융시스템내의 모든 금융기관들에서 동시에 위험 사건이 발생할 확률|[Segoviano & Goodhart (2009)](http://doi.org/10.5089/9781451871517.001)|\n",
    "|금융기관 Distress|BSI(banking  stability  index)*|적어도 하나의 금융기관이 위험할 때 위험 금융기관 수의 기댓값|[Segoviano & Goodhart (2009)](http://doi.org/10.5089/9781451871517.001)|\n",
    "|금융기관 Distress|PAO(probability that at least one bank becomes distressed)*|특정 금융기관이 위험한 상황일 때 다른 금융기관 중 적어도 하나의 금융기관에서 위험 사건이 발생할 확률|[Segoviano & Goodhart (2009)](http://doi.org/10.5089/9781451871517.001)|\n",
    "|금융기관 Distress|DDM(distress dependence matrix)*|i번째 금융기관이 위험할 때 j번째 금융기관이 위험에 처할 조건부확률|[Segoviano & Goodhart (2009)](http://doi.org/10.5089/9781451871517.001)|\n",
    "|금융기관 부도위험|CDS**-DIP(Distress insurance premium)|금융시스템내에 개별 금융기관들이 발행한 CDS들의 (부채규모를 가중치로 하는) 가상적인 포트폴리오에 대해서 신용위험 사건 발생시 보호받기 위해서 지불하여야 하는 프리미엄|Huang  et al.(2009)|\n",
    "|금융기관 부도위험|CDS-CoRisk|CDS 스프레드에 대해 CoVaR와 유사한 개념을 적용|IMF(2009)|\n",
    "|금융기관 부도위험|Option-iPoD(Option-implied probability of default)|CIMDO 기법을 적용하여 개별 금융기관의 부도확률을 추정하는 방법을 제시|Capuano(2008)|\n",
    "|금융기관 부도위험|CCA*** 기반 시스템리스크|CCA 방법에 기반하여 금융기관의 부도확률에 대해 추정 - 전체 금융시스템 내에 금융기관중 부실금융기관의 비율이 일정 임계치 이상일 확률|Lehar(2005)|\n",
    "|금융기관 네트워크|NETW|금융기관들간의 직접적인 연계성이 존재하는 경우 네트워크 측정||\n",
    "|Agent-based|ABM|다수의 독립적인 이질적이고 경제주체들(agents)이 실제 상황에서 행하는 것과 유사하게 상호작용을 하고 새로운 환경에 적응(adapt)하면서 경제적 행동을 하도록 모형화하고 이러한 경제행위들의 상호작용의 결과를 분석|Thurner(2011), Bookstaber  et  al.(2014), Bookstaber  and  Paddrik(2015)|\n",
    "|스트레스 테스트|STEST|스트레스 시나리오를 구성하고, 스트레스 시나리오 하에서 금융기관이 어떤 영향을 받을지 추정하고, 그러한 금융부문의 영향으로 인해 거시경제가 어떤 영향을 받을지 추정하는 과정으로 이루어짐 - CCAR(Comprehensive Capital Analysis and Review), DFAST(Dodd-Frank Act Stress Testing)||\n",
    "|스트레스 테스트|R(reverse)-STEST|금융기관을 위험에 처하게 하는 시나리오가 어떤 것인지를 찾는 방법||"
   ]
  },
  {
   "cell_type": "markdown",
   "id": "377a9460",
   "metadata": {},
   "source": [
    "*개별 금융기관들의 위험 확률(PoD)들로부터 CIMDO(consistent multivariate density optimizing) 기법을 활용하여 개별 금융기관들간의 위험 사건에 대한 결합분포를 구하고 이를 이용한 금융안정 지수들 (Segoviano and Goodhart(2009))\n",
    "\n",
    "**CDS 스프레드는 해당 금융기관이 위험사건 발생시 금융손실의 위험을 보장받을 것을 대가로 '보장' 매입자가 일정기간마다 '보장' 매도자에게 지불하여야 하는 (원금 대비) 프리미엄 비율 / CDS 스프레드 시장 가격은 금융기관의 위험도에 대해 시장에서 평가하는 정보를 가지고 있으며, 이 CDS 스프레드를 통해 위험사건의 발생확률을 역산할 수 있음\n",
    "\n",
    "***CCA(contingent  claim  approach)는 만기 시점에서 기업의 (시장가치 기준) 자산이 부채를 하회하는 것을 기업의 부도사건으로 정의하면, 자본은 부채를 먼저 상환하고 남는 부분에 대한 청구권으로서 기초자산을 자산가치로 하고 행사가격을 부채가치로 하는 콜옵션과 동일하다는 Merton(1974)의 구조모형에 기반한 부도확률 측정법 (Merton(1974))"
   ]
  },
  {
   "cell_type": "markdown",
   "id": "8ade3146",
   "metadata": {},
   "source": [
    "각 측정 방법의 자세한 설명은 아래 글에 나와있다.\n",
    "\n",
    "**[시스템 리스크 분석: (2-1) 거시경제지표를 활용한 경제전체 위험도 측정 방법](https://jo-cho.github.io/FinBlog/posts/systemic_risk/2-1_Systemic_Risk_Measures_Macro.html)**\n",
    "\n",
    "**[시스템 리스크 분석: (2-2) 시장위험 측정 방법](https://jo-cho.github.io/FinBlog/posts/systemic_risk/2-2_Systemic_Risk_Measures_Market.html)**"
   ]
  },
  {
   "cell_type": "markdown",
   "id": "1f7213a1",
   "metadata": {},
   "source": [
    "## TommasoBelluzzo/SystemicRisk(Github Repo)의 서베이\n",
    "\n",
    "https://github.com/TommasoBelluzzo/SystemicRisk"
   ]
  },
  {
   "cell_type": "markdown",
   "id": "ba148aa8",
   "metadata": {},
   "source": [
    "|카테고리|이름|내용|관련 논문|\n",
    "|:--|:--:|:--|:--|\n",
    "|BUBBLES DETECTION|BUB (Bubbles Flag), BMPH (Boom Phases Flag), BRPH (Burst Phases Flag)||[Phillips et al. (2015)](https://doi.org/10.1111/iere.12132), [Phillips & Shi (2018)](https://doi.org/10.1016/bs.host.2018.12.002), [Phillips & Shi (2019)](https://doi.org/10.1111/obes.12307)|\n",
    "|BUBBLES DETECTION|BC (Bubbling Capitalization), BCP (Bubbling Capitalization Percentage)||[Brunnermeier et al. (2020)](https://doi.org/10.1093/rfs/hhaa011)|\n",
    "|COMPONENT MEASURES|AR (Absorption Ratio)|금융자산 수익률간의 상관성 정도 측정|[Kritzman et al. (2010)](https://doi.org/10.2139/ssrn.1633027)|\n",
    "|COMPONENT MEASURES|CATFIN||[Allen et al. (2012)](https://doi.org/10.1093/rfs/hhs094)|\n",
    "|COMPONENT MEASURES|CS (Correlation Surprise)||[Kinlaw & Turkington (2012)](https://doi.org/10.2139/ssrn.2133396)|\n",
    "|COMPONENT MEASURES|TI (Turbulence Index)|금융시장 에서의 자산가격형성이 통상적인 패턴에서 벗어나는지를 판단|[Kritzman & Li (2010)](https://doi.org/10.2469/faj.v66.n5.3)|\n",
    "|COMPONENT MEASURES|PCA|금융자산 수익률간의 상관성 정도와 금융시스템에 대한 개별 금융기관의 기여도 측정||\n",
    "|CONNECTEDNESS MEASURES|DCI (Dynamic Causality Index), CIO (\"In & Out\" Connections), CIOO (\"In & Out - Other\" Connections), Network Centralities||[Billio et al. (2011)](https://doi.org/10.2139/ssrn.1963216)|\n",
    "|CROSS-ENTROPY MEASURES|JPod(Joint probability of default)|금융시스템내의 모든 금융기관들에서 동시에 위험 사건이 발생할 확률|[Segoviano & Goodhart (2009)](http://doi.org/10.5089/9781451871517.001)|\n",
    "|CROSS-ENTROPY MEASURES|FSI (Financial Stability Index)|적어도 하나의 금융기관이 위험할 때 위험 금융기관 수의 기댓값|[Segoviano & Goodhart (2009)](http://doi.org/10.5089/9781451871517.001)|\n",
    "|CROSS-ENTROPY MEASURES|PCE(Probability of Cascade Effects)|특정 금융기관이 위험한 상황일 때 다른 금융기관 중 적어도 하나의 금융기관에서 위험 사건이 발생할 확률|[Segoviano & Goodhart (2009)](http://doi.org/10.5089/9781451871517.001)|\n",
    "|CROSS-ENTROPY MEASURES|DiDE(distress dependency)|i번째 금융기관이 위험할 때 j번째 금융기관이 위험에 처할 조건부확률|[Segoviano & Goodhart (2009)](http://doi.org/10.5089/9781451871517.001)|\n",
    "|CROSS-ENTROPY MEASURES|SI (Systemic Importance)|||\n",
    "|CROSS-ENTROPY MEASURES|SV (Systemic Vulnerability)|||\n",
    "|CROSS-ENTROPY MEASURES|CoJPoDs (Conditional Joint Probabilities of Default)|||\n",
    "|CROSS-QUANTILOGRAM MEASURES|Full Cross-Quantilograms, Partial Cross-Quantilograms||[Han et al. (2016)](https://doi.org/10.1016/j.jeconom.2016.03.001)|\n",
    "|CROSS-SECTIONAL MEASURES|Idiosyncratic Metrics: Beta, Value-at-Risk & Expected Shortfall|||\n",
    "|CROSS-SECTIONAL MEASURES|CAViaR (Conditional Autoregressive Value-at-Risk)||[White et al. (2015)](https://doi.org/10.1016/j.jeconom.2015.02.004)|\n",
    "|CROSS-SECTIONAL MEASURES|CoVaR & Delta CoVaR (Conditional Value-at-Risk)|금융시스템의 주가수익률이 일정 임계치 이상으로 크게 하락하는 것을 시스템리스크라고 하고 한 금융기관에서 심각한 금융위험 사건이 발생하였다는 조건의 부과가 시스템리스크 수준을 얼마나 증가시키는지를 측정|[Adrian & Brunnermeier (2008)](https://doi.org/10.2139/ssrn.1269446)|\n",
    "|CROSS-SECTIONAL MEASURES|MES (Marginal Expected Shortfall), SES (Systemic Expected Shortfall)|시스템리스크가 발생한 경우 개별 금융기관의 적정 자본수준 대비 자본의 부족규모 예상 치|[Acharya et al. (2010)](https://doi.org/10.2139/ssrn.1573171)|\n",
    "|CROSS-SECTIONAL MEASURES|SRISK (Conditional Capital Shortfall Index)|금융 시스템 위기가 발생한 경우에 개별 금융기관의 자본 부족규모 예상치를 측정 / 개별 금융기관 및 금융시스템의 주가 수익률이 GARCH-DCC 모형을 따른다고 가정|[Brownlees & Engle (2010)](https://doi.org/10.2139/ssrn.1611229)|\n",
    "|DEFAULT MEASURES|D2C (Distance To Capital)||[Chan-Lau & Sy (2007)](https://doi.org/10.1057/palgrave.jbr.2350056)|\n",
    "|DEFAULT MEASURES|D2D (Distance To Default)||[Vassalou & Xing (2004)](https://doi.org/10.1111/j.1540-6261.2004.00650.x)|\n",
    "|DEFAULT MEASURES|DIP (Distress Insurance Premium)||[Black et al. (2012)](https://doi.org/10.2139/ssrn.2181645)|\n",
    "|DEFAULT MEASURES|SCCA (Systemic Contingent Claims Analysis)||[Jobst & Gray (2013)](https://doi.org/10.5089/9781475572780.001)|\n",
    "|LIQUIDITY MEASURES|ILLIQ (Illiquidity Measure)||[Amihud (2002)](https://doi.org/10.1016/S1386-4181(01)00024-6)|\n",
    "|LIQUIDITY MEASURES|RIS (Roll Implicit Spread)||[Hasbrouck (2009)](https://doi.org/10.1111/j.1540-6261.2009.01469.x)|\n",
    "|LIQUIDITY MEASURES|Classic Indicators: Hui-Heubel Liquidity Ratio, Turnover Ratio & Variance Ratio||[Chan-Lau & Sy (2007)](https://doi.org/10.1057/palgrave.jbr.2350056)|\n",
    "|REGIME-SWITCHING MEASURES|2-States Model: High & Low Volatility||[Billio et al. (2010)](https://www.bis.org/bcbs/events/sfrworkshopprogramme/billio.pdf)|\n",
    "|REGIME-SWITCHING MEASURES|3-States Model: High, Medium & Low Volatility||[Billio et al. (2010)](https://www.bis.org/bcbs/events/sfrworkshopprogramme/billio.pdf)|\n",
    "|REGIME-SWITCHING MEASURES|4-States Model: High & Low Volatility With Corrections||[Billio et al. (2010)](https://www.bis.org/bcbs/events/sfrworkshopprogramme/billio.pdf)|\n",
    "|REGIME-SWITCHING MEASURES|AP (Average Probability of High Volatility)||[Abdymomunov (2011)](https://doi.org/10.2139/ssrn.1972255)|\n",
    "|REGIME-SWITCHING MEASURES|JP (Joint Probability of High Volatility)||[Abdymomunov (2011)](https://doi.org/10.2139/ssrn.1972255)|\n",
    "|SPILLOVER MEASURES|SI (Spillover Index), Spillovers From & To, Net Spillovers||[Diebold & Yilmaz (2008)](https://doi.org/10.1111/j.1468-0297.2008.02208.x), [Diebold & Yilmaz (2012)](https://doi.org/10.1016/j.ijforecast.2011.02.006), [Diebold & Yilmaz (2014)](https://doi.org/10.1016/j.jeconom.2014.04.012)|\n",
    "|TAIL DEPENDENCE MEASURES|ACHI (Average Chi)||[Balla et al. (2014)](https://doi.org/10.1016/j.jfs.2014.10.002)|\n",
    "|TAIL DEPENDENCE MEASURES|ADR (Asymptotic Dependence Rate)||[Balla et al. (2014)](https://doi.org/10.1016/j.jfs.2014.10.002)|\n",
    "|TAIL DEPENDENCE MEASURES|FRM (Financial Risk Meter)||[Mihoci et al. (2020)](https://doi.org/10.1108/S0731-905320200000042016)|"
   ]
  },
  {
   "cell_type": "code",
   "execution_count": null,
   "id": "1859284d",
   "metadata": {},
   "outputs": [],
   "source": []
  }
 ],
 "metadata": {
  "kernelspec": {
   "display_name": "Python 3 (ipykernel)",
   "language": "python",
   "name": "python3"
  },
  "language_info": {
   "codemirror_mode": {
    "name": "ipython",
    "version": 3
   },
   "file_extension": ".py",
   "mimetype": "text/x-python",
   "name": "python",
   "nbconvert_exporter": "python",
   "pygments_lexer": "ipython3",
   "version": "3.9.16"
  },
  "toc": {
   "base_numbering": 1,
   "nav_menu": {},
   "number_sections": true,
   "sideBar": true,
   "skip_h1_title": false,
   "title_cell": "Table of Contents",
   "title_sidebar": "Contents",
   "toc_cell": false,
   "toc_position": {},
   "toc_section_display": true,
   "toc_window_display": false
  }
 },
 "nbformat": 4,
 "nbformat_minor": 5
}
