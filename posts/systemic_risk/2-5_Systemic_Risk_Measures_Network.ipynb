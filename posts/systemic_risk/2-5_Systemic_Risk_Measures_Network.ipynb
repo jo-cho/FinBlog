{
 "cells": [
  {
   "cell_type": "raw",
   "id": "87a4f757",
   "metadata": {},
   "source": [
    "---\n",
    "title: \"시스템 리스크 분석: (2-5) 네트워크 측정방법\"\n",
    "subtitle: \"Systemic Risk Measure - Network Model\"\n",
    "author: \"Cheonghyo Cho\"\n",
    "categories: [systemic risk, financial institution, network]\n",
    "image: \"ye_douady_2018_fig1.jpg\"\n",
    "---"
   ]
  },
  {
   "cell_type": "markdown",
   "id": "bd47ede4",
   "metadata": {},
   "source": [
    "서상원 (2018)"
   ]
  },
  {
   "cell_type": "markdown",
   "id": "262f207c",
   "metadata": {},
   "source": [
    "금융기관들간의 직접적인 연계성이 존재하는 경우에 시스템리스크 측면에서 어떤 영향을 미치는지 효과적으로 분석한다.\n",
    "\n",
    "\n",
    "# 네트워크 측정방법\n",
    "\n",
    "서상원 (2018)\n",
    "\n",
    "Allen and Babus(2009)\n",
    "\n",
    "Summer(2013)\n",
    "\n",
    "Hueser(2015)\n",
    "\n",
    "Cabrales,  Gale,  and  Gottardi(2016)\n",
    "\n",
    "Glasserman  and  Young(2016) "
   ]
  },
  {
   "cell_type": "markdown",
   "id": "e7b3bff7",
   "metadata": {},
   "source": [
    "## 모형 설정"
   ]
  },
  {
   "cell_type": "markdown",
   "id": "4a05f588",
   "metadata": {},
   "source": [
    "- 금융시스템 내에 $n$개의 금융기관이 존재하고 금융기관들은 다른 금융기관 또는 민간들과 금융거래를 함\n",
    "\n",
    "- 금융기관 $i$를 중심으로 생각하면, \n",
    "    - 자산부문은 민간에 대한 자산 $c_i$와 다른 금융기관에 대한 자산 $\\sum_k \\bar{p}_{ki}$로 구성\n",
    "    - 부채는 민간에 대한 부채 $b_i$와 다른 금융기관에 대한 부채 $\\sum_j \\bar{p}_{ij}$로 구성\n",
    "    - 순자산 $w_i$는 자산과 부채의 차이에 해당\n",
    "    - 여기서 $\\bar{p}_{ij}$는 금융기관 $i$가 $j$에게 지불하여야 하는 명목 부채금액, $p_i$는 금융기관 $i$의 부채 총계\n",
    "    "
   ]
  },
  {
   "cell_type": "markdown",
   "id": "ee84f070",
   "metadata": {},
   "source": [
    "- 금융기관 $i$에 부정적인 충격이 발생하여 자산의 손실이 $x_i$만큼 발생했을 때,\n",
    "    - 순자산은 $w_i(x_i)=c_i-x_i+\\sum_{j\\neq i}\\bar{p}_{ij}-\\bar{p}_i$ 로 변동\n",
    "    - 순자산 규모가 음(-)이면 금융기관 $i$는 부도 상황\n",
    "\n",
    "- 부도상황에서는 명목 부채중 일부만 상환이 이루어지는데, 통상 기존 부채액에 따른 비율대로(pro rata) 부분상환이 이루어진다고 가정\n",
    "\n",
    "- 실제 지불되는 금액을 정산 벡터(clearing  payment  vector)라고 함, 하지만 여러 금융기관의 금융거래에 따른 지불 및 수취가 서로 연계되어 있어 정산 벡터를 체계적으로 정하기 어려움\n",
    "\n",
    "- Eisenberg and Noe(2001): 정산 벡터는 외부 충격의 발생으로 인해 금융기관이 도산한 직접적인 효과를 반영할 뿐만 아니라 그 이후에 다른 금융기관이 전염효과로 인해 도산하는 간접적인 효과들도 반영하여 정해짐"
   ]
  },
  {
   "cell_type": "markdown",
   "id": "f77bc4d7",
   "metadata": {},
   "source": [
    "## 여러 특징 부가"
   ]
  },
  {
   "cell_type": "markdown",
   "id": "0c33a023",
   "metadata": {},
   "source": [
    "- 금융기관이 부도 상황에 처하게 되면 그 금융기관과의 기존 금융거래에 대한 결제가 원활하게 이루어지지 못하게 되고 청산관련 비용들도 발생\n",
    "    - Rogers and Veraart(2013)은 회수함수(recovery function)를 도입하여 부도발생시 부도 금융기관이 보유한 자산가치가 하락하는 현상을 반영\n",
    "    \n",
    "- 주식은 최후순위의 청구권으로서 그 가치가 부도 발생 여부에 따라 차이가 생기는 비선형적인 특성을 보임\n",
    "    - Gourieroux  et  al.(2013)은 금융기관간 주식 교차보유(cross-holding)와 같은 청구권의 우선순위 문제를 모형에 반영\n",
    "    \n",
    "- 부도 위기에 몰린 금융기관은 결제자금용의 유동자산을 마련하기 위해 비유동자산을 시장에 급매(fire sales)하게 되고, 이로 인해 비유동자산의 가격이 하락하게 되는 손실을 그 비유동자산 또는 그와 유사한 비유동자산을 보유한 다른 금융기관들도 함께 보게 됨\n",
    "    - Cifuentes et al.(2005)는 이러한 자산 급매 경로를 모형에 반영\n",
    "    \n",
    "- 한 금융기관이 금융시장에서 신뢰성이 하락하게 되면 그 금융기관에 대해 청구권을 가지고 있는 상대 금융기관은 자신의 청구권 가치를 시장가격을 반영하여 조정\n",
    "    - 시가 평가(mark to market) 관행으로 인한 네트워크 효과 반영"
   ]
  },
  {
   "cell_type": "markdown",
   "id": "b2aa1248",
   "metadata": {},
   "source": [
    "## 시스템리스크 측정"
   ]
  },
  {
   "cell_type": "markdown",
   "id": "3ef00746",
   "metadata": {},
   "source": [
    "- 외부의  충격  발생으로  인한  시스템  손실(systemic loss in value)\n",
    "    - $L(x)=\\sum^{n}_{i=1}x_i+ \\sum^n_{i=1}(\\bar{p}-p_i(x))$\n",
    "    - 첫째항은 외부충격 $x=(x_1,\\dotsc, x_n)$의 직접적 효과를, 둘째 항은 그 간접적 효과를 나타냄\n",
    "\n",
    "- 금융기관 $i$의 $j$에 대한 취약도(vulnerability)\n",
    "    - $\\alpha_{ij}\\frac{(c_i-w_i)}{w_j} = \\alpha_{ij}(\\lambda_i-1)\\frac{w_i}{w_j}$\n",
    "    - $\\lambda_i \\equiv c_i / w_i$는 금융기관 $i$ 의 외부 레버리지\n",
    "    - $\\alpha_{ij} \\equiv \\bar{p}_{ij}/\\bar{p}_i$는 금융기관 $i$의 네트워크 부채중 $j$에 대한 상대부채비율\n",
    "    - 이 취약도 지표가 1보다 작을 때는 금융기관 $i$에 외부충격이 발생하여도 금융기관 $j$는 직접적인 효과를 견딜 수 있음"
   ]
  },
  {
   "cell_type": "markdown",
   "id": "a76b92f1",
   "metadata": {},
   "source": [
    "- 금융연계성(financial connectivity): 금융기관 $i$의 부채중에서 네트워크 부채의 비중\n",
    "    - $\\beta_i \\equiv (\\bar{p}_i-b_i)/\\bar{p}$\n",
    "- 전염지수(contagion index): 전염지수가 클수록 금융기관 $i$ 에서 발생 하는 외부 충격이 네크워크에 주는 영향이 큼\n",
    "    - $w_i\\beta_i(\\lambda_i-1)$"
   ]
  },
  {
   "cell_type": "markdown",
   "id": "fe1b1c48",
   "metadata": {},
   "source": [
    "## 네트워크 특성에 대한 요약 정보를 나타내는 지표"
   ]
  },
  {
   "cell_type": "markdown",
   "id": "bfecd80f",
   "metadata": {},
   "source": [
    "- 인접행렬(adjacency  matrix)\n",
    "    - 금융기관 $i$가 $j$에 채무가 있다면 이를 (N \\times N) 행렬 B의 (i,j)번째 원소에 1로 (즉, B_{ij}=1), 아니면 0으로 (B_{ij}=0) 표시하는 방식으로 연결관계를 나타내는 행렬\n",
    "\n",
    "\n",
    "- 수취관련도 & 지급관련도\n",
    "    - 수취관련도(in-degree)\n",
    "        - 한 금융기관이 몇 개의 금융기관으로부터 수취할 청구권을 보유하였는지를 나타냄\n",
    "    - 지급관련도(out-degree)\n",
    "        - 몇 개의 금융기관에 지급할 의무가 있는지를 나타냄    \n",
    "    - 실제 네트워크에서 수취 또는 지급 관련도는 전형적으로 파레토분포(Pareto distribution)의 꼬리와 같이 power law를 따른다고 알려짐. 이는 소수의 금융기관은 매우 높은 관련도를 보이는 반면, 대다수의 금융기관들은 낮은 관련도를 보인다는 것을 시사함\n",
    "    \n",
    "    \n",
    "- 시스템리스크 측면에서 네트워크 구조가 강하면 개별 금융기관의 위험을 분산시키는데 유리하다는 장점과 한 금융기관에 대한 충격이 다른 금융기관으로 전염되는 경로가 될 수 있다는 단점이 공존함\n",
    "\n",
    "- 이러한 장점과 단점 중 어느 효과가 더 큰지에 대해 실증적으로 분석하기 위하여 중심성 지표들을 산출하고 이를 이용하여 중심성이 강할수록 금융기관의 부도확률이 높아지는지를 경험적으로 분석\n",
    "\n",
    "- Nier  et al.(2007)은 네트워크 연계성(connectivity)이 강할수록 충격을 흡수하는 능력과 충격의 전염효과 중 어느 효과가 더 커지는지를 시뮬레이션 방법을 이용하여 분석, 네트워크 연계성이 낮은 수준에서는 연계성이 강해질수록 전염효과가 더 크게 나타났으나, 네트워크 연계성이 높은 수준에서는 연계성이 강해질수록 충격 흡수 효과가 더 크게 나타남"
   ]
  },
  {
   "cell_type": "markdown",
   "id": "2cc5a3e8",
   "metadata": {},
   "source": [
    "# 참고문헌\n",
    "\n",
    "- 서상원. (2018). 시스템리스크의 측정과 관리: 서베이와 제언. 금융안정연구, 19(1), 131-232.\n"
   ]
  }
 ],
 "metadata": {
  "kernelspec": {
   "display_name": "Python 3 (ipykernel)",
   "language": "python",
   "name": "python3"
  },
  "language_info": {
   "codemirror_mode": {
    "name": "ipython",
    "version": 3
   },
   "file_extension": ".py",
   "mimetype": "text/x-python",
   "name": "python",
   "nbconvert_exporter": "python",
   "pygments_lexer": "ipython3",
   "version": "3.11.4"
  },
  "toc": {
   "base_numbering": 1,
   "nav_menu": {},
   "number_sections": true,
   "sideBar": true,
   "skip_h1_title": false,
   "title_cell": "Table of Contents",
   "title_sidebar": "Contents",
   "toc_cell": false,
   "toc_position": {},
   "toc_section_display": true,
   "toc_window_display": false
  }
 },
 "nbformat": 4,
 "nbformat_minor": 5
}
