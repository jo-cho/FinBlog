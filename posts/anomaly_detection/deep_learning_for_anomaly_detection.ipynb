{
 "cells": [
  {
   "cell_type": "raw",
   "id": "f6a1d4af-d4ef-4f0c-b226-16132b4bbba9",
   "metadata": {},
   "source": [
    "---\n",
    "title: \"딥러닝을 이용한 이상 탐지\"\n",
    "subtitle: \"Deep learning for Anomaly Detection\"\n",
    "author: \"Cheonghyo Cho\"\n",
    "categories: [anomaly detection, deep learning]\n",
    "image: \"dl_anomdet.PNG\"\n",
    "---"
   ]
  },
  {
   "cell_type": "markdown",
   "id": "570fd054-2a03-4058-b7a5-a1462d5b0963",
   "metadata": {},
   "source": [
    "이상탐지(Anomaly Detection)는 데이터에서 정상적인 패턴과 크게 벗어난 비정상적인 패턴을 식별하는 과정이다.\n",
    "\n",
    "금융 사기 탐지, 네트워크 보안 침해 탐지, 의료 데이터 분석, 제조 공정에서의 결함 감지 등에 사용된다."
   ]
  },
  {
   "cell_type": "markdown",
   "id": "14bfe590-4a57-441c-ac71-ec15b103193d",
   "metadata": {},
   "source": [
    "## 이상(anomaly)의 종류"
   ]
  },
  {
   "cell_type": "markdown",
   "id": "48261ffd-7ef1-47a1-b7cc-d3bb79cfef9d",
   "metadata": {},
   "source": [
    "- Point Anomaly: 개별 데이터 포인트가 나머지 데이터와 크게 다른 경우\n",
    "- Contextual Anomaly: 특정 맥락에서만 비정상으로 간주되는 데이터 포인트. 여기서 맥락은 시간, 장소 등과 같은 추가 정보를 포함\n",
    "- Collective Anomaly: 개별적으로는 정상으로 보일 수 있지만, 집합적으로 볼 때 비정상인 데이터 포인트들의 그룹을 의미"
   ]
  },
  {
   "cell_type": "markdown",
   "id": "b9a9cac5-9b30-4ea7-9db9-59e9be261657",
   "metadata": {},
   "source": [
    "<img src='img/choi_fig1.PNG' width=800>"
   ]
  },
  {
   "cell_type": "markdown",
   "id": "01c2e803-9eed-4ae8-a842-824288b992e5",
   "metadata": {},
   "source": [
    "# 이상탐지의 기존 방법"
   ]
  },
  {
   "cell_type": "markdown",
   "id": "26433565-87d8-4d33-bee1-a29480d5db3b",
   "metadata": {},
   "source": [
    "## 이상탐지 방법의 종류"
   ]
  },
  {
   "cell_type": "markdown",
   "id": "cd466642-283d-494b-aaf8-40a67e4e9efc",
   "metadata": {},
   "source": [
    "### Time/Frequency Domain Analysis"
   ]
  },
  {
   "cell_type": "markdown",
   "id": "e5aa40ee-6feb-45c0-b4d4-edc90231fa95",
   "metadata": {},
   "source": [
    "Fourier 분석을 사용하여 시계열 데이터를 frequency 성분으로 변환함으로써 Discrete Fourier Transform(DFT) 및 Fast Fourier Transform(FFT) 기술을 통해 주기적인 동작을 식별할 수 있다. 이러한 방법은 frequency 스펙트럼을 분석하여 계절적 패턴을 식별하는 데 도움이 된다.\n",
    "\n",
    "<참고> [3.2. 이산 푸리에 변환 & 고속 푸리에 변환 (DFT & FFT)](https://jo-cho.github.io/MIRBlog/posts/3.%20Fourier%20Anaylsis%20of%20Signals/3.2.Discrete_Fourier_Transform.html)"
   ]
  },
  {
   "cell_type": "markdown",
   "id": "1c7c50e2-be83-4ca1-83b5-6ab466c119eb",
   "metadata": {},
   "source": [
    "### Statistical Model"
   ]
  },
  {
   "cell_type": "markdown",
   "id": "c6f9e461-8355-428f-8d3b-9863ff0c086a",
   "metadata": {},
   "source": [
    "통계 측정값(평균, 분산, 중앙값 등)을 활용하여 새로운 데이터 포인트를 검사하고 정규성을 결정하는 데 도움이 되는 모델을 생성한다."
   ]
  },
  {
   "cell_type": "markdown",
   "id": "e860466e-6109-42b9-9822-6fecdd51034d",
   "metadata": {},
   "source": [
    "### Distance-Based Model"
   ]
  },
  {
   "cell_type": "markdown",
   "id": "2268bdd8-bc47-431c-b808-ef52d3947391",
   "metadata": {},
   "source": [
    "유클리드 거리 및 DTW(Distance Time Warping, 동적 시간 워핑)와 같은 측정항목을 사용하여 시퀀스 간 유사성을 측정한다. 예를 들어, DTW는 시퀀스 간의 최적 정렬을 계산하여 위상(phase)이 다르더라도 유사성을 식별한다."
   ]
  },
  {
   "cell_type": "markdown",
   "id": "8fa6d4f5-4e33-48a6-bfd4-03a7786961fb",
   "metadata": {},
   "source": [
    "DTW는 국지적으로(locally) 위상이 다를 수 있는 두 시퀀스 간의 비선형 정렬을 허용하는 거리 측정 방법이다. 모양이 비슷하지만 시간적으로 잘못 정렬될 수 있는 시퀀스에 특히 유용하다."
   ]
  },
  {
   "cell_type": "markdown",
   "id": "089673f3-03a6-4181-99f6-6bb644ef930b",
   "metadata": {},
   "source": [
    "<참고> [4.2. 동적 시간 워핑 (DTW)](https://jo-cho.github.io/MIRBlog/posts/4.%20Music%20Synchronization/4.2.Dynamic_Time_Warping.html)"
   ]
  },
  {
   "cell_type": "markdown",
   "id": "5081fde6-8df5-45e9-962e-8773083cb7cb",
   "metadata": {},
   "source": [
    "### Predictive Model"
   ]
  },
  {
   "cell_type": "markdown",
   "id": "938e29cc-cdbd-4d8b-8d12-440344f18dcf",
   "metadata": {},
   "source": [
    "예측 모델은 과거 및 현재 데이터를 기반으로 미래 값을 예측하고 예측 값과 실제 관측 값을 비교하여 이상 현상을 감지한다. 이때, 불일치는 이상(anomaly)을 나타낸다. 가장 일반적으로 사용되는 모델은 ARIMA이다. 또한 다변량에 대해서는 VAR, ARIMAX 등을 사용한다."
   ]
  },
  {
   "cell_type": "markdown",
   "id": "71d741d5-aea1-4ef1-a437-5064eca7d101",
   "metadata": {},
   "source": [
    "<참고> [시계열 - 선형 모형](https://jo-cho.github.io/FinBlog/posts/statistics/time_series/ts_02_arima.html)"
   ]
  },
  {
   "cell_type": "markdown",
   "id": "42e1b234-3970-4776-be53-981a6e86624a",
   "metadata": {},
   "source": [
    "### Clustering Model\n",
    "\n",
    "클러스터링 모델은 유사성을 기준으로 시계열 데이터를 클러스터로 그룹화하여 어떤 클러스터에도 잘 맞지 않는 데이터 포인트로 이상 현상을 식별한다."
   ]
  },
  {
   "cell_type": "markdown",
   "id": "29a22378-4667-4557-bd7f-ef7ff285517a",
   "metadata": {},
   "source": [
    "클러스터링 알고리즘으로는 k-Means, OCSVM, GMM(Gaussian Mixture Model), DBSCAN 등이 있다. Large-scale data에 대해서는 SCAN(Structural Clustering Algorithm for Networks), MapReduce 등을 사용한다."
   ]
  },
  {
   "cell_type": "markdown",
   "id": "fe78a0e5-1ae5-4f24-8a8c-616d1100e626",
   "metadata": {},
   "source": [
    "## 기존 방식의 한계점"
   ]
  },
  {
   "cell_type": "markdown",
   "id": "4c266435-b392-4f31-aae7-49c7ec34b476",
   "metadata": {},
   "source": [
    "### 레이블 부족\n",
    "\n",
    "레이블이 지정된 훈련 데이터가 부족하고 수집 비용이 많이 들 수 있다. 정상 데이터와 비정상 데이터 사이의 불균형은 효과적인 모델 훈련을 방해한다."
   ]
  },
  {
   "cell_type": "markdown",
   "id": "8bf07252-6766-421d-90aa-aa0b7b4562c5",
   "metadata": {},
   "source": [
    "### 데이터의 복잡성\n",
    "\n",
    "시스템이 더욱 복잡해짐에 따라 개별 단변량 시계열 데이터를 모니터링하는 것은 비현실적이다. 고차원 데이터는 '차원의 저주'로 인해 성능 저하를 유발한다. 단명확하지 않은 단변량 분석에서의 변수 간 상관관계는 이상 징후를 탐지하는 데 치명적이다."
   ]
  },
  {
   "cell_type": "markdown",
   "id": "1e009247-5e11-4afc-b187-cd5b9e47e1ba",
   "metadata": {},
   "source": [
    "# 이상탐지의 딥러닝 방법"
   ]
  },
  {
   "cell_type": "markdown",
   "id": "128ce406-bc4c-42e8-b72d-545d402086f1",
   "metadata": {},
   "source": [
    "준지도(semi-supervised)/비지도(unsupervised) 학습: 모든 데이터는 준지도의 경우 normal class로 간주된다. 비지도에서는 정상 클래스와 비정상 클래스 사이가 명시적으로 구분되지 않는다. 두 전략 모두 레이블이 지정된 데이터의 부족을 극복하기 위해 데이터 구조를 학습한다."
   ]
  },
  {
   "attachments": {},
   "cell_type": "markdown",
   "id": "5f267311-f1b7-4425-9bfa-796dfc0446db",
   "metadata": {},
   "source": [
    "<img src='img/choi_fig5.PNG' width=800>"
   ]
  },
  {
   "cell_type": "markdown",
   "id": "e40e5d99-16c2-47a8-aa5a-2426f7094284",
   "metadata": {},
   "source": [
    "## 변수 간 상관관계 (inter-correlation)"
   ]
  },
  {
   "cell_type": "markdown",
   "id": "d12ffd27-6c25-4a76-8ec1-68bb90009216",
   "metadata": {},
   "source": [
    "다변량 시계열 데이터에 대한 대부분의 딥러닝 모델은 모든 타임스텝에서 여러 변수 간의 관계를 설정한다. 이러한 시공간 정보는 시간적 맥락뿐만 아니라 변수 간의 상관관계도 고려한다."
   ]
  },
  {
   "cell_type": "markdown",
   "id": "a3ca791c-cc16-4e16-8142-7c18461bc0ba",
   "metadata": {},
   "source": [
    "<img src='img/choi_t2.PNG' width=800>"
   ]
  },
  {
   "cell_type": "markdown",
   "id": "336c6dd1-dcb0-4e17-a79e-6c14476d0eba",
   "metadata": {},
   "source": [
    "### 차원 축소"
   ]
  },
  {
   "cell_type": "markdown",
   "id": "f96cc719-10a3-4141-abb4-b64af766ad7e",
   "metadata": {},
   "source": [
    "대규모(large-scale) 시스템 상태는 몇 가지 중요한 요소를 사용하여 표현될 수 있으며, 계산 복잡성을 감소시킬 수 있다. PCA(주성분 분석) 및 SVD(특이값 분해)와 같은 기술이나 AE(자동 인코더, Auto-encoder) 및 VAE(변형 자동 인코더, Variational AE)와 같은 신경망 기반 방법이 일반적으로 사용된다. 그러나 차원 축소로 인해 이상 현상의 원인을 탐지하기는 어려울 수 있다."
   ]
  },
  {
   "cell_type": "markdown",
   "id": "04d88483-bcec-456e-a85e-bb252decac55",
   "metadata": {},
   "source": [
    "### 2D 행렬\n",
    "\n",
    "2D 행렬은 다변량 변수를 함께 고려하여 변수 간의 형태학적 유사성과 상대적 규모를 포착한다. 이 방법은 특정 점의 turbulence에 강력하며 데이터의 위상 변화 또는 개념 변화로 인한 이상 현상을 감지할 수 있다.\n"
   ]
  },
  {
   "cell_type": "markdown",
   "id": "20c45c74-7881-48c8-b765-d34ca65a86c8",
   "metadata": {},
   "source": [
    "### 그래프 기반\n",
    "\n",
    "그래프 기반 접근 방식은 명시적인 위상(topological) 구조를 정의하고 변수 간의 인과 관계를 학습한다. 어텐션 메커니즘을 갖춘 그래프 신경망(GNN)과 같은 기술은 근본 원인을 식별하는 성능을 향상시키는 데 사용된다. 방향 그래프 $G=(V,E)$는 노드 $V$와 엣지 $E$로 구성되며, 여기서 attention 레이어는 관계를 기반으로 각 노드에 대한 특징 표현을 출력한다."
   ]
  },
  {
   "cell_type": "markdown",
   "id": "1719a35f-e55c-4910-8fc6-2c9b47e29813",
   "metadata": {},
   "source": [
    "<참고> [그래프 머신러닝: (5-3) GNN: 다양한 그래프](https://jo-cho.github.io/FinBlog/posts/machine_learning/GRL_05_3.html)"
   ]
  },
  {
   "cell_type": "markdown",
   "id": "b6039fb9-2efc-4beb-afae-c71cedea1c4b",
   "metadata": {},
   "source": [
    "## 시간적 맥락 모델링 (temporal context)"
   ]
  },
  {
   "cell_type": "markdown",
   "id": "dec248a5-0f73-4069-994a-087f6cb9be5a",
   "metadata": {},
   "source": [
    "시퀀스에는 움직임에 대한 많은 지식이 포함되어 있으며 향후 변화를 암시할 수 있다. 따라서 분포만을 추정하는 것만으로는 맥락 및 집합적 이상을 탐지하는 데 한계가 있다. 시계열에서는 정상 상태를 모델링할 때 시간적 맥락(temporal context)을 고려해야 한다."
   ]
  },
  {
   "cell_type": "markdown",
   "id": "176f293c-cf8c-4075-9cbf-36eb24fe624b",
   "metadata": {},
   "source": [
    "<img src='img/choi_t3.PNG' width=800>"
   ]
  },
  {
   "cell_type": "markdown",
   "id": "a0b84312-2b6f-467e-bfd9-06c9f683e13e",
   "metadata": {},
   "source": [
    "### RNN(Recurrent Neural Networks)\n",
    "\n",
    "RNN은 시계열 데이터의 시간적 종속성을 포착하는 데 널리 사용된다. 패턴 시퀀스를 기반으로 예상 값을 예측하고 예측 값과 실제 값을 비교하여 이상을 감지한다. LSTM 및 GRU와 같은 변형은 그래디언트 소실 문제를 해결하고 어떤 과거 상태를 유지하거나 삭제할지 결정하는 메커니즘을 통해 장기적인 종속성을 학습한다.\r\n"
   ]
  },
  {
   "cell_type": "markdown",
   "id": "8e574d83-7bcb-415e-9eda-b6997e731053",
   "metadata": {},
   "source": [
    "### CNN(Convolutional Neural Networks)\n",
    "\n",
    "CNN은 일반적으로 이미지 데이터에 사용되지만 분할된 데이터에서 패턴을 학습하여 단기 시계열 데이터를 분석하는 데 효율성을 보여왔다. TCN(Temporal Convolutional Networks)은 확장된 컨볼루션 및 인과 구조를 통해 시계열 데이터의 장기적인 종속성을 포착하도록 설계된 CNN의 변형으로, 미래에서 과거로 정보가 유출되지 않도록 보장한다.\n"
   ]
  },
  {
   "cell_type": "markdown",
   "id": "e4b4a138-9f3d-4d3c-96c7-702351763b52",
   "metadata": {},
   "source": [
    "### Hybrid Model\n",
    "\n",
    "Convolutional LSTM을 사용하여 시퀀스 내의 시공간 정보를 캡처하는 등 시공간 데이터를 처리하기 위해 다양한 기술을 결합한다. 이러한 모델은 향상된 이상 탐지를 위해 공간적 및 시간적 종속성을 모두 활용한다."
   ]
  },
  {
   "cell_type": "markdown",
   "id": "98db5212-3134-402d-9936-15c95f7e522b",
   "metadata": {},
   "source": [
    "### Attention Mechanisms"
   ]
  },
  {
   "cell_type": "markdown",
   "id": "6da7cb6b-ab00-46b2-8545-75f47d39ec3e",
   "metadata": {},
   "source": [
    "처음에 NLP에서 널리 사용되었던 어텐션 메커니즘은 다양한 입력 가중치에 중요도를 할당하여 장거리 종속성을 캡처하기 위해 시계열 데이터에 맞게 조정되었다. Transformer와 같은 모델은 각 데이터 포인트에 대한 상대적 중요성을 지닌 장거리 종속성을 캡처할 수 있으므로 이상 탐지 능력이 향상된다.​​"
   ]
  },
  {
   "cell_type": "markdown",
   "id": "99747c7c-d584-4c6a-bfaf-76adf4b380ea",
   "metadata": {},
   "source": [
    "### Hierarchical Temporal Memory (HTM)"
   ]
  },
  {
   "cell_type": "markdown",
   "id": "e7df34e3-5775-4ddf-9f2d-7a4331024288",
   "metadata": {},
   "source": [
    "HTM은 신피질(neocortex)의 구조와 기능을 모방하여 역전파 없이 비지도 방식으로 스트리밍 데이터로부터 패턴을 지속적으로 학습한다. 실시간 이상징후 탐지에 적합하다.​​\n"
   ]
  },
  {
   "cell_type": "markdown",
   "id": "378c76b6-4d99-4c2f-b51c-ac1ce01a8a8d",
   "metadata": {},
   "source": [
    "## 이상 탐지 기준 (criteria)"
   ]
  },
  {
   "cell_type": "markdown",
   "id": "593040eb-19c4-4024-9124-0d0621db8d7b",
   "metadata": {},
   "source": [
    "위에서 다룬 모델은 정의된 목적(손실) 함수를 최소화하여 비지도 또는 반지도 방식으로 주어진 데이터의 표현을 학습한다. 목표값은 모델 아키텍처에 따라 다르며 일반적으로 이상치 여부에 대한 결정 기준(decision criteria)과 관련된다."
   ]
  },
  {
   "cell_type": "markdown",
   "id": "4dfe2984-789d-403d-abbb-fb7e74bfee45",
   "metadata": {},
   "source": [
    "일반적으로 진단 결과는 수치로 표현되며 이 지표를 anomaly score라고 부른다. 클수록 상태가 abnormal할 가능성이 높아진다. 구체적으로, 점수가 특정 임계값을 초과하면 해당 데이터 포인트를 이상으로 판단한다. 과거에는 분야 전문가가 이 임계값을 경험적으로 결정했지만 이제는 모델 훈련 결과에 따라 결정된다. 일부 모델은 시간 경과에 따른 데이터 변화에 따라 지속적으로 조정되는 적응형 임계값을 사용한다. \n",
    "\n",
    "이상치 점수를 도출하는 방식은 **재구성 오류, 예측 오류, 비유사성**의 세 가지 유형으로 분류할 수 있다."
   ]
  },
  {
   "cell_type": "markdown",
   "id": "d49b3b7b-4471-4271-90fb-13deefd9ecd7",
   "metadata": {},
   "source": [
    "<img src='img/choi_fig8.PNG' width=800>"
   ]
  },
  {
   "cell_type": "markdown",
   "id": "4387db13-fe82-4bb5-98ba-3975828404a2",
   "metadata": {},
   "source": [
    "## 재구성 오류(Reconstruction error)"
   ]
  },
  {
   "cell_type": "markdown",
   "id": "eaccbe56-3344-4de6-a074-c6cd79d0cc3a",
   "metadata": {},
   "source": [
    "Autoencoders (AE), Variational Autoencoders (VAE), Generative Adversarial Networks (GAN), and Transformers는 anomaly score로 재구성 오류를 사용한다. \n",
    "\n",
    "- AE 기반 모델은 인풋 데이터의 피쳐를 추출하여 재구성한다. \n",
    "\n",
    "- VAE 기반 모델은 데이터 분포를 추정하고 그로부터 인풋 데이터와 비슷한 샘플을 생성한다. \n",
    "\n",
    "- GAN 기반 모델은 생성기를 사용하여 인풋 데이터와 유사한 샘플을 명시적으로 생성한다.\n",
    "\n",
    "- 최근에는 어텐션 메커니즘으로 구성된 transformer 모델은 예측 오류와 재구성 오류를 모두 사용하는 등 쓰이고 있다.\n",
    "\n",
    "이러한 모델들은 인풋 데이터와 비슷한 데이터를 재구성하거나 생성하고, 생성된 데이터와 인풋데이터 간의 잔차를 측정하는 방식으로 anomaly를 측정한다."
   ]
  },
  {
   "cell_type": "markdown",
   "id": "8e13d214-7862-4ad6-a039-3c4b703ed316",
   "metadata": {},
   "source": [
    "## 예측 오류(Prediction error)"
   ]
  },
  {
   "cell_type": "markdown",
   "id": "2b15c4d4-a8b7-4638-a482-a5a1b2827c98",
   "metadata": {},
   "source": [
    "예측 모델에서 anomaly score를 도출하는 방법은 두 가지가 있다. \n",
    "\n",
    "- 하나는 데이터 포인트가 정상으로 분류될 확률에 기반하여 이진(binary) 레이블을 적용하는 방법이다. 예측 오류는 예상된 레이블이 실제 값과 일치하는지 여부를 나타낸다. \n",
    "\n",
    "- 다른 방법은 다음 타임스텝에 대한 예상 값을 예측하는 것이다. 이 경우 예측 오류는 예상 값과 실제 관측 값 간의 잔차이다."
   ]
  },
  {
   "cell_type": "markdown",
   "id": "7c5a7c09-3c54-4385-abb4-d18da96fcb50",
   "metadata": {},
   "source": [
    "## 비유사도(Dissimilarity)\n",
    "\n",
    "비유사도는 축적된 데이터의 분포나 클러스터로부터 특정 값이 얼마나 떨어져 있는지를 측정하여 이상을 감지하는 방법이다. 이러한 유사성 측정 방법에는 유클리드 거리, 민코스키 거리, 코사인 유사도, 마할라노비스 거리 등 다양한 거리 측정법이 사용된다.\n",
    "\n",
    "- Temporal Hierarchical One-Class (THOC) Network에서는 dilated RNN을 이용해 시계열 피쳐를 추출하고, 이를 deep support vector data description과 같은 방법을 통해 클러스터링한다. 피쳐와 클러스터 간 거리를 측정하기 위해 cosine similarity를 사용한다.\n",
    "\n",
    "- TCN-Gaussian Mixture Model (TCN-GMM)은 TCN(temporal convolutional network)를 이용해 피쳐를 추출하고, GMM을 이용해 분포를 모델링한다. 이는 mahalanobis 거리를 사용한다.\n",
    "\n",
    "-  Multi-Stage TCN은 예측 오류의 분포를 다변량 Gaussian 분포로 추정하고, 현재 예측 오류와 사전 추정된 오류 분포 간의 Mahalanobis distance를 사용하여 anomaly score를 결정한다."
   ]
  },
  {
   "cell_type": "markdown",
   "id": "ba28aebf-7961-4d4b-8096-e7f7faadb72f",
   "metadata": {},
   "source": [
    "# 참고자료\n",
    "\n",
    "- Choi, Kukjin, et al. \"Deep learning for anomaly detection in time-series data: Review, analysis, and guidelines.\" IEEE access 9 (2021): 120043-120065."
   ]
  }
 ],
 "metadata": {
  "kernelspec": {
   "display_name": "Python 3",
   "language": "python",
   "name": "python3"
  },
  "language_info": {
   "codemirror_mode": {
    "name": "ipython",
    "version": 3
   },
   "file_extension": ".py",
   "mimetype": "text/x-python",
   "name": "python",
   "nbconvert_exporter": "python",
   "pygments_lexer": "ipython3",
   "version": "3.8.0"
  }
 },
 "nbformat": 4,
 "nbformat_minor": 5
}
