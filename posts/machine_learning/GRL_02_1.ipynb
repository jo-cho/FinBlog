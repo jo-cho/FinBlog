{
 "cells": [
  {
   "cell_type": "raw",
   "id": "661b88bb",
   "metadata": {},
   "source": [
    "---\n",
    "title: \"그래프 머신러닝: (2-1) 그래프 통계와 커널 방법\"\n",
    "subtitle: \"(GRL) Background and Traditional Approaches: Graph Statistics and Kernel Methods\"\n",
    "author: \"Cheonghyo Cho\"\n",
    "categories: [graph, network, graph statistics]\n",
    "image: \"grl_02_1.png\"\n",
    "---"
   ]
  },
  {
   "cell_type": "markdown",
   "id": "91a8307a",
   "metadata": {},
   "source": [
    "Hamilton,W.L. *Graph Representation Learning*. 2020"
   ]
  },
  {
   "cell_type": "code",
   "execution_count": null,
   "id": "5f364c1c",
   "metadata": {},
   "outputs": [],
   "source": []
  }
 ],
 "metadata": {
  "kernelspec": {
   "display_name": "Python 3 (ipykernel)",
   "language": "python",
   "name": "python3"
  },
  "language_info": {
   "codemirror_mode": {
    "name": "ipython",
    "version": 3
   },
   "file_extension": ".py",
   "mimetype": "text/x-python",
   "name": "python",
   "nbconvert_exporter": "python",
   "pygments_lexer": "ipython3",
   "version": "3.11.4"
  }
 },
 "nbformat": 4,
 "nbformat_minor": 5
}
