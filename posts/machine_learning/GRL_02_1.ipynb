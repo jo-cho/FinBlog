{
 "cells": [
  {
   "cell_type": "raw",
   "id": "f28461fd",
   "metadata": {},
   "source": [
    "---\n",
    "title: \"그래프 머신러닝: (2-1) 그래프 통계량과 커널 방법\"\n",
    "subtitle: \"(GRL) Background and Traditional Approaches: Graph Statistics and Kernel Methods\"\n",
    "author: \"Cheonghyo Cho\"\n",
    "categories: [graph, network, machine learning]\n",
    "image: \"grl_02_1.PNG\"\n",
    "---"
   ]
  },
  {
   "cell_type": "markdown",
   "id": "94c9204a",
   "metadata": {},
   "source": [
    "Hamilton,W.L. *Graph Representation Learning*. 2020"
   ]
  },
  {
   "cell_type": "markdown",
   "id": "0d1770f0",
   "metadata": {},
   "source": [
    "# 그래프 통계량과 커널 방법\n",
    "\n",
    "**Graph Statistics and Kernel Methods**"
   ]
  },
  {
   "cell_type": "markdown",
   "id": "84142166",
   "metadata": {},
   "source": [
    "딥러닝과 관련된 그래프(GNN 등)를 알아보기 전에 전통적인 방식의 그래프 통계량을 알아보자.\n",
    "\n",
    "그래프 데이터를 사용하는 전통적인 분류는 딥러닝 등장 이전의 머신러닝 패러다임을 따른다. 몇 가지 통계량 또는 특징을 추출한 다음, 머신러닝 분류기(예: 로지스틱 회귀)의 입력으로 사용한다. \n",
    "\n",
    "이 섹션에서는 먼저 중요한 **노드 레벨의 피쳐와 통계량**을 소개한 다음, 이러한 노드 수준 통계량이 **그래프 레벨 통계량으로 일반화**되고 그래프 상에서의 **커널 방법**을 설계하는 방법에 대해 논의한다.\n",
    "\n",
    "*그래프 커널(Graph Kernel)은 두 개의 그래프 간의 유사성을 계산하기 위한 도구*"
   ]
  },
  {
   "cell_type": "markdown",
   "id": "db0c854e",
   "metadata": {},
   "source": [
    "## Node-level 통계량과 피쳐(features)"
   ]
  },
  {
   "cell_type": "code",
   "execution_count": 43,
   "id": "ab7626e7-3c08-4782-ad26-3ff3f875dec2",
   "metadata": {},
   "outputs": [],
   "source": [
    "import networkx as nx\n",
    "import matplotlib.pyplot as plt\n",
    "\n",
    "# Barabási-Albert 그래프 생성\n",
    "n = 8  # 노드 개수\n",
    "m = 2    # 새로운 노드에 연결되는 엣지 수\n",
    "G = nx.barabasi_albert_graph(n, m)"
   ]
  },
  {
   "cell_type": "code",
   "execution_count": 44,
   "id": "5e667128-5c6f-4c98-898a-f51ded2a6806",
   "metadata": {},
   "outputs": [
    {
     "data": {
      "image/png": "[encoded data removed]",
      "text/plain": [
       "<Figure size 432x288 with 1 Axes>"
      ]
     },
     "metadata": {},
     "output_type": "display_data"
    }
   ],
   "source": [
    "# 시각화\n",
    "pos = nx.spring_layout(G)  # 그래프 레이아웃 정의\n",
    "\n",
    "# 노드 및 엣지 그리기\n",
    "nx.draw(G, pos, with_labels=True, node_size=700, node_color=\"skyblue\", font_size=12, font_weight=\"bold\")\n",
    "plt.title(\"Sample Graph\")\n",
    "plt.show()"
   ]
  },
  {
   "cell_type": "markdown",
   "id": "c955436d",
   "metadata": {},
   "source": [
    "### Node degree\n",
    "\n",
    "한 노드에 연결된 엣지 수\n",
    "\n",
    "$$d_u = \\sum_{v \\in V}A[u,v] \\quad \\text{for } u \\in \\mathcal{V}$$\n",
    "\n",
    "- node degree는 전통적 기계학습 모델에서 가장 유익한 정보 중 하나이다. \n",
    "- 하지만, 한 노드와 연결된 다른 노드들의 중요성은 노드의 degree에 반영되지 않는다. 즉, 두 노드가 같은 degree를 갖더라도 이웃의 중요도에 따라 중요도가 다를 수 있다."
   ]
  },
  {
   "cell_type": "code",
   "execution_count": 45,
   "id": "970b5a9f-6056-4f0e-9f84-c9fb02e8f604",
   "metadata": {},
   "outputs": [
    {
     "name": "stdout",
     "output_type": "stream",
     "text": [
      "Node degree:\n",
      "{0: 5, 1: 1, 2: 5, 3: 2, 4: 5, 5: 2, 6: 2, 7: 2}\n"
     ]
    }
   ],
   "source": [
    "# Node degree 구하기\n",
    "degree = dict(G.degree())\n",
    "print(\"Node degree:\")\n",
    "print(degree)"
   ]
  },
  {
   "cell_type": "markdown",
   "id": "ca596168",
   "metadata": {},
   "source": [
    "### Node centrality"
   ]
  },
  {
   "cell_type": "markdown",
   "id": "023adccf",
   "metadata": {},
   "source": [
    "위세 중심성 (eigenvector centrality)\n",
    "\n",
    "- node degree와 달리, **노드의 이웃들의 중요도**까지 고려하는 방법이다.\n",
    "\n",
    "$$e_u = \\frac{1}{\\lambda}\\sum_{v \\in V}A[u,v] e_v, \\quad \\forall u \\in \\mathcal{V}$$\n",
    "\n",
    "- 식처럼 recursive한 성질을 가진다. \n",
    "- 단, 위의 식을 다시 쓰면 벡터 $\\mathbf{e}$에 대해 $\\lambda \\mathbf{e} = A \\mathbf{e}$와 같다. 즉, centrality는 인접행렬의 eigenvector이다. 양의 centrality 값을 가정하면, Perron-Frobenius Theorem을 적용하여 $\\mathbf{e}$를 구할 수 있다."
   ]
  },
  {
   "cell_type": "markdown",
   "id": "e8c886a2",
   "metadata": {},
   "source": [
    "- 또한, eigenvector centrality느 그래프에서 무한 랜덤워킹할 때 해당 노드에 도착할 확률이라고도 볼 수 있다.\n",
    "    - $\\mathbf{e}^{(t+1)} = A \\mathbf{e}^{(t)}$ : power iteration"
   ]
  },
  {
   "cell_type": "markdown",
   "id": "db9c94fd",
   "metadata": {},
   "source": [
    "매개 중심성 (betweenness centrality): 한 노드가 다른 두 노드 사이의 최단 경로에 있을 빈도\n",
    "\n",
    "근접 중심성 (closeness centrality): 한 노드와 다른 모든 노드 사이 최단거리들의 평균\n",
    "\n",
    "차수 중심성(degree centrality): 해당 노드의 직접적인 연결 수를 기준으로 측정"
   ]
  },
  {
   "cell_type": "code",
   "execution_count": 46,
   "id": "147ec0fb-7e72-4f45-a461-7a40122bdc53",
   "metadata": {},
   "outputs": [
    {
     "name": "stdout",
     "output_type": "stream",
     "text": [
      "Degree centrality:\n",
      "{0: 0.7142857142857142, 1: 0.14285714285714285, 2: 0.7142857142857142, 3: 0.2857142857142857, 4: 0.7142857142857142, 5: 0.2857142857142857, 6: 0.2857142857142857, 7: 0.2857142857142857}\n",
      "\n",
      "Betweenness centrality:\n",
      "{0: 0.38095238095238093, 1: 0.0, 2: 0.23809523809523808, 3: 0.0, 4: 0.23809523809523808, 5: 0.0, 6: 0.0, 7: 0.0}\n",
      "\n",
      "Closeness centrality:\n",
      "{0: 0.7777777777777778, 1: 0.4666666666666667, 2: 0.7777777777777778, 3: 0.5833333333333334, 4: 0.7777777777777778, 5: 0.5384615384615384, 6: 0.5833333333333334, 7: 0.5384615384615384}\n",
      "\n",
      "Eigenvector centrality:\n",
      "{0: 0.45764291396672224, 1: 0.12765413188341646, 2: 0.4916986269732836, 3: 0.2648068579411542, 4: 0.4916986269732836, 5: 0.27430545232366466, 6: 0.2648068579411542, 7: 0.27430545232366466}\n"
     ]
    }
   ],
   "source": [
    "# Degree centrality 구하기\n",
    "degree_centrality = nx.degree_centrality(G)\n",
    "print(\"Degree centrality:\")\n",
    "print(degree_centrality)\n",
    "\n",
    "# Betweenness centrality 구하기\n",
    "betweenness_centrality = nx.betweenness_centrality(G)\n",
    "print(\"\\nBetweenness centrality:\")\n",
    "print(betweenness_centrality)\n",
    "\n",
    "# Closeness centrality 구하기\n",
    "closeness_centrality = nx.closeness_centrality(G)\n",
    "print(\"\\nCloseness centrality:\")\n",
    "print(closeness_centrality)\n",
    "\n",
    "# Eigenvector centrality 구하기\n",
    "eigenvector_centrality = nx.eigenvector_centrality(G)\n",
    "print(\"\\nEigenvector centrality:\")\n",
    "print(eigenvector_centrality)"
   ]
  },
  {
   "cell_type": "markdown",
   "id": "6636f0f7",
   "metadata": {},
   "source": [
    "### Clustering Coefficient"
   ]
  },
  {
   "cell_type": "markdown",
   "id": "0349ec46",
   "metadata": {},
   "source": [
    "한 노드의 로컬(local) 이웃에서의 closed triangle의 비율\n",
    "\n",
    "- clustering coefficient의 변형 중 'local' variant를 보자.\n",
    "$$c_u = \\frac{|(v_1,v_2) \\in \\mathcal{E}: v_1, v_2 \\in \\mathcal{N}(u)|}{\\binom{d_u}{2}}$$\n",
    "    - 분자는 노드 $u$의 이웃 간 엣지 수이고, 분모는 $u$의 이웃에 있는 노드 쌍의 수이다."
   ]
  },
  {
   "cell_type": "markdown",
   "id": "02b589e1",
   "metadata": {},
   "source": [
    "- 노드의 이웃이 얼마나 tight하게 클러스터되어 있는지를 측정한다.\n",
    "- clustering coefficient가 1이면, $u$의 모든 이웃은 서로의 이웃이기도 하게 된다."
   ]
  },
  {
   "cell_type": "code",
   "execution_count": 47,
   "id": "f14a5ca5-009b-4807-9019-c809d3ee9696",
   "metadata": {},
   "outputs": [
    {
     "name": "stdout",
     "output_type": "stream",
     "text": [
      "\n",
      "Clustering coefficient:\n",
      "{0: 0.3, 1: 0, 2: 0.4, 3: 1.0, 4: 0.4, 5: 1.0, 6: 1.0, 7: 1.0}\n"
     ]
    }
   ],
   "source": [
    "# Clustering coefficient 구하기\n",
    "clustering_coefficient = nx.clustering(G)\n",
    "print(\"\\nClustering coefficient:\")\n",
    "print(clustering_coefficient)"
   ]
  },
  {
   "cell_type": "markdown",
   "id": "12c2dd75",
   "metadata": {},
   "source": [
    "### Closed Triangles, Ego Graphs, and Motif"
   ]
  },
  {
   "cell_type": "markdown",
   "id": "a18c40ad",
   "metadata": {},
   "source": [
    "- clustering coefficient는 노드의 로컬 이웃 사이에 있는 **closed triangle**의 수라고 볼 수도 있다.\n",
    "\n",
    "- clustering coefficient는 실제 triangle의 수와 노드의 '**ego graph**'의 총 가능 triangle 수의 비이기도 하다. \n",
    "     - ego graph: 노드, 이웃, 이웃 간 모든 엣지를 포함하는 subgraph\n",
    "\n",
    "- 노드의 ego graph 내 임의의 motif나 graphlet을 세는 개념으로 일반화될 수 있다. 즉, 단순히 triangle을 세는 것보다는 특정 길이의 순환과 같은 복잡한 구조를 고려할 수 있고, 이러한 서로 다른 motif가 ego graph에서 얼마나 자주 발생하는지 세는 것으로 노드를 특성화할 수 있다. \n",
    "\n",
    "- motif: 네트워크에서 특정한 패턴을 가진 서브그래프를 찾아내는 것\n",
    "  \n",
    "- 이러한 방식으로 노드의 ego graph를 조사하여 노드 레벨의 통계량을 계산하는 작업을 그래프 레벨로 근본적으로 변환할 수 있다."
   ]
  },
  {
   "cell_type": "code",
   "execution_count": 54,
   "id": "ab9bc17c-8f2e-49c7-8cdd-02b64d44ce96",
   "metadata": {},
   "outputs": [
    {
     "name": "stdout",
     "output_type": "stream",
     "text": [
      "Closed Triangles: dict_values([3, 0, 4, 1, 4, 1, 1, 1])\n"
     ]
    }
   ],
   "source": [
    "closed_triangles = nx.triangles(G).values()\n",
    "print(\"Closed Triangles:\", closed_triangles)"
   ]
  },
  {
   "cell_type": "code",
   "execution_count": 55,
   "id": "b67d9d1f-dc7d-441d-976e-fd8ca19add9e",
   "metadata": {},
   "outputs": [
    {
     "data": {
      "image/png": "[encoded data removed]",
      "text/plain": [
       "<Figure size 432x288 with 1 Axes>"
      ]
     },
     "metadata": {},
     "output_type": "display_data"
    }
   ],
   "source": [
    "node=0\n",
    "ego_graph = nx.ego_graph(G, n=node, radius=1)\n",
    "pos = nx.spring_layout(ego_graph)  # 그래프 레이아웃 정의\n",
    "nx.draw(ego_graph, pos, with_labels=True, node_size=200, node_color=\"skyblue\", edge_color=\"gray\", alpha=0.7, font_size=8)\n",
    "plt.title(\"Ego Graph with Center Node \" + str(node))\n",
    "plt.show()"
   ]
  },
  {
   "cell_type": "markdown",
   "id": "a786b785",
   "metadata": {},
   "source": [
    "## Graph-level 피쳐와 그래프 커널"
   ]
  },
  {
   "cell_type": "markdown",
   "id": "d753d303",
   "metadata": {},
   "source": [
    "### Bag of Nodes\n",
    "- 단순히 **node-level의 통계량을 집계**하여 graph-level 피쳐로 만든다. \n",
    "- 하지만, 로컬(local) node-level의 정보만에 기반하기 때문에 글로벌(global)한 속성을 놓칠 수 있다."
   ]
  },
  {
   "cell_type": "markdown",
   "id": "dbfc5145",
   "metadata": {},
   "source": [
    "### The Weisfieler-Lehman Kernel"
   ]
  },
  {
   "cell_type": "markdown",
   "id": "afad4b3c",
   "metadata": {},
   "source": [
    "- node-level 피처를 더 풍성하게 만들고나서 집계하는 방법 중 하나이다.\n",
    "\n",
    "- WL 알고리즘은 다음과 같다.\n",
    "    - 1. 각 노드에 초기 레이블 값을 준다. 보통 degree로 한다.: $l^{(0)}(v) = d_v$\n",
    "    - 2. 노드의 이웃에서 현재 레이블의 multi-set을 hashing하여 새로운 레이블을 할당하며, 이를 반복(iteration)한다.: $$l^{(i)}(v) = \\text{HASH}(\\{ \\{ l^{(i-1)}(v) \\quad \\forall u \\in \\mathcal{N}(v) \\} \\} )$$\n",
    "        - {{ }}는 mult-set을 뜻한다. multi-set은 원소의 중복을 허용\n",
    "        - HASH  함수는 multi-set으로 표현될 뻔한 레이블에 겹치지 않는 인덱스 (숫자)를 부여해주는 역할\n",
    "     - 3. 이를 $K$번 반복하면 각 노드마다 $l^{(K)}(v)$가 생기며, 이는 $K$-hop 이웃의 구조를 요약한다고 볼 수 있다. 다시 말해, WL kernel은 두 그래프의 결과 레이블 집합 간의 차이를 측정하는 것이다.\n",
    "    \n",
    "- 이러한 WL kernel은 그래프 동형(isomorphism)을 확인하는 데 쓰인다: 두 그래프가 $K$번 WL알고리즘 반복 뒤 생기는 레이블 집합이 같은지를 확인한다."
   ]
  },
  {
   "cell_type": "markdown",
   "id": "2c883f29",
   "metadata": {},
   "source": [
    "### Graphlets, Path-Based Methods"
   ]
  },
  {
   "cell_type": "markdown",
   "id": "c175c3a4",
   "metadata": {},
   "source": [
    "**graphlets**"
   ]
  },
  {
   "cell_type": "markdown",
   "id": "2daba6e1",
   "metadata": {},
   "source": [
    "<img src=\"img/fig2_2.png\" width='500'>\n",
    "\n",
    "> Figure 2.2 in Hamilton,*Graph Representation Learning*. 2020: 크기가 3인 graphlet들"
   ]
  },
  {
   "cell_type": "markdown",
   "id": "bdd64c80",
   "metadata": {},
   "source": [
    "- graphlets: 서로 다른 작은 subgraph 구조\n",
    "- graphlet kernel은 전체 그래프에서 특정한 크기의 graphlets가 얼마나 나타나는지 세는 방식이다. 하지만 모든 graphlet을 세는 것은 번거로운 일이다.\n",
    "\n",
    "**path-based 방법**\n",
    "\n",
    "- graphlet을 세는 방법 대신 그래프에서 서로 다른 경로(path)의 종류가 얼마나 있는지를 본다.\n",
    "- 예를 들어 그래프에서 랜덤워크를 가정할때 발생하는 서로 다른 degree 시퀀스를 카운팅하는 random walk kernel(Kashima et al.(2003)), 또는 가장 짧은 경로만을 카운팅하는 shortest-path kernel(Borgwardt and Kriegel (2005)) 등이 있다."
   ]
  },
  {
   "cell_type": "markdown",
   "id": "32087cf8",
   "metadata": {},
   "source": [
    "# 참고자료\n",
    "\n",
    "- Hamilton, W. L. (2020). *Graph Representation Learning.* Morgan & Claypool Publishers.\n",
    "\n",
    "- NetworkX\n",
    "- ChatGPT\n"
   ]
  }
 ],
 "metadata": {
  "kernelspec": {
   "display_name": "Python 3",
   "language": "python",
   "name": "python3"
  },
  "language_info": {
   "codemirror_mode": {
    "name": "ipython",
    "version": 3
   },
   "file_extension": ".py",
   "mimetype": "text/x-python",
   "name": "python",
   "nbconvert_exporter": "python",
   "pygments_lexer": "ipython3",
   "version": "3.8.0"
  }
 },
 "nbformat": 4,
 "nbformat_minor": 5
}
