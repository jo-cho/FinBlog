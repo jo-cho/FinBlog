{
 "cells": [
  {
   "cell_type": "raw",
   "id": "f28461fd",
   "metadata": {},
   "source": [
    "---\n",
    "title: \"그래프 머신러닝: (2-1) 그래프 통계량과 커널 방법\"\n",
    "subtitle: \"(GRL) Background and Traditional Approaches: Graph Statistics and Kernel Methods\"\n",
    "author: \"Cheonghyo Cho\"\n",
    "categories: [graph, network, graph statistics]\n",
    "image: \"grl_02_1.PNG\"\n",
    "---"
   ]
  },
  {
   "cell_type": "markdown",
   "id": "94c9204a",
   "metadata": {},
   "source": [
    "Hamilton,W.L. *Graph Representation Learning*. 2020"
   ]
  },
  {
   "cell_type": "markdown",
   "id": "0d1770f0",
   "metadata": {},
   "source": [
    "# 그래프 통계량과 커널 방법"
   ]
  },
  {
   "cell_type": "markdown",
   "id": "84142166",
   "metadata": {},
   "source": [
    "그래프 데이터를 사용한 전통적인 분류 접근법은 딥러닝 등장 이전의 기계 학습 패러다임을 따른다. 몇 가지 통계량 또는 특징을 추출한 다음, 기계 학습 분류기(예: 로지스틱 회귀)의 입력으로 사용한다. \n",
    "\n",
    "이 섹션에서는 먼저 중요한 노드 수준의 특징과 통계량을 소개한 다음, 이러한 노드 수준 통계량이 그래프 수준 통계량으로 일반화되고 그래프 상에서의 커널 방법을 설계하는 방법에 대해 논의한다."
   ]
  },
  {
   "cell_type": "markdown",
   "id": "db0c854e",
   "metadata": {},
   "source": [
    "## Node-level 통계량과 특징"
   ]
  },
  {
   "cell_type": "markdown",
   "id": "c955436d",
   "metadata": {},
   "source": [
    "### Node degree\n",
    "\n",
    "**한 노드에 연결된 엣지 수**\n",
    "\n",
    "$d_u = \\sum_{v \\in V}A[u,v]$ for $u \\in \\mathcal{V}$\n",
    "\n",
    "- node degree는 고려해야 할 필수적 요소이며 전통적 기계학습 모델에서 가장 유익한 정보 중 하나이다. \n",
    "- 하지만, 연결된 노드들의 중요성 등은 degree에 반영되지 않는다. 같은 degree더라도 이웃에 따라 중요도가 다를 수 있다."
   ]
  },
  {
   "cell_type": "markdown",
   "id": "ca596168",
   "metadata": {},
   "source": [
    "### Node centrality"
   ]
  },
  {
   "cell_type": "markdown",
   "id": "e8c886a2",
   "metadata": {},
   "source": []
  }
 ],
 "metadata": {
  "kernelspec": {
   "display_name": "Python 3 (ipykernel)",
   "language": "python",
   "name": "python3"
  },
  "language_info": {
   "codemirror_mode": {
    "name": "ipython",
    "version": 3
   },
   "file_extension": ".py",
   "mimetype": "text/x-python",
   "name": "python",
   "nbconvert_exporter": "python",
   "pygments_lexer": "ipython3",
   "version": "3.11.4"
  }
 },
 "nbformat": 4,
 "nbformat_minor": 5
}
