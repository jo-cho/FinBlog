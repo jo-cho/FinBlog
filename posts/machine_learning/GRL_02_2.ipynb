{
 "cells": [
  {
   "cell_type": "raw",
   "id": "f28461fd",
   "metadata": {},
   "source": [
    "---\n",
    "title: \"그래프 머신러닝: (2-2) 이웃 중복 감지\"\n",
    "subtitle: \"(GRL) Background and Traditional Approaches: Neighborhood Overlap Detection\"\n",
    "author: \"Cheonghyo Cho\"\n",
    "categories: [graph, network, machine learning]\n",
    "image: \"grl_02_2.PNG\"\n",
    "---"
   ]
  },
  {
   "cell_type": "markdown",
   "id": "94c9204a",
   "metadata": {},
   "source": [
    "Hamilton,W.L. *Graph Representation Learning*. 2020"
   ]
  },
  {
   "cell_type": "markdown",
   "id": "0d1770f0",
   "metadata": {},
   "source": [
    "# 이웃 중복 감지\n",
    "\n",
    "**Neighborhood Overlap Detection**"
   ]
  },
  {
   "cell_type": "markdown",
   "id": "63ffa178",
   "metadata": {},
   "source": [
    "[전 포스트]()에서 소개한 방법은 분류 작업에 유용한 피쳐들이기는 하지만, 노드 간의 관계(*relationships*)를 정량화하지는 못한다. 따라서 관계예측(relation prediction)에 유용하지 못하다."
   ]
  },
  {
   "cell_type": "markdown",
   "id": "484d2e42",
   "metadata": {},
   "source": [
    "<img src=\"img/fig2_3.png\" width='500'>"
   ]
  },
  {
   "cell_type": "markdown",
   "id": "84142166",
   "metadata": {},
   "source": [
    "이 포스트에서는 노"
   ]
  },
  {
   "cell_type": "markdown",
   "id": "db0c854e",
   "metadata": {},
   "source": [
    "## Local Overlap Measures"
   ]
  },
  {
   "cell_type": "markdown",
   "id": "fa5bdf52",
   "metadata": {},
   "source": [
    "## Global Overlap Measures"
   ]
  },
  {
   "cell_type": "markdown",
   "id": "d5d8c25f",
   "metadata": {},
   "source": [
    "# 참고자료\n",
    "\n",
    "[1] Hamilton, W. L. (2020). *Graph Representation Learning.* Morgan & Claypool Publishers."
   ]
  }
 ],
 "metadata": {
  "kernelspec": {
   "display_name": "Python 3 (ipykernel)",
   "language": "python",
   "name": "python3"
  },
  "language_info": {
   "codemirror_mode": {
    "name": "ipython",
    "version": 3
   },
   "file_extension": ".py",
   "mimetype": "text/x-python",
   "name": "python",
   "nbconvert_exporter": "python",
   "pygments_lexer": "ipython3",
   "version": "3.11.4"
  }
 },
 "nbformat": 4,
 "nbformat_minor": 5
}
