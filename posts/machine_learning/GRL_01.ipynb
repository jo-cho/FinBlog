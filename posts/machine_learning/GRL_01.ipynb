{
 "cells": [
  {
   "cell_type": "raw",
   "id": "ab7da5b9",
   "metadata": {},
   "source": [
    "---\n",
    "title: \"그래프 머신러닝: (1) 들어가며\"\n",
    "subtitle: \"Graph Representation Learning: Introduction\"\n",
    "author: \"Cheonghyo Cho\"\n",
    "categories: [graph, network, machine learning]\n",
    "image: \"grl_01.png\"\n",
    "---"
   ]
  },
  {
   "cell_type": "markdown",
   "id": "1919d1ba",
   "metadata": {},
   "source": [
    "Hamilton,W.L. *Graph Representation Learning*. 2020"
   ]
  },
  {
   "cell_type": "markdown",
   "id": "e91a6c44",
   "metadata": {},
   "source": [
    "> 그래프의 머신러닝 방법에 대해 공부해보고자 한다. Hamilton,W.L.의 책 *Graph Representation Learning*. 2020을 바탕으로 내용을 정리하였다. 그래프(혹은 네트워크) 이론이나 그래프를 이용한 머신러닝 기법에 관심이 있는 (나를 포함한) 사람들에게 조금의 도움이 되기를 바란다."
   ]
  },
  {
   "cell_type": "markdown",
   "id": "a1613e73-dd6f-4c9a-88f6-86879b11c1ba",
   "metadata": {},
   "source": [
    "**그래프**(**graph**)는 복잡한 시스템을 나타내는 보편적인 수단이다. \n",
    "\n",
    "- 그래프는 **노드**(node)와 그들 사이의 **엣지**(edge)로 이루어져 있다. 예를 들어, 소셜 네트워크는 개인을 나타내는 노드와 친구 관계를 나타내는 엣지로 표현될 수 있다. "
   ]
  },
  {
   "cell_type": "markdown",
   "id": "1763f0d8",
   "metadata": {},
   "source": [
    "## 그래프란?"
   ]
  },
  {
   "cell_type": "markdown",
   "id": "1dcc1b83",
   "metadata": {},
   "source": [
    "**그래프: $\\mathcal{G} = (\\mathcal{V},\\mathcal{E})$**\n",
    "\n",
    "- 그래프는 노드 집합 $V$와 엣지 집합 $\\mathcal{E}$로 정의된다. 노드 $u \\in \\mathcal{V}$에서 노드 $v \\in \\mathcal{V}$로 가는 엣지를 $(u,v) \\in \\mathcal{E}$로 나타낸다."
   ]
  },
  {
   "cell_type": "markdown",
   "id": "08696559",
   "metadata": {},
   "source": [
    "*단순그래프(simple graph*): 두 노드 간 최대 하나의 엣지를 가지고, 노드 스스로 연결하는 엣지가 없으며, 방향이 없는(undirected) 그래프"
   ]
  },
  {
   "cell_type": "markdown",
   "id": "0dc3e092",
   "metadata": {},
   "source": [
    "인접행렬(adjacency matrix): $A \\in \\mathbb{R}^{|\\mathcal{V}| \\times |\\mathcal{V}|}$\n",
    "\n",
    " - $A[u,v] = \\begin{cases}\n",
    "    1  & \\quad \\text{if } (u,v) \\in \\mathcal{E} \\\\\n",
    "    0  & \\quad \\text{otherwise}\n",
    "  \\end{cases}$\n",
    "  \n",
    " - 만약, 그래프가 방향이 없는 엣지로 이루어져 있다면 $A$는 symmetric matrix가 된다.\n",
    " \n",
    " - *weighted* 엣지를 가지는 경우 $0, 1$이 아닌 실수 원소를 가지는 인접행렬이 된다."
   ]
  },
  {
   "cell_type": "markdown",
   "id": "38327d85",
   "metadata": {},
   "source": [
    "### Multi-relational 그래프\n",
    "\n",
    "$(u,\\tau,v) \\in \\mathcal{E}$\n",
    "\n",
    "- 두 종류 이상의 관계에 대한 연결성을 나타낼 수 있는 그래프\n",
    "\n",
    "- 관계 $\\tau \\in R$가 있으며, 각 종류의 관계 $\\tau$마다 인접행렬 $A_\\tau$가 있다.\n",
    "\n",
    "- 이때 인접행렬은 다음과 같은 3차원이다: $A \\in \\mathbb{R}^{|\\mathcal{V}| \\times |\\mathcal{R}| \\times |\\mathcal{V}|}$\n",
    "\n",
    "- multi-relational 그래프에는 *heterogeneous*와 *multiplex* 그래프가 있다."
   ]
  },
  {
   "cell_type": "markdown",
   "id": "cc16b978",
   "metadata": {},
   "source": [
    "#### Heterogeneous 그래프:\n",
    "\n",
    "- $\\mathcal{V}=\\mathcal{V_1} \\cup \\mathcal{V_2} \\cup \\cdots \\cup \\mathcal{V_3}$ where $\\mathcal{V_i} \\cap \\mathcal{V_j} = \\emptyset$ for all $i \\neq j$\n",
    "- 즉, disjoint한 노드 부분집합으로 구성된 노드 집합 \n",
    "    - 예시: 노드(약 노드집합, 질병 노드집합), 엣지(약-약:다약부작용, 약-질병:치료)\n",
    "    \n",
    "- 관계 $\\tau_i$는 두 노드 부분집합 사이 연결: $(u,\\tau_i, v) \\in \\mathcal{E} \\rightarrow u \\in V_j, v \\in V_k$\n",
    "- 이 때 $j \\neq k$이면 *multipartite* 그래프라고 한다. (즉, 다른 부분집합 간의 엣지만 존재)"
   ]
  },
  {
   "cell_type": "markdown",
   "id": "28bc08ba",
   "metadata": {},
   "source": [
    "#### Multiplex 그래프\n",
    "\n",
    "- $k$개의 층(layers)의 집합으로 이루어진 그래프\n",
    "- intra-layer 엣지와 inter-layer 엣지가 있다."
   ]
  },
  {
   "cell_type": "markdown",
   "id": "3639c4c3",
   "metadata": {},
   "source": [
    "<img src=\"img/multiplex_graph.png\" width='500'>\n",
    "\n",
    "> Figure 1 in Hammoud & Kramer (2020) Node-colored Graphs"
   ]
  },
  {
   "cell_type": "markdown",
   "id": "730db006",
   "metadata": {},
   "source": [
    "### Feature information\n",
    "\n",
    "- 노드의 특징(feature or attribute) (예: 소셜 네트워크에서 한 사람(노드)의 프로필 사진 등 특징) 정보\n",
    "- feature는 실수 행렬로 나타냄: $X \\in \\mathbb{R}^{|V| \\times m}$\n",
    "- heterogeneous 그래프에서 각 노드는 고유의 특징을 가진다."
   ]
  },
  {
   "cell_type": "markdown",
   "id": "0790a1e5",
   "metadata": {},
   "source": [
    "## 머신러닝과 그래프"
   ]
  },
  {
   "cell_type": "markdown",
   "id": "e3d336fa",
   "metadata": {},
   "source": [
    "### 노드 분류(node classification)\n",
    "\n",
    "- 레이블된 노드를 학습하여, 레이블되지 않은 노드를 분류\n",
    "- 기존의 i.i.d.(independent and identically distributed)를 가정하는 지도학습 모형과 달리 **i.i.d.를 가정하지 않는다**. 대신, 노드 간 연결 집합을 모델링 한다.\n",
    "\n",
    "- homophily: 그래프의 이웃 노드 간에 유사한 feature를 공유한다는 개념\n",
    "- structural equivalence: 유사한 이웃 구조를 가진 노드가 유사한 레이블을 가진다는 개념\n",
    "- heterophily: 한 노드가 다른 레이블의 노드와 우선적으로 연결될 것을 가정\n",
    "\n",
    "### 관계 예측(relation prediction)\n",
    "\n",
    "- 주어진 노드 집합과 부분적인 엣지 집합을 활용하여 누락된 엣지를 예측하는 작업\n",
    "- 작업의 복잡성은 그래프 유형에 따라 다르며, 단순한 그래프에서는 이웃을 공유하는 노드 쌍을 기반으로 하는 간단한 방법으로 성능을 높일 수 있지만, 복잡한 다중 관계 그래프에서는 복잡한 추론이 필요하다.\n",
    "- 관계 예측은 지도 및 비지도 학습 개념을 혼합하며 그래프 도메인에 특화된 inductive bias가 필요하다.\n",
    "- 또한 단일 그래프 내에서 예측하는 경우와 여러 겹치지 않는 그래프 간 예측을 하는 경우 등 다양한 변형이 있다."
   ]
  },
  {
   "cell_type": "markdown",
   "id": "2fda35d1",
   "metadata": {},
   "source": [
    "### 커뮤니티 감지(community detection)\n",
    "\n",
    "- 위의 노드 분류와 관계 예측은 지도학습에 대응되는 작업이었다면, community detection은 비지도학습/클러스터링에 대응된다.\n",
    "- community detection은 주어진 $\\mathcal{G}=(\\mathcal{V},\\mathcal{E})$로 잠재적인 커뮤니티 구조를 추론한다."
   ]
  },
  {
   "cell_type": "markdown",
   "id": "339d6f2f",
   "metadata": {},
   "source": [
    "### 그래프 분류, 회귀, 클러스터링 (graph classification, regression, clustering)\n",
    "\n",
    "- 그래프 하나하나를 대상으로 분류하거나, 그래프 특성을 예측하거나, 클러스터링한다.\n",
    "- 여러 그래프로 구성된 데이터를 가지고 특정 그래프에 대해 작업한다."
   ]
  },
  {
   "cell_type": "markdown",
   "id": "e7caf38c",
   "metadata": {},
   "source": [
    "# 참고자료\n",
    "\n",
    "[1] Hamilton, W. L. (2020). *Graph Representation Learning.* Morgan & Claypool Publishers.\n",
    "\n",
    "[2] Hammoud, Z., & Kramer, F. (2020). Multilayer networks: aspects, implementations, and application in biomedicine. Big Data Analytics, 5(1), 2.\n"
   ]
  }
 ],
 "metadata": {
  "kernelspec": {
   "display_name": "Python 3",
   "language": "python",
   "name": "python3"
  },
  "language_info": {
   "codemirror_mode": {
    "name": "ipython",
    "version": 3
   },
   "file_extension": ".py",
   "mimetype": "text/x-python",
   "name": "python",
   "nbconvert_exporter": "python",
   "pygments_lexer": "ipython3",
   "version": "3.8.0"
  }
 },
 "nbformat": 4,
 "nbformat_minor": 5
}
