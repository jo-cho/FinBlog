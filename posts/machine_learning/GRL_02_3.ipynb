{
 "cells": [
  {
   "cell_type": "raw",
   "id": "f28461fd",
   "metadata": {},
   "source": [
    "---\n",
    "title: \"그래프 머신러닝: (2-3) 그래프 라플라시안과 스펙트럴 방법\"\n",
    "subtitle: \"(GRL) Background and Traditional Approaches: Graph Laplacians and Spectral Methods\"\n",
    "author: \"Cheonghyo Cho\"\n",
    "categories: [graph, network, machine learning, spectral]\n",
    "image: \"grl_02_3.PNG\"\n",
    "---"
   ]
  },
  {
   "cell_type": "markdown",
   "id": "94c9204a",
   "metadata": {},
   "source": [
    "Hamilton,W.L. *Graph Representation Learning*. 2020"
   ]
  },
  {
   "cell_type": "markdown",
   "id": "0d1770f0",
   "metadata": {},
   "source": [
    "# 그래프 라플라시안과 스펙트럼 방법\n",
    "\n",
    "**Graph Laplacians and Spectral Methods**"
   ]
  },
  {
   "cell_type": "markdown",
   "id": "95a39b7e",
   "metadata": {},
   "source": [
    "그래프 데이터로 분류 작업 유용한 피쳐와 관계예측을 위한 방법을 이전의 두 포스트에서 확인했다. 이제 그래프에서 노드들을 클러스터하는 법에 대해 다루어보자. 또한 노드의 저차원 임베딩에 대해 다룬다."
   ]
  },
  {
   "cell_type": "markdown",
   "id": "db0c854e",
   "metadata": {},
   "source": [
    "## Graph Laplacians"
   ]
  },
  {
   "cell_type": "markdown",
   "id": "9f08025a",
   "metadata": {},
   "source": [
    "인접 행렬 다양한 변형으로 나타내며 유용한 수학적 속성들을 가진다."
   ]
  },
  {
   "cell_type": "markdown",
   "id": "fa5bdf52",
   "metadata": {},
   "source": [
    "### Unnormalized Laplacian\n",
    "\n",
    "가장 기본적인 라플라시안(Laplacian) 행렬\n",
    "\n",
    "$$L=D-A$$\n",
    "\n",
    "- $A$는 인접 행렬, $D$는 degree 행렬\n",
    "- 라플라시안 행렬의 속성\n",
    "  - symmetric, positive semi-definite\n",
    "  - $\\forall \\mathbf{x} \\in \\mathbb{R}^{|\\mathcal{V}|}$ , $\\mathbf{x}^{T}L\\mathbf{x} = \\sum_{(u,v)\\in \\mathcal{E}}(\\mathbf{x}[u]-\\mathbf{x}[v])^2$\n",
    "  - $L$은 $|V|$개의 비음수 eigenvalue를 가짐"
   ]
  },
  {
   "cell_type": "markdown",
   "id": "62912d7f",
   "metadata": {},
   "source": [
    "### Normalized Laplacian\n",
    "\n",
    "대칭 라플라시안:\n",
    "\n",
    "$$L_{sym}=D^{-\\frac{1}{2}}LD^{-\\frac{1}{2}}$$\n",
    "\n",
    "랜덤워크 라플라시안:\n",
    "\n",
    "$$L_{RW}=D^{-1}L$$"
   ]
  },
  {
   "cell_type": "markdown",
   "id": "6804233b",
   "metadata": {},
   "source": [
    "## Graph Cuts and Clustering"
   ]
  },
  {
   "cell_type": "markdown",
   "id": "03b7c226",
   "metadata": {},
   "source": [
    "fully connected 그래프에서 라플라시안이 노드의 최적 클러스터링을 하는데 사용되는 방법을 알아보자."
   ]
  },
  {
   "cell_type": "markdown",
   "id": "38da0628",
   "metadata": {},
   "source": [
    "**graph cuts**\n",
    "\n",
    "$\\mathcal{A} \\subset \\mathcal{V}$은 그래프의 노드의 하위집합을 나타내고 $\\bar{\\mathcal{A}}$은 이 집합의 여집합이라고 하자.\n",
    "\n",
    "그래프를 $K$개 중복되지 않는 하위집합으로 나누면 'cut value'를 다음과 같이 정의할 수 있다:\n",
    "\n",
    "$$\\text{cut}(\\mathcal{A}_1, \\dots, \\mathcal{A}_K) = \\frac{1}{2}\\sum^{K}_{k=1}|(u,v) \\in \\mathcal{E} : u \\in \\mathcal{A}_k, v \\in \\bar{\\mathcal{A}}_k|$$\n",
    "\n",
    "- cut은 노드의 파티션 사이 경계에 얼마나 많은 엣지가 있냐를 나타낸다.\n"
   ]
  },
  {
   "cell_type": "markdown",
   "id": "5be5bb5e",
   "metadata": {},
   "source": []
  },
  {
   "cell_type": "markdown",
   "id": "160e04a0",
   "metadata": {},
   "source": [
    "## Generalized Spectral Clustering"
   ]
  },
  {
   "cell_type": "markdown",
   "id": "2f86bc83",
   "metadata": {},
   "source": [
    "# 참고자료\n",
    "\n",
    "[1] Hamilton, W. L. (2020). *Graph Representation Learning.* Morgan & Claypool Publishers."
   ]
  }
 ],
 "metadata": {
  "kernelspec": {
   "display_name": "Python 3 (ipykernel)",
   "language": "python",
   "name": "python3"
  },
  "language_info": {
   "codemirror_mode": {
    "name": "ipython",
    "version": 3
   },
   "file_extension": ".py",
   "mimetype": "text/x-python",
   "name": "python",
   "nbconvert_exporter": "python",
   "pygments_lexer": "ipython3",
   "version": "3.11.4"
  }
 },
 "nbformat": 4,
 "nbformat_minor": 5
}
